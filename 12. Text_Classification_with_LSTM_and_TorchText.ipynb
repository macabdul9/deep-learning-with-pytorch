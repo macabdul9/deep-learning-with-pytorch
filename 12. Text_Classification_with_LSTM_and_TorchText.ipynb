{
  "nbformat": 4,
  "nbformat_minor": 0,
  "metadata": {
    "kernelspec": {
      "name": "python3",
      "display_name": "Python 3"
    },
    "colab": {
      "name": "LSTM-Text-Classification.ipynb",
      "provenance": [],
      "toc_visible": true
    },
    "accelerator": "GPU"
  },
  "cells": [
    {
      "cell_type": "code",
      "metadata": {
        "id": "xg_XXETNJam3",
        "colab_type": "code",
        "colab": {
          "base_uri": "https://localhost:8080/",
          "height": 377
        },
        "outputId": "4676eb78-4391-44fe-ff58-9f92d688bffc"
      },
      "source": [
        "!wget https://www.dropbox.com/s/41tegdrfqznjlzc/news.csv"
      ],
      "execution_count": 1,
      "outputs": [
        {
          "output_type": "stream",
          "text": [
            "--2020-07-04 00:06:59--  https://www.dropbox.com/s/41tegdrfqznjlzc/news.csv\n",
            "Resolving www.dropbox.com (www.dropbox.com)... 162.125.65.1, 2620:100:6021:1::a27d:4101\n",
            "Connecting to www.dropbox.com (www.dropbox.com)|162.125.65.1|:443... connected.\n",
            "HTTP request sent, awaiting response... 301 Moved Permanently\n",
            "Location: /s/raw/41tegdrfqznjlzc/news.csv [following]\n",
            "--2020-07-04 00:06:59--  https://www.dropbox.com/s/raw/41tegdrfqznjlzc/news.csv\n",
            "Reusing existing connection to www.dropbox.com:443.\n",
            "HTTP request sent, awaiting response... 302 Found\n",
            "Location: https://uc5ae2c13c498c187203d346450b.dl.dropboxusercontent.com/cd/0/inline/A61aoOMLM2VX8wnzrG2_s8qREOaoEdoOVlB9eD7hfhxksSNj9-DFkQW4vIjveDqEKWnmpT1XqlhP6CZn9zELcblpSlSpNR532kGjwA_l9D40pBu_WKcmhj_2lr1gmY6S2-I/file# [following]\n",
            "--2020-07-04 00:07:00--  https://uc5ae2c13c498c187203d346450b.dl.dropboxusercontent.com/cd/0/inline/A61aoOMLM2VX8wnzrG2_s8qREOaoEdoOVlB9eD7hfhxksSNj9-DFkQW4vIjveDqEKWnmpT1XqlhP6CZn9zELcblpSlSpNR532kGjwA_l9D40pBu_WKcmhj_2lr1gmY6S2-I/file\n",
            "Resolving uc5ae2c13c498c187203d346450b.dl.dropboxusercontent.com (uc5ae2c13c498c187203d346450b.dl.dropboxusercontent.com)... 162.125.65.15, 2620:100:6021:15::a27d:410f\n",
            "Connecting to uc5ae2c13c498c187203d346450b.dl.dropboxusercontent.com (uc5ae2c13c498c187203d346450b.dl.dropboxusercontent.com)|162.125.65.15|:443... connected.\n",
            "HTTP request sent, awaiting response... 200 OK\n",
            "Length: 30696129 (29M) [text/plain]\n",
            "Saving to: ‘news.csv’\n",
            "\n",
            "news.csv            100%[===================>]  29.27M  18.3MB/s    in 1.6s    \n",
            "\n",
            "2020-07-04 00:07:02 (18.3 MB/s) - ‘news.csv’ saved [30696129/30696129]\n",
            "\n"
          ],
          "name": "stdout"
        }
      ]
    },
    {
      "cell_type": "code",
      "metadata": {
        "id": "2GtvDE3zIKza",
        "colab_type": "code",
        "colab": {}
      },
      "source": [
        "import pandas as pd\n",
        "from sklearn.model_selection import train_test_split"
      ],
      "execution_count": 2,
      "outputs": []
    },
    {
      "cell_type": "code",
      "metadata": {
        "id": "4R4u9YfKIKzh",
        "colab_type": "code",
        "colab": {}
      },
      "source": [
        "import torch\n",
        "import torch.nn as nn\n",
        "import torchtext \n",
        "from torchtext.data import TabularDataset, Field, BucketIterator\n",
        "from tqdm import tqdm\n",
        "tqdm.pandas()"
      ],
      "execution_count": 3,
      "outputs": []
    },
    {
      "cell_type": "markdown",
      "metadata": {
        "id": "kUWL2g7eIKzk",
        "colab_type": "text"
      },
      "source": [
        "### Data Preprocessing\n",
        "- Dataset Source: https://www.kaggle.com/nopdev/real-and-fake-news-dataset"
      ]
    },
    {
      "cell_type": "code",
      "metadata": {
        "id": "M_5kl8WXIKzl",
        "colab_type": "code",
        "colab": {}
      },
      "source": [
        "data = pd.read_csv(\"news.csv\")"
      ],
      "execution_count": 4,
      "outputs": []
    },
    {
      "cell_type": "code",
      "metadata": {
        "id": "flbYDJP7IKzo",
        "colab_type": "code",
        "colab": {
          "base_uri": "https://localhost:8080/",
          "height": 204
        },
        "outputId": "4242acd5-19ef-4420-9dd5-a15f452f5850"
      },
      "source": [
        "data.head()"
      ],
      "execution_count": 5,
      "outputs": [
        {
          "output_type": "execute_result",
          "data": {
            "text/html": [
              "<div>\n",
              "<style scoped>\n",
              "    .dataframe tbody tr th:only-of-type {\n",
              "        vertical-align: middle;\n",
              "    }\n",
              "\n",
              "    .dataframe tbody tr th {\n",
              "        vertical-align: top;\n",
              "    }\n",
              "\n",
              "    .dataframe thead th {\n",
              "        text-align: right;\n",
              "    }\n",
              "</style>\n",
              "<table border=\"1\" class=\"dataframe\">\n",
              "  <thead>\n",
              "    <tr style=\"text-align: right;\">\n",
              "      <th></th>\n",
              "      <th>Unnamed: 0</th>\n",
              "      <th>title</th>\n",
              "      <th>text</th>\n",
              "      <th>label</th>\n",
              "    </tr>\n",
              "  </thead>\n",
              "  <tbody>\n",
              "    <tr>\n",
              "      <th>0</th>\n",
              "      <td>8476</td>\n",
              "      <td>You Can Smell Hillary’s Fear</td>\n",
              "      <td>Daniel Greenfield, a Shillman Journalism Fello...</td>\n",
              "      <td>FAKE</td>\n",
              "    </tr>\n",
              "    <tr>\n",
              "      <th>1</th>\n",
              "      <td>10294</td>\n",
              "      <td>Watch The Exact Moment Paul Ryan Committed Pol...</td>\n",
              "      <td>Google Pinterest Digg Linkedin Reddit Stumbleu...</td>\n",
              "      <td>FAKE</td>\n",
              "    </tr>\n",
              "    <tr>\n",
              "      <th>2</th>\n",
              "      <td>3608</td>\n",
              "      <td>Kerry to go to Paris in gesture of sympathy</td>\n",
              "      <td>U.S. Secretary of State John F. Kerry said Mon...</td>\n",
              "      <td>REAL</td>\n",
              "    </tr>\n",
              "    <tr>\n",
              "      <th>3</th>\n",
              "      <td>10142</td>\n",
              "      <td>Bernie supporters on Twitter erupt in anger ag...</td>\n",
              "      <td>— Kaydee King (@KaydeeKing) November 9, 2016 T...</td>\n",
              "      <td>FAKE</td>\n",
              "    </tr>\n",
              "    <tr>\n",
              "      <th>4</th>\n",
              "      <td>875</td>\n",
              "      <td>The Battle of New York: Why This Primary Matters</td>\n",
              "      <td>It's primary day in New York and front-runners...</td>\n",
              "      <td>REAL</td>\n",
              "    </tr>\n",
              "  </tbody>\n",
              "</table>\n",
              "</div>"
            ],
            "text/plain": [
              "   Unnamed: 0  ... label\n",
              "0        8476  ...  FAKE\n",
              "1       10294  ...  FAKE\n",
              "2        3608  ...  REAL\n",
              "3       10142  ...  FAKE\n",
              "4         875  ...  REAL\n",
              "\n",
              "[5 rows x 4 columns]"
            ]
          },
          "metadata": {
            "tags": []
          },
          "execution_count": 5
        }
      ]
    },
    {
      "cell_type": "code",
      "metadata": {
        "id": "UC8Vk7Q_IKzr",
        "colab_type": "code",
        "colab": {
          "base_uri": "https://localhost:8080/",
          "height": 34
        },
        "outputId": "c74728f9-fc57-4257-c282-ea0d4e73897c"
      },
      "source": [
        "# create length col\n",
        "data['len'] = data['text'].progress_apply(lambda t : len(t))"
      ],
      "execution_count": 6,
      "outputs": [
        {
          "output_type": "stream",
          "text": [
            "100%|██████████| 6335/6335 [00:00<00:00, 414400.03it/s]\n"
          ],
          "name": "stderr"
        }
      ]
    },
    {
      "cell_type": "code",
      "metadata": {
        "id": "-0oK-JCbIKzu",
        "colab_type": "code",
        "colab": {
          "base_uri": "https://localhost:8080/",
          "height": 170
        },
        "outputId": "fcf19c0c-753a-4930-ed82-7af7d525e718"
      },
      "source": [
        "data.len.describe()"
      ],
      "execution_count": 7,
      "outputs": [
        {
          "output_type": "execute_result",
          "data": {
            "text/plain": [
              "count      6335.000000\n",
              "mean       4707.250355\n",
              "std        5090.956446\n",
              "min           1.000000\n",
              "25%        1741.500000\n",
              "50%        3642.000000\n",
              "75%        6192.000000\n",
              "max      115372.000000\n",
              "Name: len, dtype: float64"
            ]
          },
          "metadata": {
            "tags": []
          },
          "execution_count": 7
        }
      ]
    },
    {
      "cell_type": "code",
      "metadata": {
        "id": "cpaVFM-kIKzx",
        "colab_type": "code",
        "colab": {}
      },
      "source": [
        "#### Cleaning -> drop rows with empty text\n",
        "data.drop(data[data.len < 10].index, inplace=True)"
      ],
      "execution_count": 8,
      "outputs": []
    },
    {
      "cell_type": "code",
      "metadata": {
        "id": "ZWE4m1Q7IKz1",
        "colab_type": "code",
        "colab": {
          "base_uri": "https://localhost:8080/",
          "height": 204
        },
        "outputId": "4c68f41a-d11b-401f-abf7-c5a48b591419"
      },
      "source": [
        "data.head()"
      ],
      "execution_count": 9,
      "outputs": [
        {
          "output_type": "execute_result",
          "data": {
            "text/html": [
              "<div>\n",
              "<style scoped>\n",
              "    .dataframe tbody tr th:only-of-type {\n",
              "        vertical-align: middle;\n",
              "    }\n",
              "\n",
              "    .dataframe tbody tr th {\n",
              "        vertical-align: top;\n",
              "    }\n",
              "\n",
              "    .dataframe thead th {\n",
              "        text-align: right;\n",
              "    }\n",
              "</style>\n",
              "<table border=\"1\" class=\"dataframe\">\n",
              "  <thead>\n",
              "    <tr style=\"text-align: right;\">\n",
              "      <th></th>\n",
              "      <th>Unnamed: 0</th>\n",
              "      <th>title</th>\n",
              "      <th>text</th>\n",
              "      <th>label</th>\n",
              "      <th>len</th>\n",
              "    </tr>\n",
              "  </thead>\n",
              "  <tbody>\n",
              "    <tr>\n",
              "      <th>0</th>\n",
              "      <td>8476</td>\n",
              "      <td>You Can Smell Hillary’s Fear</td>\n",
              "      <td>Daniel Greenfield, a Shillman Journalism Fello...</td>\n",
              "      <td>FAKE</td>\n",
              "      <td>7518</td>\n",
              "    </tr>\n",
              "    <tr>\n",
              "      <th>1</th>\n",
              "      <td>10294</td>\n",
              "      <td>Watch The Exact Moment Paul Ryan Committed Pol...</td>\n",
              "      <td>Google Pinterest Digg Linkedin Reddit Stumbleu...</td>\n",
              "      <td>FAKE</td>\n",
              "      <td>2646</td>\n",
              "    </tr>\n",
              "    <tr>\n",
              "      <th>2</th>\n",
              "      <td>3608</td>\n",
              "      <td>Kerry to go to Paris in gesture of sympathy</td>\n",
              "      <td>U.S. Secretary of State John F. Kerry said Mon...</td>\n",
              "      <td>REAL</td>\n",
              "      <td>2543</td>\n",
              "    </tr>\n",
              "    <tr>\n",
              "      <th>3</th>\n",
              "      <td>10142</td>\n",
              "      <td>Bernie supporters on Twitter erupt in anger ag...</td>\n",
              "      <td>— Kaydee King (@KaydeeKing) November 9, 2016 T...</td>\n",
              "      <td>FAKE</td>\n",
              "      <td>2660</td>\n",
              "    </tr>\n",
              "    <tr>\n",
              "      <th>4</th>\n",
              "      <td>875</td>\n",
              "      <td>The Battle of New York: Why This Primary Matters</td>\n",
              "      <td>It's primary day in New York and front-runners...</td>\n",
              "      <td>REAL</td>\n",
              "      <td>1840</td>\n",
              "    </tr>\n",
              "  </tbody>\n",
              "</table>\n",
              "</div>"
            ],
            "text/plain": [
              "   Unnamed: 0                                              title  ... label   len\n",
              "0        8476                       You Can Smell Hillary’s Fear  ...  FAKE  7518\n",
              "1       10294  Watch The Exact Moment Paul Ryan Committed Pol...  ...  FAKE  2646\n",
              "2        3608        Kerry to go to Paris in gesture of sympathy  ...  REAL  2543\n",
              "3       10142  Bernie supporters on Twitter erupt in anger ag...  ...  FAKE  2660\n",
              "4         875   The Battle of New York: Why This Primary Matters  ...  REAL  1840\n",
              "\n",
              "[5 rows x 5 columns]"
            ]
          },
          "metadata": {
            "tags": []
          },
          "execution_count": 9
        }
      ]
    },
    {
      "cell_type": "code",
      "metadata": {
        "id": "r8Yhj7GpIKz4",
        "colab_type": "code",
        "colab": {}
      },
      "source": [
        "data['label'] = (data['label'] == 'FAKE').astype('int')"
      ],
      "execution_count": 10,
      "outputs": []
    },
    {
      "cell_type": "code",
      "metadata": {
        "id": "y-6VeIuvIKz7",
        "colab_type": "code",
        "colab": {
          "base_uri": "https://localhost:8080/",
          "height": 204
        },
        "outputId": "44b31fe9-0cea-4308-9f83-51d79a15b171"
      },
      "source": [
        "data.head()"
      ],
      "execution_count": 11,
      "outputs": [
        {
          "output_type": "execute_result",
          "data": {
            "text/html": [
              "<div>\n",
              "<style scoped>\n",
              "    .dataframe tbody tr th:only-of-type {\n",
              "        vertical-align: middle;\n",
              "    }\n",
              "\n",
              "    .dataframe tbody tr th {\n",
              "        vertical-align: top;\n",
              "    }\n",
              "\n",
              "    .dataframe thead th {\n",
              "        text-align: right;\n",
              "    }\n",
              "</style>\n",
              "<table border=\"1\" class=\"dataframe\">\n",
              "  <thead>\n",
              "    <tr style=\"text-align: right;\">\n",
              "      <th></th>\n",
              "      <th>Unnamed: 0</th>\n",
              "      <th>title</th>\n",
              "      <th>text</th>\n",
              "      <th>label</th>\n",
              "      <th>len</th>\n",
              "    </tr>\n",
              "  </thead>\n",
              "  <tbody>\n",
              "    <tr>\n",
              "      <th>0</th>\n",
              "      <td>8476</td>\n",
              "      <td>You Can Smell Hillary’s Fear</td>\n",
              "      <td>Daniel Greenfield, a Shillman Journalism Fello...</td>\n",
              "      <td>1</td>\n",
              "      <td>7518</td>\n",
              "    </tr>\n",
              "    <tr>\n",
              "      <th>1</th>\n",
              "      <td>10294</td>\n",
              "      <td>Watch The Exact Moment Paul Ryan Committed Pol...</td>\n",
              "      <td>Google Pinterest Digg Linkedin Reddit Stumbleu...</td>\n",
              "      <td>1</td>\n",
              "      <td>2646</td>\n",
              "    </tr>\n",
              "    <tr>\n",
              "      <th>2</th>\n",
              "      <td>3608</td>\n",
              "      <td>Kerry to go to Paris in gesture of sympathy</td>\n",
              "      <td>U.S. Secretary of State John F. Kerry said Mon...</td>\n",
              "      <td>0</td>\n",
              "      <td>2543</td>\n",
              "    </tr>\n",
              "    <tr>\n",
              "      <th>3</th>\n",
              "      <td>10142</td>\n",
              "      <td>Bernie supporters on Twitter erupt in anger ag...</td>\n",
              "      <td>— Kaydee King (@KaydeeKing) November 9, 2016 T...</td>\n",
              "      <td>1</td>\n",
              "      <td>2660</td>\n",
              "    </tr>\n",
              "    <tr>\n",
              "      <th>4</th>\n",
              "      <td>875</td>\n",
              "      <td>The Battle of New York: Why This Primary Matters</td>\n",
              "      <td>It's primary day in New York and front-runners...</td>\n",
              "      <td>0</td>\n",
              "      <td>1840</td>\n",
              "    </tr>\n",
              "  </tbody>\n",
              "</table>\n",
              "</div>"
            ],
            "text/plain": [
              "   Unnamed: 0                                              title  ... label   len\n",
              "0        8476                       You Can Smell Hillary’s Fear  ...     1  7518\n",
              "1       10294  Watch The Exact Moment Paul Ryan Committed Pol...  ...     1  2646\n",
              "2        3608        Kerry to go to Paris in gesture of sympathy  ...     0  2543\n",
              "3       10142  Bernie supporters on Twitter erupt in anger ag...  ...     1  2660\n",
              "4         875   The Battle of New York: Why This Primary Matters  ...     0  1840\n",
              "\n",
              "[5 rows x 5 columns]"
            ]
          },
          "metadata": {
            "tags": []
          },
          "execution_count": 11
        }
      ]
    },
    {
      "cell_type": "code",
      "metadata": {
        "id": "bUYoQQIPIKz-",
        "colab_type": "code",
        "colab": {}
      },
      "source": [
        "data = data[[\"text\", \"label\"]]"
      ],
      "execution_count": 12,
      "outputs": []
    },
    {
      "cell_type": "code",
      "metadata": {
        "id": "c6yWZ76cIK0A",
        "colab_type": "code",
        "colab": {}
      },
      "source": [
        "train, test = train_test_split(data, test_size=0.1)"
      ],
      "execution_count": 13,
      "outputs": []
    },
    {
      "cell_type": "code",
      "metadata": {
        "id": "4up5D9uvIK0F",
        "colab_type": "code",
        "colab": {}
      },
      "source": [
        "train, valid = train_test_split(train, test_size=0.1)"
      ],
      "execution_count": 14,
      "outputs": []
    },
    {
      "cell_type": "code",
      "metadata": {
        "id": "ECI35swMIK0I",
        "colab_type": "code",
        "colab": {
          "base_uri": "https://localhost:8080/",
          "height": 34
        },
        "outputId": "30730351-55ea-4b98-abb6-d10f6a1e7843"
      },
      "source": [
        "print(train.shape, test.shape, valid.shape)"
      ],
      "execution_count": 15,
      "outputs": [
        {
          "output_type": "stream",
          "text": [
            "(5102, 2) (630, 2) (567, 2)\n"
          ],
          "name": "stdout"
        }
      ]
    },
    {
      "cell_type": "code",
      "metadata": {
        "id": "GlAbB-nFIK0L",
        "colab_type": "code",
        "colab": {}
      },
      "source": [
        "train.to_csv(\"train.csv\", index=False)\n",
        "test.to_csv(\"test.csv\", index=False)\n",
        "valid.to_csv(\"valid.csv\", index=False)"
      ],
      "execution_count": 16,
      "outputs": []
    },
    {
      "cell_type": "markdown",
      "metadata": {
        "id": "pTqyl359IK0N",
        "colab_type": "text"
      },
      "source": [
        "#### TorchText Preprocessing"
      ]
    },
    {
      "cell_type": "code",
      "metadata": {
        "id": "GE9zjcqxIK0O",
        "colab_type": "code",
        "colab": {}
      },
      "source": [
        "device = torch.device(\"cuda:0\" if torch.cuda.is_available() else \"cpu\")"
      ],
      "execution_count": 17,
      "outputs": []
    },
    {
      "cell_type": "code",
      "metadata": {
        "id": "v993c3VSIK0Q",
        "colab_type": "code",
        "colab": {}
      },
      "source": [
        "max_len = 5000"
      ],
      "execution_count": 20,
      "outputs": []
    },
    {
      "cell_type": "code",
      "metadata": {
        "id": "lwDH7g12IK0T",
        "colab_type": "code",
        "colab": {}
      },
      "source": [
        "label_field = Field(sequential=False, use_vocab=False, dtype=torch.float, batch_first=True, is_target=True)\n",
        "text_field = Field(tokenize=\"spacy\", lower=True, fix_length=max_len, include_lengths=True, batch_first=True)"
      ],
      "execution_count": 21,
      "outputs": []
    },
    {
      "cell_type": "code",
      "metadata": {
        "id": "N9aWpABtIK0W",
        "colab_type": "code",
        "colab": {}
      },
      "source": [
        "fields = [(\"text\", text_field), (\"label\", label_field)]"
      ],
      "execution_count": 22,
      "outputs": []
    },
    {
      "cell_type": "code",
      "metadata": {
        "id": "IMR8GxWJIK0Y",
        "colab_type": "code",
        "colab": {}
      },
      "source": [
        "train, test, valid = TabularDataset.splits(\n",
        "    path=\"./\", \n",
        "    train=\"train.csv\", \n",
        "    validation=\"valid.csv\", \n",
        "    test=\"test.csv\",\n",
        "    format=\"CSV\", \n",
        "    fields=fields, \n",
        "    skip_header=True)"
      ],
      "execution_count": 23,
      "outputs": []
    },
    {
      "cell_type": "code",
      "metadata": {
        "id": "VvCvNDynIK0a",
        "colab_type": "code",
        "colab": {}
      },
      "source": [
        "text_field.build_vocab(train,  min_freq=3)"
      ],
      "execution_count": 24,
      "outputs": []
    },
    {
      "cell_type": "code",
      "metadata": {
        "id": "07KTQNpRIK0d",
        "colab_type": "code",
        "colab": {}
      },
      "source": [
        "batch_size = 128\n",
        "device = torch.device(\"cuda:0\" if torch.cuda.is_available() else \"cpu\")"
      ],
      "execution_count": 26,
      "outputs": []
    },
    {
      "cell_type": "code",
      "metadata": {
        "id": "suimEIotIK0f",
        "colab_type": "code",
        "colab": {}
      },
      "source": [
        "train_loader = BucketIterator(\n",
        "    dataset=train,\n",
        "    batch_size=batch_size,\n",
        "    sort_key=lambda x : len(x.text),\n",
        "    sort=True,\n",
        "    sort_within_batch=True,\n",
        "    device=device,\n",
        "\n",
        ")\n",
        "test_laoder = BucketIterator(\n",
        "    dataset=test,\n",
        "    batch_size=batch_size,\n",
        "    sort_key=lambda x : len(x.text),\n",
        "    sort_within_batch=True,\n",
        "    sort=True,\n",
        "    device=device,\n",
        ")\n",
        "valid_loader = BucketIterator(\n",
        "    dataset=valid,\n",
        "    batch_size=batch_size,\n",
        "    sort_key=lambda x : len(x.text),\n",
        "    sort=True,\n",
        "    sort_within_batch=True,\n",
        "    device=device,\n",
        ")"
      ],
      "execution_count": 29,
      "outputs": []
    },
    {
      "cell_type": "code",
      "metadata": {
        "id": "50gWtPudIK0i",
        "colab_type": "code",
        "colab": {
          "base_uri": "https://localhost:8080/",
          "height": 51
        },
        "outputId": "49376ece-86fa-4a0c-f998-33a5e5c0e9b9"
      },
      "source": [
        "for (text, _), labels in train_loader:\n",
        "    print(type(text), type(labels))\n",
        "    print(text.shape, labels.shape)\n",
        "    break"
      ],
      "execution_count": 30,
      "outputs": [
        {
          "output_type": "stream",
          "text": [
            "<class 'torch.Tensor'> <class 'torch.Tensor'>\n",
            "torch.Size([128, 5000]) torch.Size([128])\n"
          ],
          "name": "stdout"
        }
      ]
    },
    {
      "cell_type": "code",
      "metadata": {
        "id": "-ChhNGPJKKxT",
        "colab_type": "code",
        "colab": {
          "base_uri": "https://localhost:8080/",
          "height": 34
        },
        "outputId": "6a061e26-a14c-44f6-d0a7-c266ce19113b"
      },
      "source": [
        "len(train_loader)"
      ],
      "execution_count": 31,
      "outputs": [
        {
          "output_type": "execute_result",
          "data": {
            "text/plain": [
              "40"
            ]
          },
          "metadata": {
            "tags": []
          },
          "execution_count": 31
        }
      ]
    },
    {
      "cell_type": "markdown",
      "metadata": {
        "id": "sK0TMBq6IK0l",
        "colab_type": "text"
      },
      "source": [
        "### Model "
      ]
    },
    {
      "cell_type": "code",
      "metadata": {
        "id": "dU_RDAQMIK0l",
        "colab_type": "code",
        "colab": {}
      },
      "source": [
        "class LSTM(nn.Module):\n",
        "    \n",
        "    def __init__(self, embedding_dim=300, hidden_dim=128, num_classes = 1):\n",
        "        super(LSTM, self).__init__()\n",
        "        \n",
        "        self.hidden_dim = hidden_dim\n",
        "        self.embedding = nn.Embedding(num_embeddings=len(text_field.vocab), embedding_dim=embedding_dim)\n",
        "        self.lstm = nn.LSTM(\n",
        "            input_size=embedding_dim,\n",
        "            hidden_size=hidden_dim,\n",
        "            num_layers=2,\n",
        "            batch_first=True,\n",
        "            bidirectional=True\n",
        "        )\n",
        "        self.dropout = nn.Dropout(p=0.2)\n",
        "        self.out = nn.Linear(in_features=2*hidden_dim, out_features=num_classes)\n",
        "        \n",
        "    def forward(self, text, text_len):\n",
        "        \n",
        "        embedded = self.embedding(text)\n",
        "        packed_input = nn.utils.rnn.pack_padded_sequence(input=embedded, lengths=text_len, batch_first=True, enforce_sorted=False)\n",
        "        packed_output, _ = self.lstm(packed_input)\n",
        "        output, _ = nn.utils.rnn.pad_packed_sequence(sequence=packed_output, batch_first=True)\n",
        "        \n",
        "        out_forward = output[range(len(output)), text_len - 1, :self.hidden_dim]\n",
        "        out_reverse = output[:, 0, self.hidden_dim:]\n",
        "        out_reduced = torch.cat((out_forward, out_reverse), 1)\n",
        "        text_fea = self.dropout(out_reduced)\n",
        "\n",
        "        text_fea = self.out(text_fea)\n",
        "        text_fea = torch.squeeze(text_fea, 1)\n",
        "        text_out = torch.sigmoid(text_fea)\n",
        "\n",
        "        return text_out\n",
        "        "
      ],
      "execution_count": 32,
      "outputs": []
    },
    {
      "cell_type": "markdown",
      "metadata": {
        "id": "Fnkk7N2dIK0o",
        "colab_type": "text"
      },
      "source": [
        "### Training"
      ]
    },
    {
      "cell_type": "code",
      "metadata": {
        "id": "74cv3vrMIK0p",
        "colab_type": "code",
        "colab": {}
      },
      "source": [
        "import torch.utils.tensorboard as tensorboard"
      ],
      "execution_count": 33,
      "outputs": []
    },
    {
      "cell_type": "code",
      "metadata": {
        "id": "JaW6YWi2IK0s",
        "colab_type": "code",
        "colab": {}
      },
      "source": [
        "def accuracy(y, y_hat):\n",
        "    y_hat = [1 if x.item() > 0.5 else 0 for x in y_hat]\n",
        "    correct = 0\n",
        "    for i in range(len(y_hat)):\n",
        "        if y_hat[i]==y[i].item():\n",
        "            correct +=1\n",
        "    acc = correct/len(y_hat)\n",
        "    return acc\n",
        "\n",
        "def eval(model, data_loader):\n",
        "    with torch.no_grad():\n",
        "        acc = []\n",
        "        losses = []\n",
        "        for step, ((text, text_len), labels) in enumerate(data_loader):\n",
        "            text = text.to(device)\n",
        "            labels = labels.to(device)\n",
        "            text_len = text_len.to(device)\n",
        "            outputs = model(text, text_len)\n",
        "            losses.append(criterion(outputs, labels).item())\n",
        "            acc.append(accuracy(labels, outputs.detach()))\n",
        "        return sum(acc)/len(acc), sum(losses)/len(losses)"
      ],
      "execution_count": 34,
      "outputs": []
    },
    {
      "cell_type": "code",
      "metadata": {
        "id": "m5rGKKdiIK0u",
        "colab_type": "code",
        "colab": {}
      },
      "source": [
        "# model, loss, optimizer and tensorboard logger\n",
        "model = LSTM().to(device)\n",
        "criterion = nn.MSELoss().to(device)\n",
        "optimizer = torch.optim.Adam(params=model.parameters(), lr=1e-3)\n",
        "writer = tensorboard.SummaryWriter()"
      ],
      "execution_count": 42,
      "outputs": []
    },
    {
      "cell_type": "code",
      "metadata": {
        "id": "BVzIPsJtIK0x",
        "colab_type": "code",
        "colab": {
          "base_uri": "https://localhost:8080/",
          "height": 1000
        },
        "outputId": "bd27da51-eafc-41a6-9e05-3c658090b9d5"
      },
      "source": [
        "steps = 0\n",
        "epochs = 20\n",
        "epoch_progress = tqdm(total=epochs, desc=\"Epoch\", position=0)\n",
        "\n",
        "for epoch in range(epochs):\n",
        "    epoch_train_loss = []\n",
        "    epoch_train_acc = []\n",
        "    \n",
        "    step_progress = tqdm(total=len(train_loader), desc=\"Step\", position=0)\n",
        "    \n",
        "    for step, ((text, text_len), labels) in enumerate(train_loader):\n",
        "        \n",
        "        text = text.to(device)\n",
        "        labels = labels.to(device)\n",
        "        text_len = text_len.to(device)\n",
        "        \n",
        "        outputs = model(text, text_len)\n",
        "        \n",
        "        optimizer.zero_grad()\n",
        "        loss = criterion(outputs, labels)\n",
        "        loss.backward()\n",
        "        optimizer.step()\n",
        "        \n",
        "        acc = accuracy(labels, outputs.detach())\n",
        "        val_acc, val_loss = eval(model, valid_loader)\n",
        "\n",
        "        if steps%20==0:\n",
        "            print(f'Epoch {epoch} | Step {step} | Train_loss {loss.item():.4f} | Train_acc {acc:.4f} | Val_loss {val_loss:.4f} | Val_acc {val_acc:.4f}')\n",
        "\n",
        "        writer.add_scalar(\"Step Training_loss\", loss.item(), steps)\n",
        "        writer.add_scalar(\"Step Training_acc\", acc, steps)\n",
        "        writer.add_scalar(\"Step Val_acc\", val_acc, steps)\n",
        "        writer.add_scalar(\"Step Val_loss\", val_loss, steps)\n",
        "        \n",
        "        epoch_train_loss.append(loss.item())\n",
        "        epoch_train_acc.append(acc)\n",
        "        \n",
        "        step_progress.update(1)\n",
        "        steps +=1 \n",
        "        \n",
        "    avg_loss = sum(epoch_train_loss)/len(epoch_train_loss)\n",
        "    avg_acc = sum(epoch_train_acc)/len(epoch_train_acc)\n",
        "    val_acc, val_loss = eval(model, valid_iter)\n",
        "    print(f\"Epoch {epoch} | Train_loss {avg_loss:.4f} | Train_acc {avg_acc:.4f} | Val_loss {val_loss:.4f} | Val_acc {val_acc:.4f}\")\n",
        "    \n",
        "    writer.add_scalar(\"Epoch Train_loss\", loss.item(), steps)\n",
        "    writer.add_scalar(\"Epoch Train_acc\", acc, steps)\n",
        "    writer.add_scalar(\"Epoch Val_acc\", val_acc, steps)\n",
        "    writer.add_scalar(\"Epoch Val_loss\", val_loss, steps)\n",
        "    \n",
        "    epoch_progress.update(1)"
      ],
      "execution_count": 43,
      "outputs": [
        {
          "output_type": "stream",
          "text": [
            "Step:   2%|▎         | 1/40 [00:01<00:56,  1.46s/it]"
          ],
          "name": "stderr"
        },
        {
          "output_type": "stream",
          "text": [
            "Epoch 0 | Step 0 | Train_loss 0.2550 | Train_acc 0.2734 | Val_loss 0.2425 | Val_acc 0.6702\n"
          ],
          "name": "stdout"
        },
        {
          "output_type": "stream",
          "text": [
            "Step:  52%|█████▎    | 21/40 [00:31<00:30,  1.61s/it]"
          ],
          "name": "stderr"
        },
        {
          "output_type": "stream",
          "text": [
            "Epoch 0 | Step 20 | Train_loss 0.1763 | Train_acc 0.6797 | Val_loss 0.1788 | Val_acc 0.7095\n"
          ],
          "name": "stdout"
        },
        {
          "output_type": "stream",
          "text": [
            "Step:   0%|          | 0/40 [00:00<?, ?it/s]"
          ],
          "name": "stderr"
        },
        {
          "output_type": "stream",
          "text": [
            "Epoch 0 | Train_loss 0.1719 | Train_acc 0.7245 | Val_loss 0.0998 | Val_acc 0.8768\n"
          ],
          "name": "stdout"
        },
        {
          "output_type": "stream",
          "text": [
            "\rStep:   2%|▎         | 1/40 [00:01<00:53,  1.37s/it]"
          ],
          "name": "stderr"
        },
        {
          "output_type": "stream",
          "text": [
            "Epoch 1 | Step 0 | Train_loss 0.0439 | Train_acc 0.9062 | Val_loss 0.1391 | Val_acc 0.8245\n"
          ],
          "name": "stdout"
        },
        {
          "output_type": "stream",
          "text": [
            "Step:  52%|█████▎    | 21/40 [00:31<00:30,  1.62s/it]"
          ],
          "name": "stderr"
        },
        {
          "output_type": "stream",
          "text": [
            "Epoch 1 | Step 20 | Train_loss 0.0734 | Train_acc 0.9062 | Val_loss 0.0789 | Val_acc 0.9069\n"
          ],
          "name": "stdout"
        },
        {
          "output_type": "stream",
          "text": [
            "Step:   0%|          | 0/40 [00:00<?, ?it/s]"
          ],
          "name": "stderr"
        },
        {
          "output_type": "stream",
          "text": [
            "Epoch 1 | Train_loss 0.0824 | Train_acc 0.8908 | Val_loss 0.0780 | Val_acc 0.9005\n"
          ],
          "name": "stdout"
        },
        {
          "output_type": "stream",
          "text": [
            "\rStep:   2%|▎         | 1/40 [00:01<00:52,  1.35s/it]"
          ],
          "name": "stderr"
        },
        {
          "output_type": "stream",
          "text": [
            "Epoch 2 | Step 0 | Train_loss 0.0071 | Train_acc 0.9922 | Val_loss 0.0727 | Val_acc 0.9036\n"
          ],
          "name": "stdout"
        },
        {
          "output_type": "stream",
          "text": [
            "Step:  52%|█████▎    | 21/40 [00:31<00:30,  1.61s/it]"
          ],
          "name": "stderr"
        },
        {
          "output_type": "stream",
          "text": [
            "Epoch 2 | Step 20 | Train_loss 0.0913 | Train_acc 0.8594 | Val_loss 0.1362 | Val_acc 0.7862\n"
          ],
          "name": "stdout"
        },
        {
          "output_type": "stream",
          "text": [
            "Step:   0%|          | 0/40 [00:00<?, ?it/s]"
          ],
          "name": "stderr"
        },
        {
          "output_type": "stream",
          "text": [
            "Epoch 2 | Train_loss 0.0694 | Train_acc 0.9031 | Val_loss 0.0459 | Val_acc 0.9409\n"
          ],
          "name": "stdout"
        },
        {
          "output_type": "stream",
          "text": [
            "\rStep:   2%|▎         | 1/40 [00:01<00:51,  1.33s/it]"
          ],
          "name": "stderr"
        },
        {
          "output_type": "stream",
          "text": [
            "Epoch 3 | Step 0 | Train_loss 0.0056 | Train_acc 1.0000 | Val_loss 0.0386 | Val_acc 0.9443\n"
          ],
          "name": "stdout"
        },
        {
          "output_type": "stream",
          "text": [
            "Step:  52%|█████▎    | 21/40 [00:31<00:30,  1.62s/it]"
          ],
          "name": "stderr"
        },
        {
          "output_type": "stream",
          "text": [
            "Epoch 3 | Step 20 | Train_loss 0.0207 | Train_acc 0.9766 | Val_loss 0.0368 | Val_acc 0.9453\n"
          ],
          "name": "stdout"
        },
        {
          "output_type": "stream",
          "text": [
            "Step:   0%|          | 0/40 [00:00<?, ?it/s]"
          ],
          "name": "stderr"
        },
        {
          "output_type": "stream",
          "text": [
            "Epoch 3 | Train_loss 0.0308 | Train_acc 0.9612 | Val_loss 0.0352 | Val_acc 0.9523\n"
          ],
          "name": "stdout"
        },
        {
          "output_type": "stream",
          "text": [
            "\rStep:   2%|▎         | 1/40 [00:01<00:54,  1.40s/it]"
          ],
          "name": "stderr"
        },
        {
          "output_type": "stream",
          "text": [
            "Epoch 4 | Step 0 | Train_loss 0.0041 | Train_acc 1.0000 | Val_loss 0.0360 | Val_acc 0.9474\n"
          ],
          "name": "stdout"
        },
        {
          "output_type": "stream",
          "text": [
            "Step:  52%|█████▎    | 21/40 [00:31<00:31,  1.63s/it]"
          ],
          "name": "stderr"
        },
        {
          "output_type": "stream",
          "text": [
            "Epoch 4 | Step 20 | Train_loss 0.0110 | Train_acc 0.9922 | Val_loss 0.0535 | Val_acc 0.9363\n"
          ],
          "name": "stdout"
        },
        {
          "output_type": "stream",
          "text": [
            "Step:   0%|          | 0/40 [00:00<?, ?it/s]"
          ],
          "name": "stderr"
        },
        {
          "output_type": "stream",
          "text": [
            "Epoch 4 | Train_loss 0.0216 | Train_acc 0.9757 | Val_loss 0.0322 | Val_acc 0.9522\n"
          ],
          "name": "stdout"
        },
        {
          "output_type": "stream",
          "text": [
            "\rStep:   2%|▎         | 1/40 [00:01<00:53,  1.36s/it]"
          ],
          "name": "stderr"
        },
        {
          "output_type": "stream",
          "text": [
            "Epoch 5 | Step 0 | Train_loss 0.0021 | Train_acc 1.0000 | Val_loss 0.0384 | Val_acc 0.9427\n"
          ],
          "name": "stdout"
        },
        {
          "output_type": "stream",
          "text": [
            "Step:  52%|█████▎    | 21/40 [00:31<00:30,  1.62s/it]"
          ],
          "name": "stderr"
        },
        {
          "output_type": "stream",
          "text": [
            "Epoch 5 | Step 20 | Train_loss 0.0133 | Train_acc 0.9922 | Val_loss 0.0337 | Val_acc 0.9552\n"
          ],
          "name": "stdout"
        },
        {
          "output_type": "stream",
          "text": [
            "Step:   0%|          | 0/40 [00:00<?, ?it/s]"
          ],
          "name": "stderr"
        },
        {
          "output_type": "stream",
          "text": [
            "Epoch 5 | Train_loss 0.0242 | Train_acc 0.9710 | Val_loss 0.0260 | Val_acc 0.9698\n"
          ],
          "name": "stdout"
        },
        {
          "output_type": "stream",
          "text": [
            "\rStep:   2%|▎         | 1/40 [00:01<00:52,  1.35s/it]"
          ],
          "name": "stderr"
        },
        {
          "output_type": "stream",
          "text": [
            "Epoch 6 | Step 0 | Train_loss 0.0013 | Train_acc 1.0000 | Val_loss 0.0264 | Val_acc 0.9682\n"
          ],
          "name": "stdout"
        },
        {
          "output_type": "stream",
          "text": [
            "Step:  52%|█████▎    | 21/40 [00:31<00:30,  1.61s/it]"
          ],
          "name": "stderr"
        },
        {
          "output_type": "stream",
          "text": [
            "Epoch 6 | Step 20 | Train_loss 0.0073 | Train_acc 0.9922 | Val_loss 0.0308 | Val_acc 0.9635\n"
          ],
          "name": "stdout"
        },
        {
          "output_type": "stream",
          "text": [
            "Step:   0%|          | 0/40 [00:00<?, ?it/s]"
          ],
          "name": "stderr"
        },
        {
          "output_type": "stream",
          "text": [
            "Epoch 6 | Train_loss 0.0079 | Train_acc 0.9908 | Val_loss 0.0216 | Val_acc 0.9747\n"
          ],
          "name": "stdout"
        },
        {
          "output_type": "stream",
          "text": [
            "\rStep:   2%|▎         | 1/40 [00:01<00:53,  1.37s/it]"
          ],
          "name": "stderr"
        },
        {
          "output_type": "stream",
          "text": [
            "Epoch 7 | Step 0 | Train_loss 0.0004 | Train_acc 1.0000 | Val_loss 0.0215 | Val_acc 0.9730\n"
          ],
          "name": "stdout"
        },
        {
          "output_type": "stream",
          "text": [
            "Step:  52%|█████▎    | 21/40 [00:32<00:31,  1.65s/it]"
          ],
          "name": "stderr"
        },
        {
          "output_type": "stream",
          "text": [
            "Epoch 7 | Step 20 | Train_loss 0.0011 | Train_acc 1.0000 | Val_loss 0.0313 | Val_acc 0.9652\n"
          ],
          "name": "stdout"
        },
        {
          "output_type": "stream",
          "text": [
            "Step:   0%|          | 0/40 [00:00<?, ?it/s]"
          ],
          "name": "stderr"
        },
        {
          "output_type": "stream",
          "text": [
            "Epoch 7 | Train_loss 0.0036 | Train_acc 0.9971 | Val_loss 0.0204 | Val_acc 0.9746\n"
          ],
          "name": "stdout"
        },
        {
          "output_type": "stream",
          "text": [
            "\rStep:   2%|▎         | 1/40 [00:01<00:53,  1.37s/it]"
          ],
          "name": "stderr"
        },
        {
          "output_type": "stream",
          "text": [
            "Epoch 8 | Step 0 | Train_loss 0.0003 | Train_acc 1.0000 | Val_loss 0.0204 | Val_acc 0.9746\n"
          ],
          "name": "stdout"
        },
        {
          "output_type": "stream",
          "text": [
            "Step:  52%|█████▎    | 21/40 [00:31<00:30,  1.63s/it]"
          ],
          "name": "stderr"
        },
        {
          "output_type": "stream",
          "text": [
            "Epoch 8 | Step 20 | Train_loss 0.0004 | Train_acc 1.0000 | Val_loss 0.0327 | Val_acc 0.9587\n"
          ],
          "name": "stdout"
        },
        {
          "output_type": "stream",
          "text": [
            "Step:   0%|          | 0/40 [00:00<?, ?it/s]"
          ],
          "name": "stderr"
        },
        {
          "output_type": "stream",
          "text": [
            "Epoch 8 | Train_loss 0.0025 | Train_acc 0.9977 | Val_loss 0.0183 | Val_acc 0.9794\n"
          ],
          "name": "stdout"
        },
        {
          "output_type": "stream",
          "text": [
            "\rStep:   2%|▎         | 1/40 [00:01<00:52,  1.35s/it]"
          ],
          "name": "stderr"
        },
        {
          "output_type": "stream",
          "text": [
            "Epoch 9 | Step 0 | Train_loss 0.0003 | Train_acc 1.0000 | Val_loss 0.0187 | Val_acc 0.9794\n"
          ],
          "name": "stdout"
        },
        {
          "output_type": "stream",
          "text": [
            "Step:  52%|█████▎    | 21/40 [00:31<00:30,  1.62s/it]"
          ],
          "name": "stderr"
        },
        {
          "output_type": "stream",
          "text": [
            "Epoch 9 | Step 20 | Train_loss 0.0094 | Train_acc 0.9922 | Val_loss 0.0420 | Val_acc 0.9475\n"
          ],
          "name": "stdout"
        },
        {
          "output_type": "stream",
          "text": [
            "Step:   0%|          | 0/40 [00:00<?, ?it/s]"
          ],
          "name": "stderr"
        },
        {
          "output_type": "stream",
          "text": [
            "Epoch 9 | Train_loss 0.0022 | Train_acc 0.9982 | Val_loss 0.0179 | Val_acc 0.9779\n"
          ],
          "name": "stdout"
        },
        {
          "output_type": "stream",
          "text": [
            "\rStep:   2%|▎         | 1/40 [00:01<00:53,  1.37s/it]"
          ],
          "name": "stderr"
        },
        {
          "output_type": "stream",
          "text": [
            "Epoch 10 | Step 0 | Train_loss 0.0002 | Train_acc 1.0000 | Val_loss 0.0180 | Val_acc 0.9779\n"
          ],
          "name": "stdout"
        },
        {
          "output_type": "stream",
          "text": [
            "Step:  52%|█████▎    | 21/40 [00:31<00:30,  1.62s/it]"
          ],
          "name": "stderr"
        },
        {
          "output_type": "stream",
          "text": [
            "Epoch 10 | Step 20 | Train_loss 0.0006 | Train_acc 1.0000 | Val_loss 0.0261 | Val_acc 0.9699\n"
          ],
          "name": "stdout"
        },
        {
          "output_type": "stream",
          "text": [
            "Step:   0%|          | 0/40 [00:00<?, ?it/s]"
          ],
          "name": "stderr"
        },
        {
          "output_type": "stream",
          "text": [
            "Epoch 10 | Train_loss 0.0028 | Train_acc 0.9967 | Val_loss 0.0176 | Val_acc 0.9810\n"
          ],
          "name": "stdout"
        },
        {
          "output_type": "stream",
          "text": [
            "\rStep:   2%|▎         | 1/40 [00:01<00:53,  1.37s/it]"
          ],
          "name": "stderr"
        },
        {
          "output_type": "stream",
          "text": [
            "Epoch 11 | Step 0 | Train_loss 0.0004 | Train_acc 1.0000 | Val_loss 0.0184 | Val_acc 0.9794\n"
          ],
          "name": "stdout"
        },
        {
          "output_type": "stream",
          "text": [
            "Step:  52%|█████▎    | 21/40 [00:31<00:30,  1.62s/it]"
          ],
          "name": "stderr"
        },
        {
          "output_type": "stream",
          "text": [
            "Epoch 11 | Step 20 | Train_loss 0.0012 | Train_acc 1.0000 | Val_loss 0.0173 | Val_acc 0.9796\n"
          ],
          "name": "stdout"
        },
        {
          "output_type": "stream",
          "text": [
            "Step:   0%|          | 0/40 [00:00<?, ?it/s]"
          ],
          "name": "stderr"
        },
        {
          "output_type": "stream",
          "text": [
            "Epoch 11 | Train_loss 0.0015 | Train_acc 0.9992 | Val_loss 0.0161 | Val_acc 0.9811\n"
          ],
          "name": "stdout"
        },
        {
          "output_type": "stream",
          "text": [
            "\rStep:   2%|▎         | 1/40 [00:01<00:52,  1.34s/it]"
          ],
          "name": "stderr"
        },
        {
          "output_type": "stream",
          "text": [
            "Epoch 12 | Step 0 | Train_loss 0.0003 | Train_acc 1.0000 | Val_loss 0.0155 | Val_acc 0.9811\n"
          ],
          "name": "stdout"
        },
        {
          "output_type": "stream",
          "text": [
            "Step:  52%|█████▎    | 21/40 [00:31<00:30,  1.62s/it]"
          ],
          "name": "stderr"
        },
        {
          "output_type": "stream",
          "text": [
            "Epoch 12 | Step 20 | Train_loss 0.0001 | Train_acc 1.0000 | Val_loss 0.0176 | Val_acc 0.9794\n"
          ],
          "name": "stdout"
        },
        {
          "output_type": "stream",
          "text": [
            "Step:   0%|          | 0/40 [00:00<?, ?it/s]"
          ],
          "name": "stderr"
        },
        {
          "output_type": "stream",
          "text": [
            "Epoch 12 | Train_loss 0.0010 | Train_acc 0.9990 | Val_loss 0.0170 | Val_acc 0.9811\n"
          ],
          "name": "stdout"
        },
        {
          "output_type": "stream",
          "text": [
            "\rStep:   2%|▎         | 1/40 [00:01<00:53,  1.37s/it]"
          ],
          "name": "stderr"
        },
        {
          "output_type": "stream",
          "text": [
            "Epoch 13 | Step 0 | Train_loss 0.0001 | Train_acc 1.0000 | Val_loss 0.0170 | Val_acc 0.9811\n"
          ],
          "name": "stdout"
        },
        {
          "output_type": "stream",
          "text": [
            "Step:  52%|█████▎    | 21/40 [00:31<00:30,  1.62s/it]"
          ],
          "name": "stderr"
        },
        {
          "output_type": "stream",
          "text": [
            "Epoch 13 | Step 20 | Train_loss 0.0001 | Train_acc 1.0000 | Val_loss 0.0152 | Val_acc 0.9796\n"
          ],
          "name": "stdout"
        },
        {
          "output_type": "stream",
          "text": [
            "Step:   0%|          | 0/40 [00:00<?, ?it/s]"
          ],
          "name": "stderr"
        },
        {
          "output_type": "stream",
          "text": [
            "Epoch 13 | Train_loss 0.0003 | Train_acc 0.9998 | Val_loss 0.0155 | Val_acc 0.9811\n"
          ],
          "name": "stdout"
        },
        {
          "output_type": "stream",
          "text": [
            "\rStep:   2%|▎         | 1/40 [00:01<00:51,  1.33s/it]"
          ],
          "name": "stderr"
        },
        {
          "output_type": "stream",
          "text": [
            "Epoch 14 | Step 0 | Train_loss 0.0002 | Train_acc 1.0000 | Val_loss 0.0151 | Val_acc 0.9811\n"
          ],
          "name": "stdout"
        },
        {
          "output_type": "stream",
          "text": [
            "Step:  52%|█████▎    | 21/40 [00:31<00:30,  1.60s/it]"
          ],
          "name": "stderr"
        },
        {
          "output_type": "stream",
          "text": [
            "Epoch 14 | Step 20 | Train_loss 0.0001 | Train_acc 1.0000 | Val_loss 0.0155 | Val_acc 0.9811\n"
          ],
          "name": "stdout"
        },
        {
          "output_type": "stream",
          "text": [
            "Step:   0%|          | 0/40 [00:00<?, ?it/s]"
          ],
          "name": "stderr"
        },
        {
          "output_type": "stream",
          "text": [
            "Epoch 14 | Train_loss 0.0002 | Train_acc 0.9998 | Val_loss 0.0153 | Val_acc 0.9811\n"
          ],
          "name": "stdout"
        },
        {
          "output_type": "stream",
          "text": [
            "\rStep:   2%|▎         | 1/40 [00:01<00:51,  1.32s/it]"
          ],
          "name": "stderr"
        },
        {
          "output_type": "stream",
          "text": [
            "Epoch 15 | Step 0 | Train_loss 0.0001 | Train_acc 1.0000 | Val_loss 0.0147 | Val_acc 0.9811\n"
          ],
          "name": "stdout"
        },
        {
          "output_type": "stream",
          "text": [
            "Step:  52%|█████▎    | 21/40 [00:31<00:30,  1.60s/it]"
          ],
          "name": "stderr"
        },
        {
          "output_type": "stream",
          "text": [
            "Epoch 15 | Step 20 | Train_loss 0.0000 | Train_acc 1.0000 | Val_loss 0.0151 | Val_acc 0.9827\n"
          ],
          "name": "stdout"
        },
        {
          "output_type": "stream",
          "text": [
            "Step:   0%|          | 0/40 [00:00<?, ?it/s]"
          ],
          "name": "stderr"
        },
        {
          "output_type": "stream",
          "text": [
            "Epoch 15 | Train_loss 0.0001 | Train_acc 1.0000 | Val_loss 0.0150 | Val_acc 0.9827\n"
          ],
          "name": "stdout"
        },
        {
          "output_type": "stream",
          "text": [
            "\rStep:   2%|▎         | 1/40 [00:01<00:51,  1.33s/it]"
          ],
          "name": "stderr"
        },
        {
          "output_type": "stream",
          "text": [
            "Epoch 16 | Step 0 | Train_loss 0.0001 | Train_acc 1.0000 | Val_loss 0.0151 | Val_acc 0.9827\n"
          ],
          "name": "stdout"
        },
        {
          "output_type": "stream",
          "text": [
            "Step:  52%|█████▎    | 21/40 [00:30<00:30,  1.59s/it]"
          ],
          "name": "stderr"
        },
        {
          "output_type": "stream",
          "text": [
            "Epoch 16 | Step 20 | Train_loss 0.0000 | Train_acc 1.0000 | Val_loss 0.0154 | Val_acc 0.9811\n"
          ],
          "name": "stdout"
        },
        {
          "output_type": "stream",
          "text": [
            "Step:   0%|          | 0/40 [00:00<?, ?it/s]"
          ],
          "name": "stderr"
        },
        {
          "output_type": "stream",
          "text": [
            "Epoch 16 | Train_loss 0.0001 | Train_acc 1.0000 | Val_loss 0.0152 | Val_acc 0.9827\n"
          ],
          "name": "stdout"
        },
        {
          "output_type": "stream",
          "text": [
            "\rStep:   2%|▎         | 1/40 [00:01<00:51,  1.32s/it]"
          ],
          "name": "stderr"
        },
        {
          "output_type": "stream",
          "text": [
            "Epoch 17 | Step 0 | Train_loss 0.0000 | Train_acc 1.0000 | Val_loss 0.0153 | Val_acc 0.9827\n"
          ],
          "name": "stdout"
        },
        {
          "output_type": "stream",
          "text": [
            "Step:  52%|█████▎    | 21/40 [00:30<00:30,  1.59s/it]"
          ],
          "name": "stderr"
        },
        {
          "output_type": "stream",
          "text": [
            "Epoch 17 | Step 20 | Train_loss 0.0000 | Train_acc 1.0000 | Val_loss 0.0157 | Val_acc 0.9811\n"
          ],
          "name": "stdout"
        },
        {
          "output_type": "stream",
          "text": [
            "Step:   0%|          | 0/40 [00:00<?, ?it/s]"
          ],
          "name": "stderr"
        },
        {
          "output_type": "stream",
          "text": [
            "Epoch 17 | Train_loss 0.0001 | Train_acc 1.0000 | Val_loss 0.0156 | Val_acc 0.9811\n"
          ],
          "name": "stdout"
        },
        {
          "output_type": "stream",
          "text": [
            "\rStep:   2%|▎         | 1/40 [00:01<00:51,  1.31s/it]"
          ],
          "name": "stderr"
        },
        {
          "output_type": "stream",
          "text": [
            "Epoch 18 | Step 0 | Train_loss 0.0000 | Train_acc 1.0000 | Val_loss 0.0152 | Val_acc 0.9811\n"
          ],
          "name": "stdout"
        },
        {
          "output_type": "stream",
          "text": [
            "Step:  52%|█████▎    | 21/40 [00:30<00:30,  1.59s/it]"
          ],
          "name": "stderr"
        },
        {
          "output_type": "stream",
          "text": [
            "Epoch 18 | Step 20 | Train_loss 0.0000 | Train_acc 1.0000 | Val_loss 0.0154 | Val_acc 0.9827\n"
          ],
          "name": "stdout"
        },
        {
          "output_type": "stream",
          "text": [
            "Step:   0%|          | 0/40 [00:00<?, ?it/s]"
          ],
          "name": "stderr"
        },
        {
          "output_type": "stream",
          "text": [
            "Epoch 18 | Train_loss 0.0000 | Train_acc 1.0000 | Val_loss 0.0152 | Val_acc 0.9811\n"
          ],
          "name": "stdout"
        },
        {
          "output_type": "stream",
          "text": [
            "\rStep:   2%|▎         | 1/40 [00:01<00:50,  1.30s/it]"
          ],
          "name": "stderr"
        },
        {
          "output_type": "stream",
          "text": [
            "Epoch 19 | Step 0 | Train_loss 0.0000 | Train_acc 1.0000 | Val_loss 0.0153 | Val_acc 0.9827\n"
          ],
          "name": "stdout"
        },
        {
          "output_type": "stream",
          "text": [
            "Step:  52%|█████▎    | 21/40 [00:30<00:29,  1.57s/it]"
          ],
          "name": "stderr"
        },
        {
          "output_type": "stream",
          "text": [
            "Epoch 19 | Step 20 | Train_loss 0.0000 | Train_acc 1.0000 | Val_loss 0.0154 | Val_acc 0.9811\n"
          ],
          "name": "stdout"
        },
        {
          "output_type": "stream",
          "text": [
            "Epoch: 100%|██████████| 20/20 [24:35<00:00, 72.78s/it]"
          ],
          "name": "stderr"
        },
        {
          "output_type": "stream",
          "text": [
            "Epoch 19 | Train_loss 0.0000 | Train_acc 1.0000 | Val_loss 0.0158 | Val_acc 0.9796\n"
          ],
          "name": "stdout"
        }
      ]
    },
    {
      "cell_type": "code",
      "metadata": {
        "id": "jh098PfIIK00",
        "colab_type": "code",
        "colab": {
          "base_uri": "https://localhost:8080/",
          "height": 34
        },
        "outputId": "36979b59-cfe2-474e-c379-b71e0d3698d5"
      },
      "source": [
        "test_acc, test_loss = eval(model, test_laoder)\n",
        "print(f\"test_loss {test_loss} | test_acc {test_acc}\")"
      ],
      "execution_count": 46,
      "outputs": [
        {
          "output_type": "stream",
          "text": [
            "test_loss 0.020353576634079218 | test_acc 0.9755397727272728\n"
          ],
          "name": "stdout"
        }
      ]
    },
    {
      "cell_type": "markdown",
      "metadata": {
        "id": "5TDYmIEmRLrZ",
        "colab_type": "text"
      },
      "source": [
        "### Reference: https://towardsdatascience.com/lstm-text-classification-using-pytorch-2c6c657f8fc0"
      ]
    },
    {
      "cell_type": "code",
      "metadata": {
        "id": "_PVRo783RMhg",
        "colab_type": "code",
        "colab": {}
      },
      "source": [
        ""
      ],
      "execution_count": null,
      "outputs": []
    }
  ]
}