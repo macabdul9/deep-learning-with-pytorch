{
  "nbformat": 4,
  "nbformat_minor": 0,
  "metadata": {
    "kernelspec": {
      "name": "python3",
      "display_name": "Python 3"
    },
    "colab": {
      "name": "POS-Tagging.ipynb",
      "provenance": []
    },
    "accelerator": "GPU"
  },
  "cells": [
    {
      "cell_type": "code",
      "metadata": {
        "id": "uf-TZAfzawOf",
        "colab_type": "code",
        "colab": {}
      },
      "source": [
        "# utils \n",
        "import torch\n",
        "\n",
        "# data\n",
        "from torchtext.datasets import PennTreebank, UDPOS\n",
        "from torchtext.data import Field, BucketIterator\n",
        "\n",
        "# model\n",
        "import torch.nn as nn\n",
        "import torch.nn.functional as F\n",
        "\n",
        "# training\n",
        "import torch.optim as optim\n",
        "import tqdm"
      ],
      "execution_count": 1,
      "outputs": []
    },
    {
      "cell_type": "code",
      "metadata": {
        "id": "2P_UVrdpawOm",
        "colab_type": "code",
        "colab": {}
      },
      "source": [
        "device = torch.device(\"cuda:0\" if torch.cuda.is_available() else \"cpu\")"
      ],
      "execution_count": 2,
      "outputs": []
    },
    {
      "cell_type": "code",
      "metadata": {
        "id": "pGSSYNhEawOs",
        "colab_type": "code",
        "colab": {
          "base_uri": "https://localhost:8080/",
          "height": 34
        },
        "outputId": "4116c81c-e87f-4747-d75d-c284b8dbd84b"
      },
      "source": [
        "device"
      ],
      "execution_count": 3,
      "outputs": [
        {
          "output_type": "execute_result",
          "data": {
            "text/plain": [
              "device(type='cuda', index=0)"
            ]
          },
          "metadata": {
            "tags": []
          },
          "execution_count": 3
        }
      ]
    },
    {
      "cell_type": "markdown",
      "metadata": {
        "id": "vlVhbDNtawOy",
        "colab_type": "text"
      },
      "source": [
        "### Data "
      ]
    },
    {
      "cell_type": "code",
      "metadata": {
        "id": "EhsMNNR6awOz",
        "colab_type": "code",
        "colab": {}
      },
      "source": [
        "TEXT = Field(tokenize=\"spacy\", lower=True, batch_first=True)\n",
        "UD_TAGS = Field(unk_token=None, batch_first=True)\n",
        "PTB_TAGS = Field(unk_token=None, batch_first=True)"
      ],
      "execution_count": 4,
      "outputs": []
    },
    {
      "cell_type": "code",
      "metadata": {
        "id": "Yel2-TbcawO3",
        "colab_type": "code",
        "colab": {}
      },
      "source": [
        "# fields list\n",
        "fields = [(\"text\", TEXT), (\"udtags\", UD_TAGS), (\"ptbtags\", PTB_TAGS)]"
      ],
      "execution_count": 5,
      "outputs": []
    },
    {
      "cell_type": "code",
      "metadata": {
        "id": "R4f26wPkawO8",
        "colab_type": "code",
        "colab": {
          "base_uri": "https://localhost:8080/",
          "height": 68
        },
        "outputId": "36bab697-c004-411a-99a7-555c4605b281"
      },
      "source": [
        "# pen dataset\n",
        "train, val, test = UDPOS.splits(fields)"
      ],
      "execution_count": 6,
      "outputs": [
        {
          "output_type": "stream",
          "text": [
            "downloading en-ud-v2.zip\n"
          ],
          "name": "stdout"
        },
        {
          "output_type": "stream",
          "text": [
            "en-ud-v2.zip: 100%|██████████| 688k/688k [00:01<00:00, 641kB/s]\n"
          ],
          "name": "stderr"
        },
        {
          "output_type": "stream",
          "text": [
            "extracting\n"
          ],
          "name": "stdout"
        }
      ]
    },
    {
      "cell_type": "code",
      "metadata": {
        "id": "b7ByBfboawPA",
        "colab_type": "code",
        "colab": {
          "base_uri": "https://localhost:8080/",
          "height": 51
        },
        "outputId": "77428325-0509-4ced-dc72-2f13ae11b919"
      },
      "source": [
        "#### Build vocab and create data loader\n",
        "TEXT.build_vocab(\n",
        "    train, \n",
        "    min_freq=2,\n",
        "    vectors = \"glove.6B.100d\",\n",
        "    unk_init = torch.Tensor.normal_,\n",
        ")\n",
        "UD_TAGS.build_vocab(train, min_freq=1)\n",
        "PTB_TAGS.build_vocab(train, min_freq=1)"
      ],
      "execution_count": 7,
      "outputs": [
        {
          "output_type": "stream",
          "text": [
            ".vector_cache/glove.6B.zip: 862MB [06:30, 2.21MB/s]                          \n",
            "100%|█████████▉| 399483/400000 [00:16<00:00, 25408.72it/s]"
          ],
          "name": "stderr"
        }
      ]
    },
    {
      "cell_type": "code",
      "metadata": {
        "id": "rS9ALoONawPG",
        "colab_type": "code",
        "colab": {}
      },
      "source": [
        "BATCH_SIZE = 128"
      ],
      "execution_count": 8,
      "outputs": []
    },
    {
      "cell_type": "code",
      "metadata": {
        "id": "0oOij2n6awPK",
        "colab_type": "code",
        "colab": {}
      },
      "source": [
        "train_loader, val_loader, test_loader = BucketIterator.splits(\n",
        "    datasets=(train, val, test),\n",
        "    batch_size=BATCH_SIZE,\n",
        "    device=device\n",
        ")"
      ],
      "execution_count": 9,
      "outputs": []
    },
    {
      "cell_type": "code",
      "metadata": {
        "id": "12CaxI-0awPO",
        "colab_type": "code",
        "colab": {
          "base_uri": "https://localhost:8080/",
          "height": 34
        },
        "outputId": "8be0bced-e12a-42bf-b4ca-453b3f3cf43e"
      },
      "source": [
        "for x in train_loader:\n",
        "    print(x.text.shape)\n",
        "    break"
      ],
      "execution_count": 10,
      "outputs": [
        {
          "output_type": "stream",
          "text": [
            "torch.Size([128, 74])\n"
          ],
          "name": "stdout"
        }
      ]
    },
    {
      "cell_type": "markdown",
      "metadata": {
        "id": "QxZWE_YuawPS",
        "colab_type": "text"
      },
      "source": [
        "### Model"
      ]
    },
    {
      "cell_type": "markdown",
      "metadata": {
        "id": "bwvYsWorawPT",
        "colab_type": "text"
      },
      "source": [
        "![title](./assets/pos-bidirectional-lstm.png)"
      ]
    },
    {
      "cell_type": "code",
      "metadata": {
        "id": "dB7zpM-eawPU",
        "colab_type": "code",
        "colab": {}
      },
      "source": [
        "### A multi-layer bidirection LSTM network\n",
        "class POSTagger(nn.Module):\n",
        "    \n",
        "    def __init__(self, vocab_size, embedding_dim, hidden_size, output_size, num_layers=4, dropout=0.2):\n",
        "        \n",
        "        super(POSTagger, self).__init__()\n",
        "        self.vocab_size = vocab_size\n",
        "        \n",
        "        self.embedding = nn.Embedding(num_embeddings=vocab_size, embedding_dim=embedding_dim)\n",
        "        self.lstm = nn.LSTM(\n",
        "            input_size=embedding_dim, \n",
        "            hidden_size=hidden_size,\n",
        "            num_layers=num_layers,\n",
        "            batch_first=True,\n",
        "            dropout = dropout,\n",
        "            bidirectional=True\n",
        "        )\n",
        "        self.fc = nn.Linear(in_features=2*hidden_size, out_features=output_size)\n",
        "        # 2* hidden_size -> bidirectional\n",
        "    \n",
        "    def forward(self, x):\n",
        "        # x.shape -> [batch, seq_len]\n",
        "        \n",
        "        embedded =  self.embedding(x)\n",
        "        # embedded.shape -> [batch, seq_len, embedding_dim]\n",
        "        \n",
        "        outputs, _ = self.lstm(embedded)\n",
        "        \n",
        "        predictions = F.softmax(self.fc(outputs), dim=1)\n",
        "        \n",
        "        return predictions\n",
        "        \n",
        "        "
      ],
      "execution_count": 11,
      "outputs": []
    },
    {
      "cell_type": "markdown",
      "metadata": {
        "id": "Zw7wLMKOawPZ",
        "colab_type": "text"
      },
      "source": [
        "### Training"
      ]
    },
    {
      "cell_type": "code",
      "metadata": {
        "id": "YRZEEA5QawPa",
        "colab_type": "code",
        "colab": {}
      },
      "source": [
        "# accuracy calculator\n",
        "def accuracy(y, y_):\n",
        "    correct = 0\n",
        "    for i in range(y.shape[0]):\n",
        "        if y[i]==y_[i]:\n",
        "            correct+=1\n",
        "    return correct/y.shape[0]"
      ],
      "execution_count": 12,
      "outputs": []
    },
    {
      "cell_type": "code",
      "metadata": {
        "id": "_IzcGedAawPe",
        "colab_type": "code",
        "colab": {}
      },
      "source": [
        "# evaluation function\n",
        "def eval(model, data, criterion):\n",
        "    acc = []\n",
        "    loss = []\n",
        "    \n",
        "    with torch.no_grad():\n",
        "        for batch in  data:\n",
        "            x, y = batch.text, batch.udtags\n",
        "            outputs = model(x)\n",
        "           \n",
        "            # y.shape -> [batch, seq_len, vocab_size]\n",
        "            bs, seq_len, vocab_size = outputs.size(0), outputs.size(1), outputs.size(2)\n",
        "            \n",
        "            # flatten the ground truth as well as predictions\n",
        "            l = criterion(outputs.view(bs*seq_len, -1), y.view(-1))\n",
        "            \n",
        "            y_ =  torch.argmax(outputs, dim=2)           \n",
        "        \n",
        "            a = accuracy(y.view(-1), y_.view(-1))\n",
        "            \n",
        "            loss.append(l.item())\n",
        "            acc.append(a)\n",
        "    \n",
        "    return sum(acc)/len(acc), sum(loss)/len(loss)"
      ],
      "execution_count": 13,
      "outputs": []
    },
    {
      "cell_type": "code",
      "metadata": {
        "id": "mX7sYRAgawPi",
        "colab_type": "code",
        "colab": {}
      },
      "source": [
        "# create model\n",
        "model = POSTagger(\n",
        "    vocab_size=len(TEXT.vocab),\n",
        "    embedding_dim=100,\n",
        "    hidden_size=128,\n",
        "    output_size=len(UD_TAGS.vocab)\n",
        ").to(device)"
      ],
      "execution_count": 18,
      "outputs": []
    },
    {
      "cell_type": "code",
      "metadata": {
        "id": "QusXrMSbawPm",
        "colab_type": "code",
        "colab": {}
      },
      "source": [
        "# training configuration\n",
        "EPOCHS = 10\n",
        "lr = 0.01\n",
        "PAD_TOKEN = UD_TAGS.vocab.stoi[UD_TAGS.pad_token]"
      ],
      "execution_count": 19,
      "outputs": []
    },
    {
      "cell_type": "code",
      "metadata": {
        "id": "hPvmiIZxawPq",
        "colab_type": "code",
        "colab": {}
      },
      "source": [
        "# create criterion and optimizer\n",
        "criterion = nn.CrossEntropyLoss(ignore_index=PAD_TOKEN).to(device)\n",
        "optimizer = optim.Adam(params=model.parameters(), lr=lr)"
      ],
      "execution_count": 20,
      "outputs": []
    },
    {
      "cell_type": "code",
      "metadata": {
        "id": "ZoLBkzdXawPu",
        "colab_type": "code",
        "colab": {
          "base_uri": "https://localhost:8080/",
          "height": 527
        },
        "outputId": "e9907ea0-2c14-48f9-987c-75b81c0304dc"
      },
      "source": [
        "epoch_progress = tqdm.tqdm(total=EPOCHS, desc=\"Epoch\", position=0)\n",
        "steps = 0\n",
        "\n",
        "for epoch in range(EPOCHS):\n",
        "    epoch_loss = []\n",
        "    epochs_acc = []\n",
        "    for batch in train_loader:\n",
        "        x, y = batch.text, batch.udtags\n",
        "        outputs = model(x)\n",
        "        \n",
        "        bs, seq_len, vocab_size = outputs.size(0), outputs.size(1), outputs.size(2)\n",
        "        \n",
        "        # calculate loss and gradient and then backpropagate the gradient\n",
        "        optimizer.zero_grad()\n",
        "        loss = criterion(outputs.view(bs*seq_len, -1), y.view(-1))\n",
        "        loss.backward()\n",
        "        optimizer.step()\n",
        "        \n",
        "        y_ =  torch.argmax(outputs, dim=2)           \n",
        "        acc = accuracy(y.view(-1), y_.view(-1))\n",
        "        \n",
        "        if steps % 50 == 0:\n",
        "            print(f'Epochs {epoch} | Steps {steps} | Train_loss {loss.item():.4f} | Train_acc {acc:.4f}')\n",
        "        epoch_loss.append(loss.item())\n",
        "        epochs_acc.append(acc)\n",
        "        steps +=1 \n",
        "    \n",
        "    val_acc, val_loss = eval(model, val_loader, criterion)\n",
        "    avg_loss = sum(epoch_loss)/len(epoch_loss)\n",
        "    avg_acc = sum(epochs_acc)/len(epochs_acc)\n",
        "    \n",
        "    print(f'Epoch {epoch} | Train_loss {avg_loss:.4f} | Train_acc {avg_acc:.4f} | Val_loss {val_loss:.4f} | Val_acc {val_acc:.4f}')\n",
        "    \n",
        "    epoch_progress.update(1)\n",
        "\n",
        "        "
      ],
      "execution_count": 21,
      "outputs": [
        {
          "output_type": "stream",
          "text": [
            "\rEpoch:   0%|          | 0/10 [00:00<?, ?it/s]"
          ],
          "name": "stderr"
        },
        {
          "output_type": "stream",
          "text": [
            "Epochs 0 | Steps 0 | Train_loss 2.8904 | Train_acc 0.0925\n",
            "Epochs 0 | Steps 50 | Train_loss 2.6407 | Train_acc 0.1448\n"
          ],
          "name": "stdout"
        },
        {
          "output_type": "stream",
          "text": [
            "\rEpoch:  10%|█         | 1/10 [00:37<05:33, 37.01s/it]"
          ],
          "name": "stderr"
        },
        {
          "output_type": "stream",
          "text": [
            "Epoch 0 | Train_loss 2.6595 | Train_acc 0.1874 | Val_loss 2.4736 | Val_acc 0.5393\n",
            "Epochs 1 | Steps 100 | Train_loss 2.5382 | Train_acc 0.3462\n",
            "Epochs 1 | Steps 150 | Train_loss 2.5192 | Train_acc 0.1877\n"
          ],
          "name": "stdout"
        },
        {
          "output_type": "stream",
          "text": [
            "\rEpoch:  20%|██        | 2/10 [01:13<04:55, 36.88s/it]"
          ],
          "name": "stderr"
        },
        {
          "output_type": "stream",
          "text": [
            "Epoch 1 | Train_loss 2.5371 | Train_acc 0.2873 | Val_loss 2.4432 | Val_acc 0.5797\n",
            "Epochs 2 | Steps 200 | Train_loss 2.5130 | Train_acc 0.3164\n",
            "Epochs 2 | Steps 250 | Train_loss 2.5197 | Train_acc 0.2958\n"
          ],
          "name": "stdout"
        },
        {
          "output_type": "stream",
          "text": [
            "\rEpoch:  30%|███       | 3/10 [01:49<04:17, 36.74s/it]"
          ],
          "name": "stderr"
        },
        {
          "output_type": "stream",
          "text": [
            "Epoch 2 | Train_loss 2.5128 | Train_acc 0.2724 | Val_loss 2.4329 | Val_acc 0.5934\n",
            "Epochs 3 | Steps 300 | Train_loss 2.4970 | Train_acc 0.2527\n",
            "Epochs 3 | Steps 350 | Train_loss 2.5053 | Train_acc 0.3080\n"
          ],
          "name": "stdout"
        },
        {
          "output_type": "stream",
          "text": [
            "\rEpoch:  40%|████      | 4/10 [02:27<03:41, 36.96s/it]"
          ],
          "name": "stderr"
        },
        {
          "output_type": "stream",
          "text": [
            "Epoch 3 | Train_loss 2.5009 | Train_acc 0.2616 | Val_loss 2.4251 | Val_acc 0.6019\n",
            "Epochs 4 | Steps 400 | Train_loss 2.5166 | Train_acc 0.2130\n",
            "Epochs 4 | Steps 450 | Train_loss 2.4918 | Train_acc 0.2005\n"
          ],
          "name": "stdout"
        },
        {
          "output_type": "stream",
          "text": [
            "\rEpoch:  50%|█████     | 5/10 [03:04<03:04, 36.86s/it]"
          ],
          "name": "stderr"
        },
        {
          "output_type": "stream",
          "text": [
            "Epoch 4 | Train_loss 2.4958 | Train_acc 0.2286 | Val_loss 2.4218 | Val_acc 0.6058\n",
            "Epochs 5 | Steps 500 | Train_loss 2.4934 | Train_acc 0.2907\n",
            "Epochs 5 | Steps 550 | Train_loss 2.4846 | Train_acc 0.2299\n"
          ],
          "name": "stdout"
        },
        {
          "output_type": "stream",
          "text": [
            "\rEpoch:  60%|██████    | 6/10 [03:41<02:28, 37.07s/it]"
          ],
          "name": "stderr"
        },
        {
          "output_type": "stream",
          "text": [
            "Epoch 5 | Train_loss 2.4926 | Train_acc 0.2363 | Val_loss 2.4166 | Val_acc 0.6121\n",
            "Epochs 6 | Steps 600 | Train_loss 2.4976 | Train_acc 0.2460\n",
            "Epochs 6 | Steps 650 | Train_loss 2.4785 | Train_acc 0.2271\n"
          ],
          "name": "stdout"
        },
        {
          "output_type": "stream",
          "text": [
            "\rEpoch:  70%|███████   | 7/10 [04:17<01:50, 36.81s/it]"
          ],
          "name": "stderr"
        },
        {
          "output_type": "stream",
          "text": [
            "Epoch 6 | Train_loss 2.4905 | Train_acc 0.2451 | Val_loss 2.4208 | Val_acc 0.6067\n",
            "Epochs 7 | Steps 700 | Train_loss 2.4850 | Train_acc 0.2095\n",
            "Epochs 7 | Steps 750 | Train_loss 2.4998 | Train_acc 0.2372\n"
          ],
          "name": "stdout"
        },
        {
          "output_type": "stream",
          "text": [
            "\rEpoch:  80%|████████  | 8/10 [04:54<01:13, 36.71s/it]"
          ],
          "name": "stderr"
        },
        {
          "output_type": "stream",
          "text": [
            "Epoch 7 | Train_loss 2.4891 | Train_acc 0.2173 | Val_loss 2.4126 | Val_acc 0.6219\n",
            "Epochs 8 | Steps 800 | Train_loss 2.4528 | Train_acc 0.2699\n",
            "Epochs 8 | Steps 850 | Train_loss 2.5064 | Train_acc 0.1580\n"
          ],
          "name": "stdout"
        },
        {
          "output_type": "stream",
          "text": [
            "\rEpoch:  90%|█████████ | 9/10 [05:30<00:36, 36.63s/it]"
          ],
          "name": "stderr"
        },
        {
          "output_type": "stream",
          "text": [
            "Epoch 8 | Train_loss 2.4874 | Train_acc 0.2251 | Val_loss 2.4091 | Val_acc 0.6305\n",
            "Epochs 9 | Steps 900 | Train_loss 2.4874 | Train_acc 0.2021\n",
            "Epochs 9 | Steps 950 | Train_loss 2.4776 | Train_acc 0.2496\n"
          ],
          "name": "stdout"
        },
        {
          "output_type": "stream",
          "text": [
            "\rEpoch: 100%|██████████| 10/10 [06:07<00:00, 36.64s/it]"
          ],
          "name": "stderr"
        },
        {
          "output_type": "stream",
          "text": [
            "Epoch 9 | Train_loss 2.4867 | Train_acc 0.2173 | Val_loss 2.4123 | Val_acc 0.6268\n"
          ],
          "name": "stdout"
        }
      ]
    },
    {
      "cell_type": "code",
      "metadata": {
        "id": "OfWDnWiLfQEQ",
        "colab_type": "code",
        "colab": {
          "base_uri": "https://localhost:8080/",
          "height": 34
        },
        "outputId": "30b6b944-f679-4b2d-f899-2d5f3441b970"
      },
      "source": [
        "eval(model, test_loader, criterion)"
      ],
      "execution_count": 22,
      "outputs": [
        {
          "output_type": "execute_result",
          "data": {
            "text/plain": [
              "(0.6181387111742966, 2.467750409070183)"
            ]
          },
          "metadata": {
            "tags": []
          },
          "execution_count": 22
        }
      ]
    },
    {
      "cell_type": "code",
      "metadata": {
        "id": "YcLH9Fj6fP4p",
        "colab_type": "code",
        "colab": {}
      },
      "source": [
        ""
      ],
      "execution_count": null,
      "outputs": []
    },
    {
      "cell_type": "code",
      "metadata": {
        "id": "vbDjBFJzfPq7",
        "colab_type": "code",
        "colab": {}
      },
      "source": [
        ""
      ],
      "execution_count": null,
      "outputs": []
    },
    {
      "cell_type": "code",
      "metadata": {
        "id": "MMJLsIIDfRYT",
        "colab_type": "code",
        "colab": {}
      },
      "source": [
        ""
      ],
      "execution_count": null,
      "outputs": []
    }
  ]
}