{
 "cells": [
  {
   "cell_type": "code",
   "execution_count": 290,
   "metadata": {},
   "outputs": [],
   "source": [
    "import torch\n",
    "import torch.nn as nn\n",
    "import numpy as np\n",
    "import tqdm\n",
    "from torch.utils.data import DataLoader, Dataset\n",
    "from torch.utils.tensorboard import SummaryWriter"
   ]
  },
  {
   "cell_type": "markdown",
   "metadata": {},
   "source": [
    "#### Hyper-params"
   ]
  },
  {
   "cell_type": "code",
   "execution_count": 234,
   "metadata": {},
   "outputs": [],
   "source": [
    "device = torch.device(\"cuda:0\" if torch.cuda.is_available() else \"cpu\")"
   ]
  },
  {
   "cell_type": "code",
   "execution_count": 235,
   "metadata": {},
   "outputs": [
    {
     "data": {
      "text/plain": [
       "device(type='cuda', index=0)"
      ]
     },
     "execution_count": 235,
     "metadata": {},
     "output_type": "execute_result"
    }
   ],
   "source": [
    "device"
   ]
  },
  {
   "cell_type": "markdown",
   "metadata": {},
   "source": [
    "#### Text Preprocessing"
   ]
  },
  {
   "cell_type": "code",
   "execution_count": 236,
   "metadata": {},
   "outputs": [],
   "source": [
    "# read the text file\n",
    "text = open(\"austen-emma.txt\", \"r\").read()"
   ]
  },
  {
   "cell_type": "code",
   "execution_count": 238,
   "metadata": {},
   "outputs": [],
   "source": [
    "## tokenization\n",
    "chars = tuple(set(text))\n",
    "idx2char = dict(enumerate(chars))\n",
    "char2idx = dict(zip(idx2char.values(), idx2char.keys()))\n",
    "#  encode the text into tokens\n",
    "encoded = np.array([char2idx[ch] for ch in text])"
   ]
  },
  {
   "cell_type": "code",
   "execution_count": 300,
   "metadata": {},
   "outputs": [],
   "source": [
    "## Convert the tokens into one-hot encoding\n",
    "def one_hot_encoding(data, n_labels):\n",
    "    \n",
    "#     print(encoding.shape)\n",
    "    # zeros matrix of size mx/n  where m --> size of encoding and n--> size of \n",
    "    one_hot = np.zeros((data.shape[0], n_labels), dtype=np.float32)\n",
    "    \n",
    "    one_hot[np.arange(one_hot.shape[0]), data.flatten()] = 1.\n",
    "\n",
    "    return one_hot\n",
    "#     # file the token with 1s\n",
    "#     for i, token in enumerate(encoding):\n",
    "#         one_hot[i][token] = 1\n",
    "#     return one_hot\n",
    "    "
   ]
  },
  {
   "cell_type": "code",
   "execution_count": 301,
   "metadata": {},
   "outputs": [
    {
     "data": {
      "text/plain": [
       "(3, 9)"
      ]
     },
     "execution_count": 301,
     "metadata": {},
     "output_type": "execute_result"
    }
   ],
   "source": [
    "one_hot_encoding(np.array([1, 2, 3]), 9).shape"
   ]
  },
  {
   "cell_type": "code",
   "execution_count": 321,
   "metadata": {},
   "outputs": [],
   "source": [
    "def load_data(encoded, seq_length = 100):\n",
    "    \n",
    "    # keep only valid charas\n",
    "    sequences = len(encoded)//(seq_len+1)\n",
    "    encoded = encoded[:sequences*(seq_len+1)]\n",
    "    \n",
    "    x = np.empty((sequences, seq_len, len(chars)), dtype=np.float32)\n",
    "    y = np.empty((sequences, seq_len), dtype=np.float32)\n",
    "    \n",
    "    print(x.shape, y.shape)\n",
    "    \n",
    "    for i, current in enumerate(range(0, encoded.shape[0], seq_len + 1)):\n",
    "        x[i] = one_hot_encoding(np.array(encoded[current:current+seq_len]), n_labels=len(chars))\n",
    "        y[i] = np.array(encoded[current+1:current+seq_len+1])\n",
    "    return x, y\n",
    "    "
   ]
  },
  {
   "cell_type": "code",
   "execution_count": 322,
   "metadata": {},
   "outputs": [
    {
     "name": "stdout",
     "output_type": "stream",
     "text": [
      "(13647, 64, 77) (13647, 64)\n"
     ]
    }
   ],
   "source": [
    "x, y = load_data(encoded)"
   ]
  },
  {
   "cell_type": "code",
   "execution_count": 323,
   "metadata": {},
   "outputs": [
    {
     "name": "stdout",
     "output_type": "stream",
     "text": [
      "(13647, 64, 77) (13647, 64)\n",
      "float32 float32\n"
     ]
    }
   ],
   "source": [
    "print(x.shape, y.shape)\n",
    "print(x.dtype, y.dtype)"
   ]
  },
  {
   "cell_type": "code",
   "execution_count": 324,
   "metadata": {},
   "outputs": [],
   "source": [
    "class CustomDataset(Dataset):\n",
    "    \n",
    "    def __init__(self):\n",
    "        self.x, self.y = load_data(encoded, seq_len)\n",
    "        self.len = x.shape[0]\n",
    "    \n",
    "    def __len__(self):\n",
    "        return self.len\n",
    "    \n",
    "    def __getitem__(self, index):\n",
    "        return self.x[index], self.y[index]\n",
    "    "
   ]
  },
  {
   "cell_type": "code",
   "execution_count": 325,
   "metadata": {},
   "outputs": [],
   "source": [
    "# data \n",
    "seq_len = 64\n",
    "batch_size = 64"
   ]
  },
  {
   "cell_type": "code",
   "execution_count": 326,
   "metadata": {},
   "outputs": [
    {
     "name": "stdout",
     "output_type": "stream",
     "text": [
      "(13647, 64, 77) (13647, 64)\n"
     ]
    }
   ],
   "source": [
    "dataset = CustomDataset()\n",
    "dataloader = DataLoader(dataset=dataset, batch_size=batch_size, shuffle=True)"
   ]
  },
  {
   "cell_type": "code",
   "execution_count": 327,
   "metadata": {},
   "outputs": [
    {
     "data": {
      "text/plain": [
       "'od opinion.--He had been sitting with them\\nhalf an hour, she fou'"
      ]
     },
     "execution_count": 327,
     "metadata": {},
     "output_type": "execute_result"
    }
   ],
   "source": [
    "# see the text of each seq \n",
    "x, y = next(iter(dataloader))\n",
    "s = \"\"\n",
    "for each in x[0]:\n",
    "    s = s +\"\"+ idx2char[torch.argmax(each).item()]\n",
    "s"
   ]
  },
  {
   "cell_type": "markdown",
   "metadata": {},
   "source": [
    "### RNN Model"
   ]
  },
  {
   "cell_type": "code",
   "execution_count": 388,
   "metadata": {},
   "outputs": [],
   "source": [
    "class RNN(nn.Module):\n",
    "    \n",
    "    def __init__(self, input_size, output_size, hidden_dim=64, n_layers=1,dropout=0.20):\n",
    "        \n",
    "        super(RNN, self).__init__()\n",
    "        self.n_hidden = hidden_dim\n",
    "        self.lstm = nn.LSTM(input_size, hidden_dim, n_layers, batch_first=True)\n",
    "        self.dropout = nn.Dropout(p=dropout)\n",
    "        self.fc = nn.Linear(in_features=hidden_dim, out_features=output_size)\n",
    "        \n",
    "    def forward(self, x, hidden):\n",
    "        \n",
    "        lstm_out, hidden = self.lstm(x, hidden)\n",
    "        out = self.dropout(lstm_out)\n",
    "        out = out.contiguous().view(-1, self.n_hidden)\n",
    "        out = self.fc(out)\n",
    "        return out, hidden    "
   ]
  },
  {
   "cell_type": "markdown",
   "metadata": {},
   "source": [
    "#### Params configuration model and training"
   ]
  },
  {
   "cell_type": "code",
   "execution_count": 401,
   "metadata": {},
   "outputs": [],
   "source": [
    "# model\n",
    "input_size = len(chars)\n",
    "hidden_dim = 64\n",
    "n_layers = 1\n",
    "output_size = len(chars)\n",
    "\n",
    "epochs = 50\n",
    "lr = 1e-2\n",
    "\n",
    "writer = SummaryWriter(log_dir=\"./runs\")\n",
    "# training"
   ]
  },
  {
   "cell_type": "code",
   "execution_count": 402,
   "metadata": {},
   "outputs": [],
   "source": [
    "# create the model\n",
    "model = RNN(input_size=input_size, output_size=output_size).to(device)"
   ]
  },
  {
   "cell_type": "code",
   "execution_count": 403,
   "metadata": {},
   "outputs": [],
   "source": [
    "### Optimizer and Loss\n",
    "optmizer = torch.optim.Adam(params=model.parameters(), lr=lr)\n",
    "criterion = torch.nn.CrossEntropyLoss()"
   ]
  },
  {
   "cell_type": "code",
   "execution_count": 404,
   "metadata": {},
   "outputs": [
    {
     "name": "stderr",
     "output_type": "stream",
     "text": [
      "Batch:  12%|█▏        | 26/214 [00:00<00:01, 119.85it/s]"
     ]
    },
    {
     "name": "stdout",
     "output_type": "stream",
     "text": [
      "Epoch 0 | Steps 0 | Loss = 4.34761905670166\n"
     ]
    },
    {
     "name": "stderr",
     "output_type": "stream",
     "text": [
      "Batch:  55%|█████▌    | 118/214 [00:00<00:00, 134.54it/s]"
     ]
    },
    {
     "name": "stdout",
     "output_type": "stream",
     "text": [
      "Epoch 0 | Steps 100 | Loss = 2.3699333667755127\n"
     ]
    },
    {
     "name": "stderr",
     "output_type": "stream",
     "text": [
      "Batch: 100%|██████████| 214/214 [00:01<00:00, 147.09it/s]\n",
      "Batch:   7%|▋         | 15/214 [00:00<00:01, 149.52it/s]"
     ]
    },
    {
     "name": "stdout",
     "output_type": "stream",
     "text": [
      "Epoch 0 | Steps 200 | Loss = 2.149277448654175\n",
      "Epoch = 0 | Avg Loss = 2.5299650374974045\n"
     ]
    },
    {
     "name": "stderr",
     "output_type": "stream",
     "text": [
      "Batch:  50%|█████     | 108/214 [00:00<00:00, 151.06it/s]"
     ]
    },
    {
     "name": "stdout",
     "output_type": "stream",
     "text": [
      "Epoch 1 | Steps 300 | Loss = 2.0315728187561035\n"
     ]
    },
    {
     "name": "stderr",
     "output_type": "stream",
     "text": [
      "Batch:  98%|█████████▊| 210/214 [00:01<00:00, 145.54it/s]"
     ]
    },
    {
     "name": "stdout",
     "output_type": "stream",
     "text": [
      "Epoch 1 | Steps 400 | Loss = 1.9651515483856201\n"
     ]
    },
    {
     "name": "stderr",
     "output_type": "stream",
     "text": [
      "Batch: 100%|██████████| 214/214 [00:01<00:00, 152.21it/s]\n",
      "Batch:  44%|████▍     | 94/214 [00:00<00:00, 152.41it/s]"
     ]
    },
    {
     "name": "stdout",
     "output_type": "stream",
     "text": [
      "Epoch 2 | Steps 500 | Loss = 1.8696117401123047\n"
     ]
    },
    {
     "name": "stderr",
     "output_type": "stream",
     "text": [
      "Batch:  96%|█████████▌| 205/214 [00:01<00:00, 155.08it/s]"
     ]
    },
    {
     "name": "stdout",
     "output_type": "stream",
     "text": [
      "Epoch 2 | Steps 600 | Loss = 1.8664608001708984\n"
     ]
    },
    {
     "name": "stderr",
     "output_type": "stream",
     "text": [
      "Batch: 100%|██████████| 214/214 [00:01<00:00, 152.30it/s]\n",
      "Batch:  38%|███▊      | 82/214 [00:00<00:00, 161.44it/s]"
     ]
    },
    {
     "name": "stdout",
     "output_type": "stream",
     "text": [
      "Epoch 3 | Steps 700 | Loss = 1.7709965705871582\n"
     ]
    },
    {
     "name": "stderr",
     "output_type": "stream",
     "text": [
      "Batch:  84%|████████▎ | 179/214 [00:01<00:00, 162.27it/s]"
     ]
    },
    {
     "name": "stdout",
     "output_type": "stream",
     "text": [
      "Epoch 3 | Steps 800 | Loss = 1.8146792650222778\n"
     ]
    },
    {
     "name": "stderr",
     "output_type": "stream",
     "text": [
      "Batch: 100%|██████████| 214/214 [00:01<00:00, 157.91it/s]\n",
      "Batch:  30%|███       | 65/214 [00:00<00:00, 162.09it/s]"
     ]
    },
    {
     "name": "stdout",
     "output_type": "stream",
     "text": [
      "Epoch 4 | Steps 900 | Loss = 1.8145389556884766\n"
     ]
    },
    {
     "name": "stderr",
     "output_type": "stream",
     "text": [
      "Batch:  77%|███████▋  | 165/214 [00:01<00:00, 165.60it/s]"
     ]
    },
    {
     "name": "stdout",
     "output_type": "stream",
     "text": [
      "Epoch 4 | Steps 1000 | Loss = 1.725896954536438\n"
     ]
    },
    {
     "name": "stderr",
     "output_type": "stream",
     "text": [
      "Batch: 100%|██████████| 214/214 [00:01<00:00, 161.50it/s]\n",
      "Batch:  23%|██▎       | 50/214 [00:00<00:01, 162.99it/s]"
     ]
    },
    {
     "name": "stdout",
     "output_type": "stream",
     "text": [
      "Epoch 5 | Steps 1100 | Loss = 1.7471871376037598\n"
     ]
    },
    {
     "name": "stderr",
     "output_type": "stream",
     "text": [
      "Batch:  69%|██████▊   | 147/214 [00:00<00:00, 154.13it/s]"
     ]
    },
    {
     "name": "stdout",
     "output_type": "stream",
     "text": [
      "Epoch 5 | Steps 1200 | Loss = 1.706241488456726\n"
     ]
    },
    {
     "name": "stderr",
     "output_type": "stream",
     "text": [
      "Batch: 100%|██████████| 214/214 [00:01<00:00, 158.24it/s]\n",
      "Batch:   3%|▎         | 6/214 [00:00<00:03, 52.20it/s]"
     ]
    },
    {
     "name": "stdout",
     "output_type": "stream",
     "text": [
      "Epoch = 5 | Avg Loss = 1.7079572215258518\n"
     ]
    },
    {
     "name": "stderr",
     "output_type": "stream",
     "text": [
      "Batch:  16%|█▌        | 34/214 [00:00<00:02, 67.74it/s]"
     ]
    },
    {
     "name": "stdout",
     "output_type": "stream",
     "text": [
      "Epoch 6 | Steps 1300 | Loss = 1.707268476486206\n"
     ]
    },
    {
     "name": "stderr",
     "output_type": "stream",
     "text": [
      "Batch:  58%|█████▊    | 124/214 [00:01<00:00, 123.35it/s]"
     ]
    },
    {
     "name": "stdout",
     "output_type": "stream",
     "text": [
      "Epoch 6 | Steps 1400 | Loss = 1.660194993019104\n"
     ]
    },
    {
     "name": "stderr",
     "output_type": "stream",
     "text": [
      "Batch:  14%|█▍        | 30/214 [00:00<00:01, 141.76it/s]]"
     ]
    },
    {
     "name": "stdout",
     "output_type": "stream",
     "text": [
      "Epoch 7 | Steps 1500 | Loss = 1.7051069736480713\n"
     ]
    },
    {
     "name": "stderr",
     "output_type": "stream",
     "text": [
      "Batch:  58%|█████▊    | 124/214 [00:00<00:00, 147.39it/s]"
     ]
    },
    {
     "name": "stdout",
     "output_type": "stream",
     "text": [
      "Epoch 7 | Steps 1600 | Loss = 1.6928067207336426\n"
     ]
    },
    {
     "name": "stderr",
     "output_type": "stream",
     "text": [
      "Batch: 100%|██████████| 214/214 [00:01<00:00, 149.36it/s]\n",
      "Batch:   7%|▋         | 14/214 [00:00<00:01, 132.71it/s]"
     ]
    },
    {
     "name": "stdout",
     "output_type": "stream",
     "text": [
      "Epoch 7 | Steps 1700 | Loss = 1.6995114088058472\n"
     ]
    },
    {
     "name": "stderr",
     "output_type": "stream",
     "text": [
      "Batch:  50%|████▉     | 106/214 [00:00<00:00, 146.20it/s]"
     ]
    },
    {
     "name": "stdout",
     "output_type": "stream",
     "text": [
      "Epoch 8 | Steps 1800 | Loss = 1.6282737255096436\n"
     ]
    },
    {
     "name": "stderr",
     "output_type": "stream",
     "text": [
      "Batch: 100%|██████████| 214/214 [00:01<00:00, 148.12it/s]\n"
     ]
    },
    {
     "name": "stdout",
     "output_type": "stream",
     "text": [
      "Epoch 8 | Steps 1900 | Loss = 1.6271501779556274\n"
     ]
    },
    {
     "name": "stderr",
     "output_type": "stream",
     "text": [
      "Batch:  42%|████▏     | 90/214 [00:00<00:00, 145.69it/s]"
     ]
    },
    {
     "name": "stdout",
     "output_type": "stream",
     "text": [
      "Epoch 9 | Steps 2000 | Loss = 1.6421960592269897\n"
     ]
    },
    {
     "name": "stderr",
     "output_type": "stream",
     "text": [
      "Batch:  92%|█████████▏| 196/214 [00:01<00:00, 134.92it/s]"
     ]
    },
    {
     "name": "stdout",
     "output_type": "stream",
     "text": [
      "Epoch 9 | Steps 2100 | Loss = 1.6057405471801758\n"
     ]
    },
    {
     "name": "stderr",
     "output_type": "stream",
     "text": [
      "Batch: 100%|██████████| 214/214 [00:01<00:00, 131.63it/s]\n",
      "Batch:  36%|███▌      | 77/214 [00:00<00:00, 146.89it/s]"
     ]
    },
    {
     "name": "stdout",
     "output_type": "stream",
     "text": [
      "Epoch 10 | Steps 2200 | Loss = 1.6051030158996582\n"
     ]
    },
    {
     "name": "stderr",
     "output_type": "stream",
     "text": [
      "Batch:  86%|████████▋ | 185/214 [00:01<00:00, 127.28it/s]"
     ]
    },
    {
     "name": "stdout",
     "output_type": "stream",
     "text": [
      "Epoch 10 | Steps 2300 | Loss = 1.5750596523284912\n"
     ]
    },
    {
     "name": "stderr",
     "output_type": "stream",
     "text": [
      "Batch: 100%|██████████| 214/214 [00:01<00:00, 125.88it/s]\n",
      "Batch:   8%|▊         | 17/214 [00:00<00:01, 166.02it/s]"
     ]
    },
    {
     "name": "stdout",
     "output_type": "stream",
     "text": [
      "Epoch = 10 | Avg Loss = 1.5994071269703802\n"
     ]
    },
    {
     "name": "stderr",
     "output_type": "stream",
     "text": [
      "Batch:  32%|███▏      | 68/214 [00:00<00:01, 105.11it/s]"
     ]
    },
    {
     "name": "stdout",
     "output_type": "stream",
     "text": [
      "Epoch 11 | Steps 2400 | Loss = 1.5656623840332031\n"
     ]
    },
    {
     "name": "stderr",
     "output_type": "stream",
     "text": [
      "Batch:  80%|████████  | 172/214 [00:01<00:00, 160.21it/s]"
     ]
    },
    {
     "name": "stdout",
     "output_type": "stream",
     "text": [
      "Epoch 11 | Steps 2500 | Loss = 1.583791732788086\n"
     ]
    },
    {
     "name": "stderr",
     "output_type": "stream",
     "text": [
      "Batch: 100%|██████████| 214/214 [00:01<00:00, 145.47it/s]\n",
      "Batch:  25%|██▍       | 53/214 [00:00<00:00, 170.88it/s]"
     ]
    },
    {
     "name": "stdout",
     "output_type": "stream",
     "text": [
      "Epoch 12 | Steps 2600 | Loss = 1.5623761415481567\n"
     ]
    },
    {
     "name": "stderr",
     "output_type": "stream",
     "text": [
      "Batch:  72%|███████▏  | 154/214 [00:00<00:00, 166.31it/s]"
     ]
    },
    {
     "name": "stdout",
     "output_type": "stream",
     "text": [
      "Epoch 12 | Steps 2700 | Loss = 1.557012677192688\n"
     ]
    },
    {
     "name": "stderr",
     "output_type": "stream",
     "text": [
      "Batch:  24%|██▍       | 51/214 [00:00<00:00, 167.39it/s]]"
     ]
    },
    {
     "name": "stdout",
     "output_type": "stream",
     "text": [
      "Epoch 13 | Steps 2800 | Loss = 1.584449291229248\n"
     ]
    },
    {
     "name": "stderr",
     "output_type": "stream",
     "text": [
      "Batch:  70%|██████▉   | 149/214 [00:00<00:00, 161.13it/s]"
     ]
    },
    {
     "name": "stdout",
     "output_type": "stream",
     "text": [
      "Epoch 13 | Steps 2900 | Loss = 1.571823239326477\n"
     ]
    },
    {
     "name": "stderr",
     "output_type": "stream",
     "text": [
      "Batch: 100%|██████████| 214/214 [00:01<00:00, 161.91it/s]\n",
      "Batch:  15%|█▌        | 33/214 [00:00<00:01, 162.26it/s]"
     ]
    },
    {
     "name": "stdout",
     "output_type": "stream",
     "text": [
      "Epoch 14 | Steps 3000 | Loss = 1.560146450996399\n"
     ]
    },
    {
     "name": "stderr",
     "output_type": "stream",
     "text": [
      "Batch:  62%|██████▏   | 133/214 [00:00<00:00, 165.54it/s]"
     ]
    },
    {
     "name": "stdout",
     "output_type": "stream",
     "text": [
      "Epoch 14 | Steps 3100 | Loss = 1.56004798412323\n"
     ]
    },
    {
     "name": "stderr",
     "output_type": "stream",
     "text": [
      "Batch: 100%|██████████| 214/214 [00:01<00:00, 163.09it/s]\n",
      "Batch:   8%|▊         | 17/214 [00:00<00:01, 165.77it/s]"
     ]
    },
    {
     "name": "stdout",
     "output_type": "stream",
     "text": [
      "Epoch 14 | Steps 3200 | Loss = 1.578438401222229\n"
     ]
    },
    {
     "name": "stderr",
     "output_type": "stream",
     "text": [
      "Batch:  52%|█████▏    | 112/214 [00:00<00:00, 160.15it/s]"
     ]
    },
    {
     "name": "stdout",
     "output_type": "stream",
     "text": [
      "Epoch 15 | Steps 3300 | Loss = 1.5770460367202759\n"
     ]
    },
    {
     "name": "stderr",
     "output_type": "stream",
     "text": [
      "Batch: 100%|██████████| 214/214 [00:01<00:00, 158.06it/s]"
     ]
    },
    {
     "name": "stdout",
     "output_type": "stream",
     "text": [
      "Epoch 15 | Steps 3400 | Loss = 1.5137784481048584\n",
      "Epoch = 15 | Avg Loss = 1.552286943542623\n"
     ]
    },
    {
     "name": "stderr",
     "output_type": "stream",
     "text": [
      "\n",
      "Batch:  47%|████▋     | 100/214 [00:00<00:00, 162.24it/s]"
     ]
    },
    {
     "name": "stdout",
     "output_type": "stream",
     "text": [
      "Epoch 16 | Steps 3500 | Loss = 1.5033999681472778\n"
     ]
    },
    {
     "name": "stderr",
     "output_type": "stream",
     "text": [
      "Batch:  93%|█████████▎| 199/214 [00:01<00:00, 155.87it/s]"
     ]
    },
    {
     "name": "stdout",
     "output_type": "stream",
     "text": [
      "Epoch 16 | Steps 3600 | Loss = 1.5258383750915527\n"
     ]
    },
    {
     "name": "stderr",
     "output_type": "stream",
     "text": [
      "Batch: 100%|██████████| 214/214 [00:01<00:00, 158.67it/s]\n",
      "Batch:  38%|███▊      | 81/214 [00:00<00:00, 155.82it/s]"
     ]
    },
    {
     "name": "stdout",
     "output_type": "stream",
     "text": [
      "Epoch 17 | Steps 3700 | Loss = 1.5249446630477905\n"
     ]
    },
    {
     "name": "stderr",
     "output_type": "stream",
     "text": [
      "Batch:  84%|████████▍ | 180/214 [00:01<00:00, 163.63it/s]"
     ]
    },
    {
     "name": "stdout",
     "output_type": "stream",
     "text": [
      "Epoch 17 | Steps 3800 | Loss = 1.4950004816055298\n"
     ]
    },
    {
     "name": "stderr",
     "output_type": "stream",
     "text": [
      "Batch: 100%|██████████| 214/214 [00:01<00:00, 158.99it/s]\n",
      "Batch:  38%|███▊      | 82/214 [00:00<00:00, 161.32it/s]"
     ]
    },
    {
     "name": "stdout",
     "output_type": "stream",
     "text": [
      "Epoch 18 | Steps 3900 | Loss = 1.5067440271377563\n"
     ]
    },
    {
     "name": "stderr",
     "output_type": "stream",
     "text": [
      "Batch:  78%|███████▊  | 166/214 [00:01<00:00, 164.69it/s]"
     ]
    },
    {
     "name": "stdout",
     "output_type": "stream",
     "text": [
      "Epoch 18 | Steps 4000 | Loss = 1.5183757543563843\n"
     ]
    },
    {
     "name": "stderr",
     "output_type": "stream",
     "text": [
      "Batch: 100%|██████████| 214/214 [00:01<00:00, 156.16it/s]\n",
      "Batch:  25%|██▍       | 53/214 [00:00<00:00, 171.70it/s]"
     ]
    },
    {
     "name": "stdout",
     "output_type": "stream",
     "text": [
      "Epoch 19 | Steps 4100 | Loss = 1.5259908437728882\n"
     ]
    },
    {
     "name": "stderr",
     "output_type": "stream",
     "text": [
      "Batch:  74%|███████▍  | 158/214 [00:00<00:00, 172.34it/s]"
     ]
    },
    {
     "name": "stdout",
     "output_type": "stream",
     "text": [
      "Epoch 19 | Steps 4200 | Loss = 1.541332483291626\n"
     ]
    },
    {
     "name": "stderr",
     "output_type": "stream",
     "text": [
      "Batch: 100%|██████████| 214/214 [00:01<00:00, 168.59it/s]\n",
      "Batch:  23%|██▎       | 50/214 [00:00<00:01, 163.10it/s]]"
     ]
    },
    {
     "name": "stdout",
     "output_type": "stream",
     "text": [
      "Epoch 20 | Steps 4300 | Loss = 1.5271075963974\n"
     ]
    },
    {
     "name": "stderr",
     "output_type": "stream",
     "text": [
      "Batch:  70%|███████   | 150/214 [00:00<00:00, 163.82it/s]"
     ]
    },
    {
     "name": "stdout",
     "output_type": "stream",
     "text": [
      "Epoch 20 | Steps 4400 | Loss = 1.5529139041900635\n"
     ]
    },
    {
     "name": "stderr",
     "output_type": "stream",
     "text": [
      "Batch:   8%|▊         | 17/214 [00:00<00:01, 165.57it/s]]"
     ]
    },
    {
     "name": "stdout",
     "output_type": "stream",
     "text": [
      "Epoch = 20 | Avg Loss = 1.5278094539018434\n",
      "Epoch 21 | Steps 4500 | Loss = 1.4745237827301025\n"
     ]
    },
    {
     "name": "stderr",
     "output_type": "stream",
     "text": [
      "Batch:  62%|██████▏   | 133/214 [00:00<00:00, 163.28it/s]"
     ]
    },
    {
     "name": "stdout",
     "output_type": "stream",
     "text": [
      "Epoch 21 | Steps 4600 | Loss = 1.554053544998169\n"
     ]
    },
    {
     "name": "stderr",
     "output_type": "stream",
     "text": [
      "Batch: 100%|██████████| 214/214 [00:01<00:00, 161.09it/s]\n",
      "Batch:   8%|▊         | 17/214 [00:00<00:01, 163.01it/s]"
     ]
    },
    {
     "name": "stdout",
     "output_type": "stream",
     "text": [
      "Epoch 21 | Steps 4700 | Loss = 1.5248442888259888\n"
     ]
    },
    {
     "name": "stderr",
     "output_type": "stream",
     "text": [
      "Batch:  53%|█████▎    | 113/214 [00:00<00:00, 158.35it/s]"
     ]
    },
    {
     "name": "stdout",
     "output_type": "stream",
     "text": [
      "Epoch 22 | Steps 4800 | Loss = 1.5697635412216187\n"
     ]
    },
    {
     "name": "stderr",
     "output_type": "stream",
     "text": [
      "Batch: 100%|██████████| 214/214 [00:01<00:00, 155.81it/s]\n"
     ]
    },
    {
     "name": "stdout",
     "output_type": "stream",
     "text": [
      "Epoch 22 | Steps 4900 | Loss = 1.5106953382492065\n"
     ]
    },
    {
     "name": "stderr",
     "output_type": "stream",
     "text": [
      "Batch:  52%|█████▏    | 112/214 [00:00<00:00, 153.79it/s]"
     ]
    },
    {
     "name": "stdout",
     "output_type": "stream",
     "text": [
      "Epoch 23 | Steps 5000 | Loss = 1.511215329170227\n"
     ]
    },
    {
     "name": "stderr",
     "output_type": "stream",
     "text": [
      "Batch:  98%|█████████▊| 209/214 [00:01<00:00, 158.27it/s]"
     ]
    },
    {
     "name": "stdout",
     "output_type": "stream",
     "text": [
      "Epoch 23 | Steps 5100 | Loss = 1.5033361911773682\n"
     ]
    },
    {
     "name": "stderr",
     "output_type": "stream",
     "text": [
      "Batch: 100%|██████████| 214/214 [00:01<00:00, 155.02it/s]\n",
      "Batch:  45%|████▍     | 96/214 [00:00<00:00, 150.08it/s]"
     ]
    },
    {
     "name": "stdout",
     "output_type": "stream",
     "text": [
      "Epoch 24 | Steps 5200 | Loss = 1.5170753002166748\n"
     ]
    },
    {
     "name": "stderr",
     "output_type": "stream",
     "text": [
      "Batch:  91%|█████████ | 195/214 [00:01<00:00, 158.33it/s]"
     ]
    },
    {
     "name": "stdout",
     "output_type": "stream",
     "text": [
      "Epoch 24 | Steps 5300 | Loss = 1.4870576858520508\n"
     ]
    },
    {
     "name": "stderr",
     "output_type": "stream",
     "text": [
      "Batch: 100%|██████████| 214/214 [00:01<00:00, 154.51it/s]\n",
      "Batch:  38%|███▊      | 82/214 [00:00<00:00, 160.02it/s]"
     ]
    },
    {
     "name": "stdout",
     "output_type": "stream",
     "text": [
      "Epoch 25 | Steps 5400 | Loss = 1.4744057655334473\n"
     ]
    },
    {
     "name": "stderr",
     "output_type": "stream",
     "text": [
      "Batch:  85%|████████▍ | 181/214 [00:01<00:00, 159.55it/s]"
     ]
    },
    {
     "name": "stdout",
     "output_type": "stream",
     "text": [
      "Epoch 25 | Steps 5500 | Loss = 1.485007405281067\n"
     ]
    },
    {
     "name": "stderr",
     "output_type": "stream",
     "text": [
      "Batch: 100%|██████████| 214/214 [00:01<00:00, 146.62it/s]\n",
      "Batch:   7%|▋         | 16/214 [00:00<00:01, 153.88it/s]"
     ]
    },
    {
     "name": "stdout",
     "output_type": "stream",
     "text": [
      "Epoch = 25 | Avg Loss = 1.5126137655472087\n"
     ]
    },
    {
     "name": "stderr",
     "output_type": "stream",
     "text": [
      "Batch:  26%|██▌       | 56/214 [00:00<00:01, 129.56it/s]"
     ]
    },
    {
     "name": "stdout",
     "output_type": "stream",
     "text": [
      "Epoch 26 | Steps 5600 | Loss = 1.5227636098861694\n"
     ]
    },
    {
     "name": "stderr",
     "output_type": "stream",
     "text": [
      "Batch:  70%|███████   | 150/214 [00:01<00:00, 104.69it/s]"
     ]
    },
    {
     "name": "stdout",
     "output_type": "stream",
     "text": [
      "Epoch 26 | Steps 5700 | Loss = 1.5560731887817383\n"
     ]
    },
    {
     "name": "stderr",
     "output_type": "stream",
     "text": [
      "Batch: 100%|██████████| 214/214 [00:01<00:00, 122.42it/s]\n",
      "Batch:  24%|██▍       | 51/214 [00:00<00:01, 88.25it/s]s]"
     ]
    },
    {
     "name": "stdout",
     "output_type": "stream",
     "text": [
      "Epoch 27 | Steps 5800 | Loss = 1.469330072402954\n"
     ]
    },
    {
     "name": "stderr",
     "output_type": "stream",
     "text": [
      "Batch:  68%|██████▊   | 145/214 [00:01<00:00, 108.80it/s]"
     ]
    },
    {
     "name": "stdout",
     "output_type": "stream",
     "text": [
      "Epoch 27 | Steps 5900 | Loss = 1.5038747787475586\n"
     ]
    },
    {
     "name": "stderr",
     "output_type": "stream",
     "text": [
      "Batch:  15%|█▌        | 33/214 [00:00<00:01, 159.50it/s]]"
     ]
    },
    {
     "name": "stdout",
     "output_type": "stream",
     "text": [
      "Epoch 28 | Steps 6000 | Loss = 1.4731800556182861\n"
     ]
    },
    {
     "name": "stderr",
     "output_type": "stream",
     "text": [
      "Batch:  62%|██████▏   | 132/214 [00:00<00:00, 160.60it/s]"
     ]
    },
    {
     "name": "stdout",
     "output_type": "stream",
     "text": [
      "Epoch 28 | Steps 6100 | Loss = 1.5133757591247559\n"
     ]
    },
    {
     "name": "stderr",
     "output_type": "stream",
     "text": [
      "Batch: 100%|██████████| 214/214 [00:01<00:00, 159.18it/s]\n",
      "Batch:   8%|▊         | 17/214 [00:00<00:01, 164.43it/s]"
     ]
    },
    {
     "name": "stdout",
     "output_type": "stream",
     "text": [
      "Epoch 28 | Steps 6200 | Loss = 1.5759392976760864\n"
     ]
    },
    {
     "name": "stderr",
     "output_type": "stream",
     "text": [
      "Batch:  54%|█████▍    | 116/214 [00:00<00:00, 125.93it/s]"
     ]
    },
    {
     "name": "stdout",
     "output_type": "stream",
     "text": [
      "Epoch 29 | Steps 6300 | Loss = 1.5084898471832275\n"
     ]
    },
    {
     "name": "stderr",
     "output_type": "stream",
     "text": [
      "Batch:  92%|█████████▏| 197/214 [00:01<00:00, 105.72it/s]"
     ]
    },
    {
     "name": "stdout",
     "output_type": "stream",
     "text": [
      "Epoch 29 | Steps 6400 | Loss = 1.4886040687561035\n"
     ]
    },
    {
     "name": "stderr",
     "output_type": "stream",
     "text": [
      "Batch: 100%|██████████| 214/214 [00:02<00:00, 100.80it/s]\n",
      "Batch:  44%|████▍     | 95/214 [00:01<00:01, 59.98it/s]"
     ]
    },
    {
     "name": "stdout",
     "output_type": "stream",
     "text": [
      "Epoch 30 | Steps 6500 | Loss = 1.5046442747116089\n"
     ]
    },
    {
     "name": "stderr",
     "output_type": "stream",
     "text": [
      "Batch:  96%|█████████▌| 205/214 [00:02<00:00, 132.99it/s]"
     ]
    },
    {
     "name": "stdout",
     "output_type": "stream",
     "text": [
      "Epoch 30 | Steps 6600 | Loss = 1.478358507156372\n"
     ]
    },
    {
     "name": "stderr",
     "output_type": "stream",
     "text": [
      "Batch: 100%|██████████| 214/214 [00:02<00:00, 82.30it/s] \n",
      "Batch:   7%|▋         | 15/214 [00:00<00:01, 141.47it/s]"
     ]
    },
    {
     "name": "stdout",
     "output_type": "stream",
     "text": [
      "Epoch = 30 | Avg Loss = 1.5019053254172066\n"
     ]
    },
    {
     "name": "stderr",
     "output_type": "stream",
     "text": [
      "Batch:  44%|████▍     | 94/214 [00:00<00:01, 113.66it/s]"
     ]
    },
    {
     "name": "stdout",
     "output_type": "stream",
     "text": [
      "Epoch 31 | Steps 6700 | Loss = 1.4949283599853516\n"
     ]
    },
    {
     "name": "stderr",
     "output_type": "stream",
     "text": [
      "Batch:  82%|████████▏ | 175/214 [00:01<00:00, 87.21it/s] "
     ]
    },
    {
     "name": "stdout",
     "output_type": "stream",
     "text": [
      "Epoch 31 | Steps 6800 | Loss = 1.5049445629119873\n"
     ]
    },
    {
     "name": "stderr",
     "output_type": "stream",
     "text": [
      "Batch: 100%|██████████| 214/214 [00:02<00:00, 105.42it/s]\n",
      "Batch:  38%|███▊      | 82/214 [00:00<00:00, 153.92it/s]]"
     ]
    },
    {
     "name": "stdout",
     "output_type": "stream",
     "text": [
      "Epoch 32 | Steps 6900 | Loss = 1.490114688873291\n"
     ]
    },
    {
     "name": "stderr",
     "output_type": "stream",
     "text": [
      "Batch:  79%|███████▉  | 169/214 [00:01<00:00, 128.10it/s]"
     ]
    },
    {
     "name": "stdout",
     "output_type": "stream",
     "text": [
      "Epoch 32 | Steps 7000 | Loss = 1.533011555671692\n"
     ]
    },
    {
     "name": "stderr",
     "output_type": "stream",
     "text": [
      "Batch:  21%|██        | 44/214 [00:01<00:04, 42.46it/s]] "
     ]
    },
    {
     "name": "stdout",
     "output_type": "stream",
     "text": [
      "Epoch 33 | Steps 7100 | Loss = 1.446194052696228\n"
     ]
    },
    {
     "name": "stderr",
     "output_type": "stream",
     "text": [
      "Batch:  79%|███████▉  | 169/214 [00:02<00:00, 119.96it/s]"
     ]
    },
    {
     "name": "stdout",
     "output_type": "stream",
     "text": [
      "Epoch 33 | Steps 7200 | Loss = 1.468514323234558\n"
     ]
    },
    {
     "name": "stderr",
     "output_type": "stream",
     "text": [
      "Batch: 100%|██████████| 214/214 [00:02<00:00, 81.08it/s] \n",
      "Batch:  18%|█▊        | 39/214 [00:00<00:01, 91.70it/s] "
     ]
    },
    {
     "name": "stdout",
     "output_type": "stream",
     "text": [
      "Epoch 34 | Steps 7300 | Loss = 1.5031628608703613\n"
     ]
    },
    {
     "name": "stderr",
     "output_type": "stream",
     "text": [
      "Batch:  69%|██████▊   | 147/214 [00:01<00:00, 145.52it/s]"
     ]
    },
    {
     "name": "stdout",
     "output_type": "stream",
     "text": [
      "Epoch 34 | Steps 7400 | Loss = 1.4934322834014893\n"
     ]
    },
    {
     "name": "stderr",
     "output_type": "stream",
     "text": [
      "Batch: 100%|██████████| 214/214 [00:01<00:00, 136.70it/s]\n",
      "Batch:  15%|█▌        | 33/214 [00:00<00:01, 159.33it/s]"
     ]
    },
    {
     "name": "stdout",
     "output_type": "stream",
     "text": [
      "Epoch 35 | Steps 7500 | Loss = 1.498509407043457\n"
     ]
    },
    {
     "name": "stderr",
     "output_type": "stream",
     "text": [
      "Batch:  59%|█████▉    | 127/214 [00:00<00:00, 150.35it/s]"
     ]
    },
    {
     "name": "stdout",
     "output_type": "stream",
     "text": [
      "Epoch 35 | Steps 7600 | Loss = 1.5073248147964478\n"
     ]
    },
    {
     "name": "stderr",
     "output_type": "stream",
     "text": [
      "Batch: 100%|██████████| 214/214 [00:01<00:00, 154.85it/s]\n",
      "Batch:   8%|▊         | 17/214 [00:00<00:01, 165.34it/s]"
     ]
    },
    {
     "name": "stdout",
     "output_type": "stream",
     "text": [
      "Epoch 35 | Steps 7700 | Loss = 1.4655438661575317\n",
      "Epoch = 35 | Avg Loss = 1.4946674136357887\n"
     ]
    },
    {
     "name": "stderr",
     "output_type": "stream",
     "text": [
      "Batch:  54%|█████▎    | 115/214 [00:00<00:00, 163.59it/s]"
     ]
    },
    {
     "name": "stdout",
     "output_type": "stream",
     "text": [
      "Epoch 36 | Steps 7800 | Loss = 1.4345686435699463\n"
     ]
    },
    {
     "name": "stderr",
     "output_type": "stream",
     "text": [
      "Batch: 100%|██████████| 214/214 [00:01<00:00, 146.90it/s]\n"
     ]
    },
    {
     "name": "stdout",
     "output_type": "stream",
     "text": [
      "Epoch 36 | Steps 7900 | Loss = 1.5165880918502808\n"
     ]
    },
    {
     "name": "stderr",
     "output_type": "stream",
     "text": [
      "Batch:  42%|████▏     | 90/214 [00:00<00:00, 136.92it/s]"
     ]
    },
    {
     "name": "stdout",
     "output_type": "stream",
     "text": [
      "Epoch 37 | Steps 8000 | Loss = 1.4265434741973877\n"
     ]
    },
    {
     "name": "stderr",
     "output_type": "stream",
     "text": [
      "Batch:  89%|████████▉ | 190/214 [00:02<00:00, 44.81it/s]]"
     ]
    },
    {
     "name": "stdout",
     "output_type": "stream",
     "text": [
      "Epoch 37 | Steps 8100 | Loss = 1.521941900253296\n"
     ]
    },
    {
     "name": "stderr",
     "output_type": "stream",
     "text": [
      "Batch:  40%|███▉      | 85/214 [00:01<00:01, 68.29it/s]]"
     ]
    },
    {
     "name": "stdout",
     "output_type": "stream",
     "text": [
      "Epoch 38 | Steps 8200 | Loss = 1.4691271781921387\n"
     ]
    },
    {
     "name": "stderr",
     "output_type": "stream",
     "text": [
      "Batch:  87%|████████▋ | 186/214 [00:02<00:00, 142.10it/s]"
     ]
    },
    {
     "name": "stdout",
     "output_type": "stream",
     "text": [
      "Epoch 38 | Steps 8300 | Loss = 1.5251168012619019\n"
     ]
    },
    {
     "name": "stderr",
     "output_type": "stream",
     "text": [
      "Batch: 100%|██████████| 214/214 [00:02<00:00, 95.15it/s] \n",
      "Batch:  37%|███▋      | 79/214 [00:00<00:00, 147.30it/s]"
     ]
    },
    {
     "name": "stdout",
     "output_type": "stream",
     "text": [
      "Epoch 39 | Steps 8400 | Loss = 1.463073492050171\n"
     ]
    },
    {
     "name": "stderr",
     "output_type": "stream",
     "text": [
      "Batch:  87%|████████▋ | 186/214 [00:01<00:00, 168.71it/s]"
     ]
    },
    {
     "name": "stdout",
     "output_type": "stream",
     "text": [
      "Epoch 39 | Steps 8500 | Loss = 1.506534457206726\n"
     ]
    },
    {
     "name": "stderr",
     "output_type": "stream",
     "text": [
      "Batch: 100%|██████████| 214/214 [00:01<00:00, 162.12it/s]\n",
      "Batch:  29%|██▊       | 61/214 [00:00<00:01, 82.97it/s]"
     ]
    },
    {
     "name": "stdout",
     "output_type": "stream",
     "text": [
      "Epoch 40 | Steps 8600 | Loss = 1.54047691822052\n"
     ]
    },
    {
     "name": "stderr",
     "output_type": "stream",
     "text": [
      "Batch:  72%|███████▏  | 154/214 [00:01<00:00, 126.14it/s]"
     ]
    },
    {
     "name": "stdout",
     "output_type": "stream",
     "text": [
      "Epoch 40 | Steps 8700 | Loss = 1.5041189193725586\n"
     ]
    },
    {
     "name": "stderr",
     "output_type": "stream",
     "text": [
      "Batch: 100%|██████████| 214/214 [00:01<00:00, 115.52it/s]\n",
      "Batch:   8%|▊         | 17/214 [00:00<00:01, 160.90it/s]"
     ]
    },
    {
     "name": "stdout",
     "output_type": "stream",
     "text": [
      "Epoch = 40 | Avg Loss = 1.4887615419993891\n",
      "Epoch 41 | Steps 8800 | Loss = 1.5120134353637695\n"
     ]
    },
    {
     "name": "stderr",
     "output_type": "stream",
     "text": [
      "Batch:  67%|██████▋   | 144/214 [00:00<00:00, 153.66it/s]"
     ]
    },
    {
     "name": "stdout",
     "output_type": "stream",
     "text": [
      "Epoch 41 | Steps 8900 | Loss = 1.4357918500900269\n"
     ]
    },
    {
     "name": "stderr",
     "output_type": "stream",
     "text": [
      "Batch: 100%|██████████| 214/214 [00:01<00:00, 150.03it/s]\n",
      "Batch:  16%|█▌        | 34/214 [00:00<00:01, 165.81it/s]"
     ]
    },
    {
     "name": "stdout",
     "output_type": "stream",
     "text": [
      "Epoch 42 | Steps 9000 | Loss = 1.5419437885284424\n"
     ]
    },
    {
     "name": "stderr",
     "output_type": "stream",
     "text": [
      "Batch:  63%|██████▎   | 134/214 [00:00<00:00, 148.57it/s]"
     ]
    },
    {
     "name": "stdout",
     "output_type": "stream",
     "text": [
      "Epoch 42 | Steps 9100 | Loss = 1.4741053581237793\n"
     ]
    },
    {
     "name": "stderr",
     "output_type": "stream",
     "text": [
      "Batch: 100%|██████████| 214/214 [00:01<00:00, 161.61it/s]\n",
      "Batch:   8%|▊         | 17/214 [00:00<00:01, 165.77it/s]"
     ]
    },
    {
     "name": "stdout",
     "output_type": "stream",
     "text": [
      "Epoch 42 | Steps 9200 | Loss = 1.5080243349075317\n"
     ]
    },
    {
     "name": "stderr",
     "output_type": "stream",
     "text": [
      "Batch:  55%|█████▌    | 118/214 [00:01<00:00, 96.89it/s]"
     ]
    },
    {
     "name": "stdout",
     "output_type": "stream",
     "text": [
      "Epoch 43 | Steps 9300 | Loss = 1.5050454139709473\n"
     ]
    },
    {
     "name": "stderr",
     "output_type": "stream",
     "text": [
      "Batch:   8%|▊         | 17/214 [00:00<00:01, 166.17it/s] "
     ]
    },
    {
     "name": "stdout",
     "output_type": "stream",
     "text": [
      "Epoch 43 | Steps 9400 | Loss = 1.4560378789901733\n"
     ]
    },
    {
     "name": "stderr",
     "output_type": "stream",
     "text": [
      "Batch:  43%|████▎     | 93/214 [00:01<00:02, 55.52it/s] "
     ]
    },
    {
     "name": "stdout",
     "output_type": "stream",
     "text": [
      "Epoch 44 | Steps 9500 | Loss = 1.509315013885498\n"
     ]
    },
    {
     "name": "stderr",
     "output_type": "stream",
     "text": [
      "Batch: 100%|██████████| 214/214 [00:02<00:00, 78.76it/s]\n"
     ]
    },
    {
     "name": "stdout",
     "output_type": "stream",
     "text": [
      "Epoch 44 | Steps 9600 | Loss = 1.5296515226364136\n"
     ]
    },
    {
     "name": "stderr",
     "output_type": "stream",
     "text": [
      "Batch:  48%|████▊     | 102/214 [00:00<00:00, 166.08it/s]"
     ]
    },
    {
     "name": "stdout",
     "output_type": "stream",
     "text": [
      "Epoch 45 | Steps 9700 | Loss = 1.4834978580474854\n"
     ]
    },
    {
     "name": "stderr",
     "output_type": "stream",
     "text": [
      "Batch:  86%|████████▋ | 185/214 [00:01<00:00, 157.31it/s]"
     ]
    },
    {
     "name": "stdout",
     "output_type": "stream",
     "text": [
      "Epoch 45 | Steps 9800 | Loss = 1.4893994331359863\n"
     ]
    },
    {
     "name": "stderr",
     "output_type": "stream",
     "text": [
      "Batch: 100%|██████████| 214/214 [00:01<00:00, 163.53it/s]\n",
      "Batch:   8%|▊         | 17/214 [00:00<00:01, 165.71it/s]"
     ]
    },
    {
     "name": "stdout",
     "output_type": "stream",
     "text": [
      "Epoch = 45 | Avg Loss = 1.4850217883831986\n"
     ]
    },
    {
     "name": "stderr",
     "output_type": "stream",
     "text": [
      "Batch:  40%|███▉      | 85/214 [00:00<00:00, 164.77it/s]"
     ]
    },
    {
     "name": "stdout",
     "output_type": "stream",
     "text": [
      "Epoch 46 | Steps 9900 | Loss = 1.505232572555542\n"
     ]
    },
    {
     "name": "stderr",
     "output_type": "stream",
     "text": [
      "Batch:  83%|████████▎ | 178/214 [00:01<00:00, 145.52it/s]"
     ]
    },
    {
     "name": "stdout",
     "output_type": "stream",
     "text": [
      "Epoch 46 | Steps 10000 | Loss = 1.5124047994613647\n"
     ]
    },
    {
     "name": "stderr",
     "output_type": "stream",
     "text": [
      "Batch: 100%|██████████| 214/214 [00:01<00:00, 143.16it/s]\n",
      "Batch:  32%|███▏      | 68/214 [00:00<00:00, 165.25it/s]"
     ]
    },
    {
     "name": "stdout",
     "output_type": "stream",
     "text": [
      "Epoch 47 | Steps 10100 | Loss = 1.4954311847686768\n"
     ]
    },
    {
     "name": "stderr",
     "output_type": "stream",
     "text": [
      "Batch:  79%|███████▉  | 170/214 [00:01<00:00, 166.45it/s]"
     ]
    },
    {
     "name": "stdout",
     "output_type": "stream",
     "text": [
      "Epoch 47 | Steps 10200 | Loss = 1.48506498336792\n"
     ]
    },
    {
     "name": "stderr",
     "output_type": "stream",
     "text": [
      "Batch: 100%|██████████| 214/214 [00:01<00:00, 165.88it/s]\n",
      "Batch:  22%|██▏       | 47/214 [00:00<00:01, 104.79it/s]"
     ]
    },
    {
     "name": "stdout",
     "output_type": "stream",
     "text": [
      "Epoch 48 | Steps 10300 | Loss = 1.460173487663269\n"
     ]
    },
    {
     "name": "stderr",
     "output_type": "stream",
     "text": [
      "Batch:  70%|██████▉   | 149/214 [00:01<00:00, 154.67it/s]"
     ]
    },
    {
     "name": "stdout",
     "output_type": "stream",
     "text": [
      "Epoch 48 | Steps 10400 | Loss = 1.5039653778076172\n"
     ]
    },
    {
     "name": "stderr",
     "output_type": "stream",
     "text": [
      "Batch: 100%|██████████| 214/214 [00:01<00:00, 150.42it/s]\n",
      "Batch:  13%|█▎        | 27/214 [00:00<00:01, 129.78it/s]"
     ]
    },
    {
     "name": "stdout",
     "output_type": "stream",
     "text": [
      "Epoch 49 | Steps 10500 | Loss = 1.4996896982192993\n"
     ]
    },
    {
     "name": "stderr",
     "output_type": "stream",
     "text": [
      "Batch:  67%|██████▋   | 143/214 [00:01<00:00, 149.40it/s]"
     ]
    },
    {
     "name": "stdout",
     "output_type": "stream",
     "text": [
      "Epoch 49 | Steps 10600 | Loss = 1.427970290184021\n"
     ]
    },
    {
     "name": "stderr",
     "output_type": "stream",
     "text": [
      "Batch: 100%|██████████| 214/214 [00:20<00:00, 160.55it/s]"
     ]
    }
   ],
   "source": [
    "### Configurations\n",
    "\n",
    "epoch_progress = tqdm.tqdm(total=epochs, desc=\"Epoch\", position=0)\n",
    "\n",
    "steps = 0\n",
    "\n",
    "for epoch in range(epochs):\n",
    "    \n",
    "    batch_progress = tqdm.tqdm(total=len(dataloader), desc=\"Batch\", position=0)\n",
    "    epoch_loss = []\n",
    "\n",
    "    \n",
    "    for i, batch in enumerate(dataloader):\n",
    "        x, y = batch\n",
    "        \n",
    "        x = x.to(device)\n",
    "        y = y.to(device)\n",
    "        \n",
    "        \n",
    "        outputs, _ = model(x, None)\n",
    "        \n",
    "#         print(x.size(), y.size(), outputs.size(), y.view(batch_size, seq_len).size(0))\n",
    "        \n",
    "        loss = criterion(outputs, y.view(-1).long())\n",
    "        \n",
    "        # backpropagate the loss update the params\n",
    "        optmizer.zero_grad()\n",
    "        loss.backward()\n",
    "        optmizer.step()\n",
    "        \n",
    "        if steps%100==0:\n",
    "            print(f\"Epoch {epoch} | Steps {steps} | Loss = {loss.item()}\")\n",
    "        \n",
    "        writer.add_scalar(\"Step Wise Loss\", loss.item(), steps)\n",
    "        epoch_loss.append(loss.item())\n",
    "        \n",
    "        batch_progress.update(1)\n",
    "        steps += 1\n",
    "    \n",
    "    avg_loss = sum(epoch_loss)/len(epoch_loss)\n",
    "    writer.add_scalar(\"Epoch Loss\", avg_loss, epoch)\n",
    "    if epoch%(epochs//10)==0:\n",
    "        print(f\"Epoch = {epoch} | Avg Loss = {avg_loss}\")\n",
    "    epoch_progress.update(1)\n"
   ]
  },
  {
   "cell_type": "markdown",
   "metadata": {},
   "source": [
    "#### Save the model checkpoint"
   ]
  },
  {
   "cell_type": "code",
   "execution_count": null,
   "metadata": {},
   "outputs": [],
   "source": [
    "# save the model if you want"
   ]
  },
  {
   "cell_type": "code",
   "execution_count": null,
   "metadata": {},
   "outputs": [],
   "source": []
  }
 ],
 "metadata": {
  "kernelspec": {
   "display_name": "Python 3.7.6 64-bit ('base': conda)",
   "language": "python",
   "name": "python37664bitbaseconda1b4d65181bfe435290e55078ed6e0090"
  },
  "language_info": {
   "codemirror_mode": {
    "name": "ipython",
    "version": 3
   },
   "file_extension": ".py",
   "mimetype": "text/x-python",
   "name": "python",
   "nbconvert_exporter": "python",
   "pygments_lexer": "ipython3",
   "version": "3.7.6"
  }
 },
 "nbformat": 4,
 "nbformat_minor": 4
}
