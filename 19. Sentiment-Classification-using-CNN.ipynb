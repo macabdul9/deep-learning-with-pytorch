{
  "nbformat": 4,
  "nbformat_minor": 0,
  "metadata": {
    "kernelspec": {
      "name": "python3",
      "display_name": "Python 3"
    },
    "colab": {
      "name": "Sentiment-Classification-using-CNN.ipynb",
      "provenance": []
    },
    "accelerator": "GPU"
  },
  "cells": [
    {
      "cell_type": "code",
      "metadata": {
        "id": "CTdkrq2rDIYG",
        "colab_type": "code",
        "colab": {}
      },
      "source": [
        "# utils \n",
        "import torch\n",
        "\n",
        "# data \n",
        "from torchtext import datasets\n",
        "from torchtext.data import Field, LabelField, BucketIterator\n",
        "\n",
        "# model\n",
        "import torch.nn as nn\n",
        "import torch.nn.functional as F\n",
        "\n",
        "# training\n",
        "import torch.optim as optim\n",
        "import tqdm"
      ],
      "execution_count": 1,
      "outputs": []
    },
    {
      "cell_type": "code",
      "metadata": {
        "id": "hHa5-zOlDIYM",
        "colab_type": "code",
        "colab": {}
      },
      "source": [
        "device = torch.device(\"cuda:0\" if torch.cuda.is_available() else \"cpu\")"
      ],
      "execution_count": 2,
      "outputs": []
    },
    {
      "cell_type": "code",
      "metadata": {
        "id": "5xaBJHCJDIYQ",
        "colab_type": "code",
        "colab": {
          "base_uri": "https://localhost:8080/",
          "height": 34
        },
        "outputId": "e62c079d-3075-4770-e8cc-d6066ae4d818"
      },
      "source": [
        "device"
      ],
      "execution_count": 3,
      "outputs": [
        {
          "output_type": "execute_result",
          "data": {
            "text/plain": [
              "device(type='cuda', index=0)"
            ]
          },
          "metadata": {
            "tags": []
          },
          "execution_count": 3
        }
      ]
    },
    {
      "cell_type": "markdown",
      "metadata": {
        "id": "f2sH82_0DIYU",
        "colab_type": "text"
      },
      "source": [
        "### Data Preparation"
      ]
    },
    {
      "cell_type": "code",
      "metadata": {
        "id": "UacOsN8dDIYY",
        "colab_type": "code",
        "colab": {}
      },
      "source": [
        "# creating text and label fields\n",
        "TEXT = Field(lower=True, tokenize=\"spacy\", batch_first=True)\n",
        "LABEL = LabelField(batch_first=True, dtype=torch.float)"
      ],
      "execution_count": 4,
      "outputs": []
    },
    {
      "cell_type": "code",
      "metadata": {
        "id": "DjhPEedRDIYb",
        "colab_type": "code",
        "colab": {}
      },
      "source": [
        "# download the dataset\n",
        "train, val = datasets.IMDB.splits(text_field=TEXT, label_field=LABEL)"
      ],
      "execution_count": 5,
      "outputs": []
    },
    {
      "cell_type": "code",
      "metadata": {
        "id": "uMB4UXteF4s6",
        "colab_type": "code",
        "colab": {}
      },
      "source": [
        "# build the vocabulary\n",
        "TEXT.build_vocab(train)\n",
        "LABEL.build_vocab(train)"
      ],
      "execution_count": 6,
      "outputs": []
    },
    {
      "cell_type": "code",
      "metadata": {
        "id": "GWYRaE09DIYe",
        "colab_type": "code",
        "colab": {}
      },
      "source": [
        "# data loaders\n",
        "BATCH_SIZE = 128\n",
        "train_loader, val_loader = BucketIterator.splits(\n",
        "    datasets=(train, val),\n",
        "    batch_sizes=(BATCH_SIZE, BATCH_SIZE),\n",
        "    device=device\n",
        "    \n",
        ")"
      ],
      "execution_count": 7,
      "outputs": []
    },
    {
      "cell_type": "code",
      "metadata": {
        "id": "AuweiaqmDIYi",
        "colab_type": "code",
        "colab": {
          "base_uri": "https://localhost:8080/",
          "height": 34
        },
        "outputId": "16547b8b-fc80-4ec5-c8de-5af117b8ea6b"
      },
      "source": [
        "for batch in train_loader:\n",
        "  print(type(batch))\n",
        "  break"
      ],
      "execution_count": 8,
      "outputs": [
        {
          "output_type": "stream",
          "text": [
            "<class 'torchtext.data.batch.Batch'>\n"
          ],
          "name": "stdout"
        }
      ]
    },
    {
      "cell_type": "markdown",
      "metadata": {
        "id": "4DoO6759Ftl7",
        "colab_type": "text"
      },
      "source": [
        "### Model Building"
      ]
    },
    {
      "cell_type": "code",
      "metadata": {
        "id": "BffsVd-aDIYl",
        "colab_type": "code",
        "colab": {}
      },
      "source": [
        "class Model(nn.Module):\n",
        "    def __init__(self, vocab_size, embedding_dim, n_filters, filter_sizes, output_dim, \n",
        "                 dropout, pad_idx):\n",
        "        \n",
        "        super(Model, self).__init__()\n",
        "                \n",
        "        self.embedding = nn.Embedding(vocab_size, embedding_dim, padding_idx = pad_idx)\n",
        "        \n",
        "        self.convs = nn.ModuleList([\n",
        "                                    nn.Conv2d(in_channels = 1, \n",
        "                                              out_channels = n_filters, \n",
        "                                              kernel_size = (fs, embedding_dim)) \n",
        "                                    for fs in filter_sizes\n",
        "                                    ])\n",
        "        \n",
        "        self.fc = nn.Linear(len(filter_sizes) * n_filters, output_dim)\n",
        "        \n",
        "        self.dropout = nn.Dropout(dropout)\n",
        "        \n",
        "    def forward(self, text):\n",
        "                \n",
        "        #text = [batch size, sent len]\n",
        "        \n",
        "        embedded = self.embedding(text)\n",
        "                \n",
        "        #embedded = [batch size, sent len, emb dim]\n",
        "        \n",
        "        embedded = embedded.unsqueeze(1)\n",
        "        \n",
        "        #embedded = [batch size, 1, sent len, emb dim]\n",
        "        \n",
        "        conved = [F.relu(conv(embedded)).squeeze(3) for conv in self.convs]\n",
        "            \n",
        "        #conved_n = [batch size, n_filters, sent len - filter_sizes[n] + 1]\n",
        "                \n",
        "        pooled = [F.max_pool1d(conv, conv.shape[2]).squeeze(2) for conv in conved]\n",
        "        \n",
        "        #pooled_n = [batch size, n_filters]\n",
        "        \n",
        "        cat = self.dropout(torch.cat(pooled, dim = 1))\n",
        "\n",
        "        #cat = [batch size, n_filters * len(filter_sizes)]\n",
        "            \n",
        "        return self.fc(cat)"
      ],
      "execution_count": 12,
      "outputs": []
    },
    {
      "cell_type": "code",
      "metadata": {
        "id": "lKYaravxKaa1",
        "colab_type": "code",
        "colab": {}
      },
      "source": [
        "INPUT_DIM = len(TEXT.vocab)\n",
        "EMBEDDING_DIM = 100\n",
        "N_FILTERS = 100\n",
        "FILTER_SIZES = [3,4,5]\n",
        "OUTPUT_DIM = 1\n",
        "DROPOUT = 0.5\n",
        "PAD_IDX = TEXT.vocab.stoi[TEXT.pad_token]"
      ],
      "execution_count": 62,
      "outputs": []
    },
    {
      "cell_type": "code",
      "metadata": {
        "id": "j8wtWu2wMM1c",
        "colab_type": "code",
        "colab": {}
      },
      "source": [
        "model = Model(INPUT_DIM, EMBEDDING_DIM, N_FILTERS, FILTER_SIZES, OUTPUT_DIM, DROPOUT, PAD_IDX).to(device)"
      ],
      "execution_count": 63,
      "outputs": []
    },
    {
      "cell_type": "code",
      "metadata": {
        "id": "dlp0ZpQ6MNwc",
        "colab_type": "code",
        "colab": {}
      },
      "source": [
        "out = model(batch.text)"
      ],
      "execution_count": 64,
      "outputs": []
    },
    {
      "cell_type": "code",
      "metadata": {
        "id": "483xle-9MS9I",
        "colab_type": "code",
        "colab": {
          "base_uri": "https://localhost:8080/",
          "height": 34
        },
        "outputId": "856ab7cb-2e21-4a28-ac07-97d4f7aefb56"
      },
      "source": [
        "print(out.shape)"
      ],
      "execution_count": 65,
      "outputs": [
        {
          "output_type": "stream",
          "text": [
            "torch.Size([128, 1])\n"
          ],
          "name": "stdout"
        }
      ]
    },
    {
      "cell_type": "markdown",
      "metadata": {
        "id": "Gt-TOHzimc_7",
        "colab_type": "text"
      },
      "source": [
        "### Training"
      ]
    },
    {
      "cell_type": "code",
      "metadata": {
        "id": "eGcpRe_oFw6S",
        "colab_type": "code",
        "colab": {}
      },
      "source": [
        "def accuracy(y, y_):\n",
        "  correct = 0\n",
        "  for i in range(y.shape[0]):\n",
        "    if y[i]==y_[i]:\n",
        "      correct += 1\n",
        "  return correct/y.shape[0]"
      ],
      "execution_count": 66,
      "outputs": []
    },
    {
      "cell_type": "code",
      "metadata": {
        "id": "bRQl-m-SGC9M",
        "colab_type": "code",
        "colab": {}
      },
      "source": [
        "def eval(model, data, criterion):\n",
        "  losses = []\n",
        "  acc = []\n",
        "  \n",
        "  with torch.no_grad():\n",
        "    for batch in data:\n",
        "      text, label = batch.text, batch.label\n",
        "      outputs = model(text)\n",
        "      l = criterion(outputs.view(-1), label.view(-1))\n",
        "      a = accuracy(label, outputs.view(-1) > 0.5)\n",
        "      losses.append(l.item())\n",
        "      acc.append(a)\n",
        "    \n",
        "  return sum(losses)/len(losses), sum(acc)/len(acc)\n"
      ],
      "execution_count": 67,
      "outputs": []
    },
    {
      "cell_type": "code",
      "metadata": {
        "id": "SsJP2FoqpLmI",
        "colab_type": "code",
        "colab": {}
      },
      "source": [
        "lr = 1e-3\n",
        "EPOCHS = 10"
      ],
      "execution_count": 68,
      "outputs": []
    },
    {
      "cell_type": "code",
      "metadata": {
        "id": "4uvATjjzFYfm",
        "colab_type": "code",
        "colab": {}
      },
      "source": [
        "# optimizer and criterion\n",
        "criterion = nn.MSELoss().to(device)\n",
        "optimizer = optim.Adam(params=model.parameters(), lr=lr)"
      ],
      "execution_count": 69,
      "outputs": []
    },
    {
      "cell_type": "code",
      "metadata": {
        "id": "JvPKDzL3Fu35",
        "colab_type": "code",
        "colab": {
          "base_uri": "https://localhost:8080/",
          "height": 527
        },
        "outputId": "f201dca2-41e2-4ac8-866b-08cd4016b9c1"
      },
      "source": [
        "epoch_progress = tqdm.tqdm(total=EPOCHS, desc=\"Epoch\", position=0)\n",
        "total_steps = len(train_loader)\n",
        "steps = 0\n",
        "for epoch in range(EPOCHS):\n",
        "\n",
        "  epoch_loss = []\n",
        "  epoch_acc = []\n",
        "  step_progress = tqdm.tqdm(total=len(train_loader), desc=\"Epoch\", position=0)\n",
        "  for batch in train_loader:\n",
        "    text, label = batch.text, batch.label\n",
        "    outputs = model(text)\n",
        "\n",
        "    optimizer.zero_grad()\n",
        "    loss = criterion(outputs.view(-1), label.view(-1))\n",
        "    loss.backward()\n",
        "    optimizer.step()\n",
        "\n",
        "    acc = accuracy(label, outputs.view(-1) > 0.5)\n",
        "\n",
        "    if steps%100==0:\n",
        "      print(f'Step {steps}/{len(train_loader)*EPOCHS} | Train_loss {loss.item():.4f} | Train_acc {acc:.4f}')\n",
        "\n",
        "\n",
        "    epoch_loss.append(loss.item())\n",
        "    epoch_acc.append(acc)\n",
        "    steps +=1 \n",
        "    step_progress.update(1)\n",
        "\n",
        "\n",
        "\n",
        "  avg_loss = sum(epoch_loss)/len(epoch_loss)\n",
        "  avg_acc = sum(epoch_acc)/len(epoch_acc)\n",
        "\n",
        "  v_loss, v_acc = eval(model, val_loader, criterion)\n",
        "\n",
        "  print(f'Epoch {epoch}/{EPOCHS} | Train_loss {avg_loss:.4f} | Train_acc {avg_acc:.4f} | Val_loss {v_loss:.4f} | Val_acc {v_acc:.4f}')\n",
        "  epoch_progress.update(1)\n"
      ],
      "execution_count": 70,
      "outputs": [
        {
          "output_type": "stream",
          "text": [
            "Epoch:   1%|          | 2/196 [00:00<00:34,  5.66it/s]"
          ],
          "name": "stderr"
        },
        {
          "output_type": "stream",
          "text": [
            "Step 0/1960 | Train_loss 1.1310 | Train_acc 0.5078\n"
          ],
          "name": "stdout"
        },
        {
          "output_type": "stream",
          "text": [
            "Epoch:  52%|█████▏    | 102/196 [00:11<00:09,  9.67it/s]"
          ],
          "name": "stderr"
        },
        {
          "output_type": "stream",
          "text": [
            "Step 100/1960 | Train_loss 0.3305 | Train_acc 0.5703\n"
          ],
          "name": "stdout"
        },
        {
          "output_type": "stream",
          "text": [
            "Epoch:   1%|          | 1/196 [00:00<00:26,  7.41it/s]"
          ],
          "name": "stderr"
        },
        {
          "output_type": "stream",
          "text": [
            "Epoch 0/10 | Train_loss 0.4283 | Train_acc 0.5633 | Val_loss 0.2315 | Val_acc 0.6263\n"
          ],
          "name": "stdout"
        },
        {
          "output_type": "stream",
          "text": [
            "Epoch:   3%|▎         | 6/196 [00:00<00:21,  8.80it/s]"
          ],
          "name": "stderr"
        },
        {
          "output_type": "stream",
          "text": [
            "Step 200/1960 | Train_loss 0.2332 | Train_acc 0.6719\n"
          ],
          "name": "stdout"
        },
        {
          "output_type": "stream",
          "text": [
            "Epoch:  55%|█████▍    | 107/196 [00:11<00:09,  9.40it/s]"
          ],
          "name": "stderr"
        },
        {
          "output_type": "stream",
          "text": [
            "Step 300/1960 | Train_loss 0.1934 | Train_acc 0.7266\n"
          ],
          "name": "stdout"
        },
        {
          "output_type": "stream",
          "text": [
            "Epoch:   1%|          | 1/196 [00:00<00:36,  5.32it/s]"
          ],
          "name": "stderr"
        },
        {
          "output_type": "stream",
          "text": [
            "Epoch 1/10 | Train_loss 0.2066 | Train_acc 0.6800 | Val_loss 0.1987 | Val_acc 0.6946\n"
          ],
          "name": "stdout"
        },
        {
          "output_type": "stream",
          "text": [
            "Epoch:   5%|▌         | 10/196 [00:01<00:21,  8.77it/s]"
          ],
          "name": "stderr"
        },
        {
          "output_type": "stream",
          "text": [
            "Step 400/1960 | Train_loss 0.1833 | Train_acc 0.7578\n"
          ],
          "name": "stdout"
        },
        {
          "output_type": "stream",
          "text": [
            "Epoch:  57%|█████▋    | 111/196 [00:12<00:08,  9.90it/s]"
          ],
          "name": "stderr"
        },
        {
          "output_type": "stream",
          "text": [
            "Step 500/1960 | Train_loss 0.1541 | Train_acc 0.7969\n"
          ],
          "name": "stdout"
        },
        {
          "output_type": "stream",
          "text": [
            "Epoch:   1%|          | 1/196 [00:00<00:28,  6.73it/s]"
          ],
          "name": "stderr"
        },
        {
          "output_type": "stream",
          "text": [
            "Epoch 2/10 | Train_loss 0.1836 | Train_acc 0.7274 | Val_loss 0.1820 | Val_acc 0.7293\n"
          ],
          "name": "stdout"
        },
        {
          "output_type": "stream",
          "text": [
            "Epoch:   8%|▊         | 15/196 [00:01<00:18,  9.58it/s]"
          ],
          "name": "stderr"
        },
        {
          "output_type": "stream",
          "text": [
            "Step 600/1960 | Train_loss 0.1386 | Train_acc 0.7734\n"
          ],
          "name": "stdout"
        },
        {
          "output_type": "stream",
          "text": [
            "Epoch:  58%|█████▊    | 114/196 [00:12<00:08,  9.79it/s]"
          ],
          "name": "stderr"
        },
        {
          "output_type": "stream",
          "text": [
            "Step 700/1960 | Train_loss 0.1790 | Train_acc 0.7031\n"
          ],
          "name": "stdout"
        },
        {
          "output_type": "stream",
          "text": [
            "Epoch:   1%|          | 1/196 [00:00<00:28,  6.77it/s]"
          ],
          "name": "stderr"
        },
        {
          "output_type": "stream",
          "text": [
            "Epoch 3/10 | Train_loss 0.1682 | Train_acc 0.7606 | Val_loss 0.1821 | Val_acc 0.7325\n"
          ],
          "name": "stdout"
        },
        {
          "output_type": "stream",
          "text": [
            "Epoch:   9%|▉         | 18/196 [00:01<00:19,  9.33it/s]"
          ],
          "name": "stderr"
        },
        {
          "output_type": "stream",
          "text": [
            "Step 800/1960 | Train_loss 0.1728 | Train_acc 0.7500\n"
          ],
          "name": "stdout"
        },
        {
          "output_type": "stream",
          "text": [
            "Epoch:  61%|██████    | 119/196 [00:12<00:07,  9.89it/s]"
          ],
          "name": "stderr"
        },
        {
          "output_type": "stream",
          "text": [
            "Step 900/1960 | Train_loss 0.1778 | Train_acc 0.7812\n"
          ],
          "name": "stdout"
        },
        {
          "output_type": "stream",
          "text": [
            "Epoch:   1%|          | 1/196 [00:00<00:24,  7.95it/s]"
          ],
          "name": "stderr"
        },
        {
          "output_type": "stream",
          "text": [
            "Epoch 4/10 | Train_loss 0.1566 | Train_acc 0.7843 | Val_loss 0.1624 | Val_acc 0.7697\n"
          ],
          "name": "stdout"
        },
        {
          "output_type": "stream",
          "text": [
            "Epoch:  11%|█         | 22/196 [00:02<00:19,  9.07it/s]"
          ],
          "name": "stderr"
        },
        {
          "output_type": "stream",
          "text": [
            "Step 1000/1960 | Train_loss 0.1552 | Train_acc 0.7578\n"
          ],
          "name": "stdout"
        },
        {
          "output_type": "stream",
          "text": [
            "Epoch:  63%|██████▎   | 123/196 [00:13<00:07,  9.75it/s]"
          ],
          "name": "stderr"
        },
        {
          "output_type": "stream",
          "text": [
            "Step 1100/1960 | Train_loss 0.1625 | Train_acc 0.7812\n"
          ],
          "name": "stdout"
        },
        {
          "output_type": "stream",
          "text": [
            "Epoch:   1%|          | 1/196 [00:00<00:30,  6.41it/s]"
          ],
          "name": "stderr"
        },
        {
          "output_type": "stream",
          "text": [
            "Epoch 5/10 | Train_loss 0.1422 | Train_acc 0.8124 | Val_loss 0.1539 | Val_acc 0.7879\n"
          ],
          "name": "stdout"
        },
        {
          "output_type": "stream",
          "text": [
            "Epoch:  13%|█▎        | 26/196 [00:03<00:19,  8.87it/s]"
          ],
          "name": "stderr"
        },
        {
          "output_type": "stream",
          "text": [
            "Step 1200/1960 | Train_loss 0.1225 | Train_acc 0.8750\n"
          ],
          "name": "stdout"
        },
        {
          "output_type": "stream",
          "text": [
            "Epoch:  64%|██████▍   | 126/196 [00:14<00:07,  9.31it/s]"
          ],
          "name": "stderr"
        },
        {
          "output_type": "stream",
          "text": [
            "Step 1300/1960 | Train_loss 0.1173 | Train_acc 0.8828\n"
          ],
          "name": "stdout"
        },
        {
          "output_type": "stream",
          "text": [
            "Epoch:   1%|          | 1/196 [00:00<00:25,  7.63it/s]"
          ],
          "name": "stderr"
        },
        {
          "output_type": "stream",
          "text": [
            "Epoch 6/10 | Train_loss 0.1316 | Train_acc 0.8317 | Val_loss 0.1519 | Val_acc 0.7910\n"
          ],
          "name": "stdout"
        },
        {
          "output_type": "stream",
          "text": [
            "Epoch:  15%|█▌        | 30/196 [00:03<00:21,  7.75it/s]"
          ],
          "name": "stderr"
        },
        {
          "output_type": "stream",
          "text": [
            "Step 1400/1960 | Train_loss 0.1233 | Train_acc 0.8516\n"
          ],
          "name": "stdout"
        },
        {
          "output_type": "stream",
          "text": [
            "Epoch:  66%|██████▋   | 130/196 [00:14<00:06,  9.44it/s]"
          ],
          "name": "stderr"
        },
        {
          "output_type": "stream",
          "text": [
            "Step 1500/1960 | Train_loss 0.1123 | Train_acc 0.8828\n"
          ],
          "name": "stdout"
        },
        {
          "output_type": "stream",
          "text": [
            "Epoch:   1%|          | 1/196 [00:00<00:28,  6.77it/s]"
          ],
          "name": "stderr"
        },
        {
          "output_type": "stream",
          "text": [
            "Epoch 7/10 | Train_loss 0.1222 | Train_acc 0.8502 | Val_loss 0.1443 | Val_acc 0.8063\n"
          ],
          "name": "stdout"
        },
        {
          "output_type": "stream",
          "text": [
            "Epoch:  17%|█▋        | 34/196 [00:03<00:17,  9.38it/s]"
          ],
          "name": "stderr"
        },
        {
          "output_type": "stream",
          "text": [
            "Step 1600/1960 | Train_loss 0.1109 | Train_acc 0.8672\n"
          ],
          "name": "stdout"
        },
        {
          "output_type": "stream",
          "text": [
            "Epoch:  68%|██████▊   | 134/196 [00:14<00:06,  9.09it/s]"
          ],
          "name": "stderr"
        },
        {
          "output_type": "stream",
          "text": [
            "Step 1700/1960 | Train_loss 0.1125 | Train_acc 0.8594\n"
          ],
          "name": "stdout"
        },
        {
          "output_type": "stream",
          "text": [
            "Epoch:   1%|          | 1/196 [00:00<00:31,  6.29it/s]"
          ],
          "name": "stderr"
        },
        {
          "output_type": "stream",
          "text": [
            "Epoch 8/10 | Train_loss 0.1101 | Train_acc 0.8711 | Val_loss 0.1389 | Val_acc 0.8188\n"
          ],
          "name": "stdout"
        },
        {
          "output_type": "stream",
          "text": [
            "Epoch:  19%|█▉        | 38/196 [00:04<00:17,  9.01it/s]"
          ],
          "name": "stderr"
        },
        {
          "output_type": "stream",
          "text": [
            "Step 1800/1960 | Train_loss 0.1200 | Train_acc 0.8750\n"
          ],
          "name": "stdout"
        },
        {
          "output_type": "stream",
          "text": [
            "Epoch:  70%|███████   | 138/196 [00:15<00:06,  9.25it/s]"
          ],
          "name": "stderr"
        },
        {
          "output_type": "stream",
          "text": [
            "Step 1900/1960 | Train_loss 0.0963 | Train_acc 0.8906\n"
          ],
          "name": "stdout"
        },
        {
          "output_type": "stream",
          "text": [
            "Epoch: 100%|██████████| 10/10 [09:03<00:00, 54.37s/it]"
          ],
          "name": "stderr"
        },
        {
          "output_type": "stream",
          "text": [
            "Epoch 9/10 | Train_loss 0.0994 | Train_acc 0.8972 | Val_loss 0.1369 | Val_acc 0.8222\n"
          ],
          "name": "stdout"
        }
      ]
    },
    {
      "cell_type": "code",
      "metadata": {
        "id": "IRi5_ox9JOc8",
        "colab_type": "code",
        "colab": {
          "base_uri": "https://localhost:8080/",
          "height": 34
        },
        "outputId": "223b38a7-1792-4ec2-a6e3-4216de8c76a3"
      },
      "source": [
        "eval(model, val_loader, criterion)"
      ],
      "execution_count": 71,
      "outputs": [
        {
          "output_type": "execute_result",
          "data": {
            "text/plain": [
              "(0.13683705818744338, 0.823126594387755)"
            ]
          },
          "metadata": {
            "tags": []
          },
          "execution_count": 71
        }
      ]
    },
    {
      "cell_type": "code",
      "metadata": {
        "id": "rgTdCZlxPoej",
        "colab_type": "code",
        "colab": {}
      },
      "source": [
        ""
      ],
      "execution_count": null,
      "outputs": []
    }
  ]
}