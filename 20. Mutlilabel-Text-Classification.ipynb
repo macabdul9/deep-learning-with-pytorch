{
  "nbformat": 4,
  "nbformat_minor": 0,
  "metadata": {
    "kernelspec": {
      "name": "python3",
      "display_name": "Python 3"
    },
    "colab": {
      "name": "Mutlilabel-Text-Classification.ipynb",
      "provenance": [],
      "toc_visible": true
    },
    "accelerator": "GPU"
  },
  "cells": [
    {
      "cell_type": "markdown",
      "metadata": {
        "id": "c8WtGFivqmGG",
        "colab_type": "text"
      },
      "source": [
        "### The dataset for multi-label text classification was introduced in this kaggle challenge\n",
        "- https://www.kaggle.com/c/jigsaw-toxic-comment-classification-challenge/\n"
      ]
    },
    {
      "cell_type": "code",
      "metadata": {
        "id": "aLdEobb42E25",
        "colab_type": "code",
        "colab": {}
      },
      "source": [
        "# !wget https://www.dropbox.com/s/6dygg8esbdywogl/jigsaw-toxic-comment-classification-challenge.zip"
      ],
      "execution_count": 4,
      "outputs": []
    },
    {
      "cell_type": "code",
      "metadata": {
        "id": "AGVHdbYE2MxS",
        "colab_type": "code",
        "colab": {}
      },
      "source": [
        "# !unzip jigsaw-toxic-comment-classification-challenge.zip"
      ],
      "execution_count": 5,
      "outputs": []
    },
    {
      "cell_type": "code",
      "metadata": {
        "id": "j7-a3eoJdatl",
        "colab_type": "code",
        "colab": {}
      },
      "source": [
        "# utils\n",
        "import torch\n",
        "import pandas as pd\n",
        "\n",
        "# data\n",
        "from torchtext.data import Field, LabelField, BucketIterator, TabularDataset\n",
        "\n",
        "# model\n",
        "import torch.nn as nn\n",
        "import torch.nn.functional as F\n",
        "\n",
        "# training\n",
        "import torch.optim as optim\n",
        "import tqdm"
      ],
      "execution_count": 1,
      "outputs": []
    },
    {
      "cell_type": "code",
      "metadata": {
        "id": "Cf908_zvdatr",
        "colab_type": "code",
        "colab": {}
      },
      "source": [
        "device = torch.device(\"cuda:0\" if torch.cuda.is_available() else \"cpu\")"
      ],
      "execution_count": 2,
      "outputs": []
    },
    {
      "cell_type": "code",
      "metadata": {
        "id": "UBtP1vZidatv",
        "colab_type": "code",
        "colab": {
          "base_uri": "https://localhost:8080/",
          "height": 34
        },
        "outputId": "2539636e-3d3b-4fc7-9a16-77cb5a06b81a"
      },
      "source": [
        "device"
      ],
      "execution_count": 3,
      "outputs": [
        {
          "output_type": "execute_result",
          "data": {
            "text/plain": [
              "device(type='cuda', index=0)"
            ]
          },
          "metadata": {
            "tags": []
          },
          "execution_count": 3
        }
      ]
    },
    {
      "cell_type": "markdown",
      "metadata": {
        "id": "sGbsGaYedat0",
        "colab_type": "text"
      },
      "source": [
        "### Data Preparation"
      ]
    },
    {
      "cell_type": "code",
      "metadata": {
        "id": "GdGNNtDVe2Yi",
        "colab_type": "code",
        "colab": {}
      },
      "source": [
        "root = \"./jigsaw-toxic-comment-classification-challenge/\""
      ],
      "execution_count": 4,
      "outputs": []
    },
    {
      "cell_type": "code",
      "metadata": {
        "id": "6d84m9Uwdat0",
        "colab_type": "code",
        "colab": {}
      },
      "source": [
        "# create fields\n",
        "TEXT = Field(lower=True, tokenize=\"spacy\", batch_first=True)\n",
        "LABEL = LabelField(batch_first=True, dtype=torch.float32)"
      ],
      "execution_count": 5,
      "outputs": []
    },
    {
      "cell_type": "code",
      "metadata": {
        "id": "DAJ3rWrPdat4",
        "colab_type": "code",
        "colab": {}
      },
      "source": [
        "# field and dataframe\n",
        "train_fields = [\n",
        "    (\"id\", None), \n",
        "    (\"comment_text\", TEXT), \n",
        "    (\"toxic\", LABEL), \n",
        "    ('severe_toxic', LABEL), \n",
        "    ('obscene', LABEL), \n",
        "    ('threat', LABEL),\n",
        "    ('insult', LABEL),\n",
        "    ('identity_hate', LABEL)\n",
        "]\n",
        "\n",
        "test_fields = [\n",
        "    (\"id\", None), \n",
        "    (\"comment_text\", TEXT), \n",
        "]"
      ],
      "execution_count": 6,
      "outputs": []
    },
    {
      "cell_type": "code",
      "metadata": {
        "id": "GHLY1eyEdat8",
        "colab_type": "code",
        "colab": {}
      },
      "source": [
        "# load the training dataset\n",
        "data = TabularDataset(\n",
        "    path=\"./jigsaw-toxic-comment-classification-challenge/train.csv\",\n",
        "    format=\"CSV\",\n",
        "    fields=train_fields,\n",
        "    skip_header=True,\n",
        ")"
      ],
      "execution_count": 7,
      "outputs": []
    },
    {
      "cell_type": "code",
      "metadata": {
        "id": "-j6HdHWvdat_",
        "colab_type": "code",
        "colab": {}
      },
      "source": [
        "# split the total labelled data into train and val\n",
        "train, val = data.split(split_ratio=0.98)"
      ],
      "execution_count": 8,
      "outputs": []
    },
    {
      "cell_type": "code",
      "metadata": {
        "id": "uEE7P-ZSdauC",
        "colab_type": "code",
        "colab": {}
      },
      "source": [
        "# load test data\n",
        "test = TabularDataset(\n",
        "    path=\"./jigsaw-toxic-comment-classification-challenge/test.csv\",\n",
        "    format=\"CSV\",\n",
        "    fields=test_fields,\n",
        "    skip_header=True,\n",
        ")"
      ],
      "execution_count": 9,
      "outputs": []
    },
    {
      "cell_type": "code",
      "metadata": {
        "id": "EuGmEOm4dauF",
        "colab_type": "code",
        "colab": {}
      },
      "source": [
        "## Build the vocabulary\n",
        "TEXT.build_vocab(train)\n",
        "LABEL.build_vocab(train)"
      ],
      "execution_count": 10,
      "outputs": []
    },
    {
      "cell_type": "code",
      "metadata": {
        "id": "FE2bOUYjdauI",
        "colab_type": "code",
        "colab": {}
      },
      "source": [
        "# train and val dataloader\n",
        "BATCH_SIZE = 32\n",
        "train_loader, val_loader = BucketIterator.splits(\n",
        "    datasets=(train, val),\n",
        "    batch_size=BATCH_SIZE,\n",
        "    device=device,\n",
        "    shuffle=True,\n",
        "    sort=False\n",
        ")"
      ],
      "execution_count": 11,
      "outputs": []
    },
    {
      "cell_type": "code",
      "metadata": {
        "id": "CzhJb0FIutOB",
        "colab_type": "code",
        "colab": {}
      },
      "source": [
        "# test dataloader -> no specific reason to exclude it from above BucketIterator\n",
        "test_loader = BucketIterator(\n",
        "    dataset=test,\n",
        "    batch_size=1,\n",
        "    device=device,\n",
        "    sort=False\n",
        ")\n"
      ],
      "execution_count": 99,
      "outputs": []
    },
    {
      "cell_type": "code",
      "metadata": {
        "id": "Ay7DlYx_dauK",
        "colab_type": "code",
        "colab": {
          "base_uri": "https://localhost:8080/",
          "height": 34
        },
        "outputId": "4a9224e9-e009-43d1-f047-6bcd18f01bb4"
      },
      "source": [
        "print(len(train_loader), len(val_loader), len(test_loader))"
      ],
      "execution_count": 12,
      "outputs": [
        {
          "output_type": "stream",
          "text": [
            "4887 100 4787\n"
          ],
          "name": "stdout"
        }
      ]
    },
    {
      "cell_type": "code",
      "metadata": {
        "id": "JXM-5l0jdauQ",
        "colab_type": "code",
        "colab": {}
      },
      "source": [
        "def batch_wrapper(batch):\n",
        "    \"\"\"it actually combines multi-label into NxC tensor\"\"\"\n",
        "    x = batch.comment_text\n",
        "    y = torch.stack((batch.toxic, batch.severe_toxic, batch.obscene, batch.threat, batch.insult, batch.identity_hate), dim=1)\n",
        "    y = y.type(torch.float)\n",
        "    return x, y\n",
        "    "
      ],
      "execution_count": 13,
      "outputs": []
    },
    {
      "cell_type": "code",
      "metadata": {
        "id": "my1CGRA6WOx_",
        "colab_type": "code",
        "colab": {}
      },
      "source": [
        "batch = next(iter(train_loader))"
      ],
      "execution_count": 14,
      "outputs": []
    },
    {
      "cell_type": "code",
      "metadata": {
        "id": "BwFw_Kx6apkh",
        "colab_type": "code",
        "colab": {}
      },
      "source": [
        "x, y =  batch_wrapper(batch)"
      ],
      "execution_count": 15,
      "outputs": []
    },
    {
      "cell_type": "markdown",
      "metadata": {
        "id": "8HStD_CtdauT",
        "colab_type": "text"
      },
      "source": [
        "### Model"
      ]
    },
    {
      "cell_type": "code",
      "metadata": {
        "id": "S8_y4WKfdauT",
        "colab_type": "code",
        "colab": {}
      },
      "source": [
        "class Model(nn.Module):\n",
        "    def __init__(self, hidden_dim, emb_dim=300, num_linear=1):\n",
        "        super(Model, self).__init__() # don't forget to call this!\n",
        "        self.embedding = nn.Embedding(len(TEXT.vocab), emb_dim)\n",
        "        self.encoder = nn.LSTM(emb_dim, hidden_dim, num_layers=1)\n",
        "        self.linear_layers = []\n",
        "        for _ in range(num_linear - 1):\n",
        "            self.linear_layers.append(nn.Linear(hidden_dim, hidden_dim))\n",
        "            self.linear_layers = nn.ModuleList(self.linear_layers)\n",
        "        self.predictor = nn.Linear(hidden_dim, 6)\n",
        "\n",
        "    def forward(self, seq):\n",
        "        hdn, _ = self.encoder(self.embedding(seq))\n",
        "        feature = hdn[:, -1, :]\n",
        "        for layer in self.linear_layers:\n",
        "          feature = layer(feature)\n",
        "        preds = self.predictor(feature)\n",
        "        return preds"
      ],
      "execution_count": 59,
      "outputs": []
    },
    {
      "cell_type": "markdown",
      "metadata": {
        "id": "vLXtMLnndauW",
        "colab_type": "text"
      },
      "source": [
        "### Trianing "
      ]
    },
    {
      "cell_type": "code",
      "metadata": {
        "id": "WXwq3nRmdauW",
        "colab_type": "code",
        "colab": {}
      },
      "source": [
        "def eval(model, data, criterion):\n",
        "    losses = []\n",
        "    with torch.no_grad():\n",
        "        for batch in data:\n",
        "            x, y = batch_wrapper(batch)\n",
        "            outputs = model(x)\n",
        "            loss = criterion(outputs, y.type_as(outputs))\n",
        "            losses.append(loss.item())\n",
        "    return sum(losses)/len(losses)"
      ],
      "execution_count": 88,
      "outputs": []
    },
    {
      "cell_type": "code",
      "metadata": {
        "id": "w9OwwRWmdauZ",
        "colab_type": "code",
        "colab": {}
      },
      "source": [
        "# config\n",
        "EPOCHS = 10\n",
        "LR = 1e-2\n",
        "TOTAL_STEPS = len(train_loader)"
      ],
      "execution_count": 112,
      "outputs": []
    },
    {
      "cell_type": "code",
      "metadata": {
        "id": "UHB12JKJMwAp",
        "colab_type": "code",
        "colab": {}
      },
      "source": [
        "em_sz = 100\n",
        "nh = 500\n",
        "nl = 3\n",
        "model = Model(nh, emb_dim=em_sz).to(device)"
      ],
      "execution_count": null,
      "outputs": []
    },
    {
      "cell_type": "code",
      "metadata": {
        "id": "QRo5r_Yhdauf",
        "colab_type": "code",
        "colab": {}
      },
      "source": [
        "# criterion and optimizer\n",
        "criterion  = nn.BCEWithLogitsLoss()\n",
        "optimizer = optim.Adam(params=model.parameters(), lr=LR)"
      ],
      "execution_count": 90,
      "outputs": []
    },
    {
      "cell_type": "code",
      "metadata": {
        "id": "Mk0Avzludauh",
        "colab_type": "code",
        "colab": {
          "base_uri": "https://localhost:8080/",
          "height": 1000
        },
        "outputId": "a56f39fb-525f-4f1b-c7be-566d1da1bd25"
      },
      "source": [
        "epoch_progress = tqdm.tqdm(total=EPOCHS, desc=\"EPOCH\", position=0)\n",
        "steps = 0\n",
        "\n",
        "for epoch in range(EPOCHS):\n",
        "    epoch_losses = []\n",
        "    step_progress = tqdm.tqdm(total=len(train_loader), desc=\"EPOCH\", position=0)\n",
        "    for batch in train_loader:\n",
        "        x, y = batch_wrapper(batch)\n",
        "        y_ = model(x)\n",
        "        \n",
        "        optimizer.zero_grad()\n",
        "\n",
        "        loss = criterion(y_, y)\n",
        "\n",
        "        loss.backward()\n",
        "        optimizer.step()\n",
        "        epoch_losses.append(loss.item())\n",
        "\n",
        "        if steps%1000==0:\n",
        "          print(f'Step {steps}/{TOTAL_STEPS} | Train_loss {loss.item():.4f}')\n",
        "\n",
        "        steps += 1\n",
        "        step_progress.update(1)\n",
        "\n",
        "    train_loss = sum(epoch_losses)/len(epoch_losses)\n",
        "    val_loss = eval(model, val_loader, criterion)\n",
        "\n",
        "    print(f'Epoch {epoch}/{EPOCHS} | Train_loss {train_loss:.4f} | Val_loss {val_loss:.4f}')\n",
        "    \n",
        "    epoch_progress.update(1)"
      ],
      "execution_count": 113,
      "outputs": [
        {
          "output_type": "stream",
          "text": [
            "EPOCH: 100%|██████████| 2/2 [46:47<00:00, 1403.87s/it]\n",
            "EPOCH: 100%|██████████| 4887/4887 [38:20<00:00,  2.12it/s]\n",
            "EPOCH:   0%|          | 3/4887 [00:00<27:21,  2.98it/s]"
          ],
          "name": "stderr"
        },
        {
          "output_type": "stream",
          "text": [
            "Step 0/4887 | Train_loss 0.1710\n"
          ],
          "name": "stdout"
        },
        {
          "output_type": "stream",
          "text": [
            "EPOCH:  21%|██        | 1002/4887 [01:41<07:46,  8.33it/s]"
          ],
          "name": "stderr"
        },
        {
          "output_type": "stream",
          "text": [
            "Step 1000/4887 | Train_loss 0.0914\n"
          ],
          "name": "stdout"
        },
        {
          "output_type": "stream",
          "text": [
            "EPOCH:  41%|████      | 2002/4887 [03:23<04:57,  9.70it/s]"
          ],
          "name": "stderr"
        },
        {
          "output_type": "stream",
          "text": [
            "Step 2000/4887 | Train_loss 0.2057\n"
          ],
          "name": "stdout"
        },
        {
          "output_type": "stream",
          "text": [
            "EPOCH:  61%|██████▏   | 3001/4887 [05:05<02:58, 10.56it/s]"
          ],
          "name": "stderr"
        },
        {
          "output_type": "stream",
          "text": [
            "Step 3000/4887 | Train_loss 0.0978\n"
          ],
          "name": "stdout"
        },
        {
          "output_type": "stream",
          "text": [
            "EPOCH:  82%|████████▏ | 4001/4887 [06:48<01:20, 10.97it/s]"
          ],
          "name": "stderr"
        },
        {
          "output_type": "stream",
          "text": [
            "Step 4000/4887 | Train_loss 0.2807\n"
          ],
          "name": "stdout"
        },
        {
          "output_type": "stream",
          "text": [
            "EPOCH: 100%|██████████| 4887/4887 [08:22<00:00,  9.72it/s]"
          ],
          "name": "stderr"
        },
        {
          "output_type": "stream",
          "text": [
            "Epoch 0/10 | Train_loss 0.1493 | Val_loss 0.1496\n"
          ],
          "name": "stdout"
        },
        {
          "output_type": "stream",
          "text": [
            "\n",
            "EPOCH:   2%|▏         | 115/4887 [00:12<08:35,  9.26it/s]"
          ],
          "name": "stderr"
        },
        {
          "output_type": "stream",
          "text": [
            "Step 5000/4887 | Train_loss 0.2687\n"
          ],
          "name": "stdout"
        },
        {
          "output_type": "stream",
          "text": [
            "EPOCH:  23%|██▎       | 1115/4887 [01:54<05:53, 10.67it/s]"
          ],
          "name": "stderr"
        },
        {
          "output_type": "stream",
          "text": [
            "Step 6000/4887 | Train_loss 0.0852\n"
          ],
          "name": "stdout"
        },
        {
          "output_type": "stream",
          "text": [
            "EPOCH:  43%|████▎     | 2116/4887 [03:35<04:22, 10.57it/s]"
          ],
          "name": "stderr"
        },
        {
          "output_type": "stream",
          "text": [
            "Step 7000/4887 | Train_loss 0.1250\n"
          ],
          "name": "stdout"
        },
        {
          "output_type": "stream",
          "text": [
            "EPOCH:  64%|██████▎   | 3115/4887 [05:17<02:58,  9.95it/s]"
          ],
          "name": "stderr"
        },
        {
          "output_type": "stream",
          "text": [
            "Step 8000/4887 | Train_loss 0.1819\n"
          ],
          "name": "stdout"
        },
        {
          "output_type": "stream",
          "text": [
            "EPOCH:  84%|████████▍ | 4116/4887 [06:59<01:14, 10.29it/s]"
          ],
          "name": "stderr"
        },
        {
          "output_type": "stream",
          "text": [
            "Step 9000/4887 | Train_loss 0.1071\n"
          ],
          "name": "stdout"
        },
        {
          "output_type": "stream",
          "text": [
            "EPOCH: 100%|██████████| 4887/4887 [08:22<00:00,  9.72it/s]"
          ],
          "name": "stderr"
        },
        {
          "output_type": "stream",
          "text": [
            "Epoch 1/10 | Train_loss 0.1490 | Val_loss 0.1433\n"
          ],
          "name": "stdout"
        },
        {
          "output_type": "stream",
          "text": [
            "\n",
            "EPOCH:   5%|▍         | 228/4887 [00:23<07:38, 10.16it/s]"
          ],
          "name": "stderr"
        },
        {
          "output_type": "stream",
          "text": [
            "Step 10000/4887 | Train_loss 0.0389\n"
          ],
          "name": "stdout"
        },
        {
          "output_type": "stream",
          "text": [
            "EPOCH:  25%|██▌       | 1228/4887 [02:07<06:04, 10.04it/s]"
          ],
          "name": "stderr"
        },
        {
          "output_type": "stream",
          "text": [
            "Step 11000/4887 | Train_loss 0.0607\n"
          ],
          "name": "stdout"
        },
        {
          "output_type": "stream",
          "text": [
            "EPOCH:  46%|████▌     | 2229/4887 [03:49<04:34,  9.67it/s]"
          ],
          "name": "stderr"
        },
        {
          "output_type": "stream",
          "text": [
            "Step 12000/4887 | Train_loss 0.1235\n"
          ],
          "name": "stdout"
        },
        {
          "output_type": "stream",
          "text": [
            "EPOCH:  66%|██████▌   | 3229/4887 [05:31<02:31, 10.91it/s]"
          ],
          "name": "stderr"
        },
        {
          "output_type": "stream",
          "text": [
            "Step 13000/4887 | Train_loss 0.1843\n"
          ],
          "name": "stdout"
        },
        {
          "output_type": "stream",
          "text": [
            "EPOCH:  87%|████████▋ | 4229/4887 [07:09<00:59, 11.05it/s]"
          ],
          "name": "stderr"
        },
        {
          "output_type": "stream",
          "text": [
            "Step 14000/4887 | Train_loss 0.0304\n"
          ],
          "name": "stdout"
        },
        {
          "output_type": "stream",
          "text": [
            "EPOCH: 100%|██████████| 4887/4887 [08:21<00:00,  9.75it/s]"
          ],
          "name": "stderr"
        },
        {
          "output_type": "stream",
          "text": [
            "Epoch 2/10 | Train_loss 0.1484 | Val_loss 0.1420\n"
          ],
          "name": "stdout"
        },
        {
          "output_type": "stream",
          "text": [
            "\n",
            "EPOCH:   7%|▋         | 341/4887 [00:35<08:32,  8.87it/s]"
          ],
          "name": "stderr"
        },
        {
          "output_type": "stream",
          "text": [
            "Step 15000/4887 | Train_loss 0.1693\n"
          ],
          "name": "stdout"
        },
        {
          "output_type": "stream",
          "text": [
            "EPOCH:  27%|██▋       | 1340/4887 [02:17<05:44, 10.29it/s]"
          ],
          "name": "stderr"
        },
        {
          "output_type": "stream",
          "text": [
            "Step 16000/4887 | Train_loss 0.1717\n"
          ],
          "name": "stdout"
        },
        {
          "output_type": "stream",
          "text": [
            "EPOCH:  48%|████▊     | 2341/4887 [03:57<04:02, 10.49it/s]"
          ],
          "name": "stderr"
        },
        {
          "output_type": "stream",
          "text": [
            "Step 17000/4887 | Train_loss 0.1505\n"
          ],
          "name": "stdout"
        },
        {
          "output_type": "stream",
          "text": [
            "EPOCH:  68%|██████▊   | 3340/4887 [05:37<02:22, 10.83it/s]"
          ],
          "name": "stderr"
        },
        {
          "output_type": "stream",
          "text": [
            "Step 18000/4887 | Train_loss 0.1034\n"
          ],
          "name": "stdout"
        },
        {
          "output_type": "stream",
          "text": [
            "EPOCH:  89%|████████▉ | 4340/4887 [07:18<00:49, 11.13it/s]"
          ],
          "name": "stderr"
        },
        {
          "output_type": "stream",
          "text": [
            "Step 19000/4887 | Train_loss 0.0966\n"
          ],
          "name": "stdout"
        },
        {
          "output_type": "stream",
          "text": [
            "EPOCH: 100%|██████████| 4887/4887 [08:18<00:00,  9.80it/s]"
          ],
          "name": "stderr"
        },
        {
          "output_type": "stream",
          "text": [
            "Epoch 3/10 | Train_loss 0.1487 | Val_loss 0.1490\n"
          ],
          "name": "stdout"
        },
        {
          "output_type": "stream",
          "text": [
            "\n",
            "EPOCH:   9%|▉         | 453/4887 [00:45<07:29,  9.87it/s]"
          ],
          "name": "stderr"
        },
        {
          "output_type": "stream",
          "text": [
            "Step 20000/4887 | Train_loss 0.1385\n"
          ],
          "name": "stdout"
        },
        {
          "output_type": "stream",
          "text": [
            "EPOCH:  30%|██▉       | 1453/4887 [02:28<05:19, 10.74it/s]"
          ],
          "name": "stderr"
        },
        {
          "output_type": "stream",
          "text": [
            "Step 21000/4887 | Train_loss 0.1463\n"
          ],
          "name": "stdout"
        },
        {
          "output_type": "stream",
          "text": [
            "EPOCH:  50%|█████     | 2454/4887 [04:09<04:19,  9.39it/s]"
          ],
          "name": "stderr"
        },
        {
          "output_type": "stream",
          "text": [
            "Step 22000/4887 | Train_loss 0.1295\n"
          ],
          "name": "stdout"
        },
        {
          "output_type": "stream",
          "text": [
            "EPOCH:  71%|███████   | 3453/4887 [05:52<02:32,  9.42it/s]"
          ],
          "name": "stderr"
        },
        {
          "output_type": "stream",
          "text": [
            "Step 23000/4887 | Train_loss 0.1475\n"
          ],
          "name": "stdout"
        },
        {
          "output_type": "stream",
          "text": [
            "EPOCH:  91%|█████████ | 4455/4887 [07:33<00:47,  9.03it/s]"
          ],
          "name": "stderr"
        },
        {
          "output_type": "stream",
          "text": [
            "Step 24000/4887 | Train_loss 0.1086\n"
          ],
          "name": "stdout"
        },
        {
          "output_type": "stream",
          "text": [
            "EPOCH: 100%|██████████| 4887/4887 [08:20<00:00,  9.76it/s]"
          ],
          "name": "stderr"
        },
        {
          "output_type": "stream",
          "text": [
            "Epoch 4/10 | Train_loss 0.1492 | Val_loss 0.1465\n"
          ],
          "name": "stdout"
        },
        {
          "output_type": "stream",
          "text": [
            "\n",
            "EPOCH:  12%|█▏        | 566/4887 [00:57<06:51, 10.49it/s]"
          ],
          "name": "stderr"
        },
        {
          "output_type": "stream",
          "text": [
            "Step 25000/4887 | Train_loss 0.0991\n"
          ],
          "name": "stdout"
        },
        {
          "output_type": "stream",
          "text": [
            "EPOCH:  32%|███▏      | 1567/4887 [02:39<06:18,  8.78it/s]"
          ],
          "name": "stderr"
        },
        {
          "output_type": "stream",
          "text": [
            "Step 26000/4887 | Train_loss 0.0869\n"
          ],
          "name": "stdout"
        },
        {
          "output_type": "stream",
          "text": [
            "EPOCH:  53%|█████▎    | 2567/4887 [04:21<04:35,  8.43it/s]"
          ],
          "name": "stderr"
        },
        {
          "output_type": "stream",
          "text": [
            "Step 27000/4887 | Train_loss 0.1190\n"
          ],
          "name": "stdout"
        },
        {
          "output_type": "stream",
          "text": [
            "EPOCH:  73%|███████▎  | 3567/4887 [06:00<01:47, 12.32it/s]"
          ],
          "name": "stderr"
        },
        {
          "output_type": "stream",
          "text": [
            "Step 28000/4887 | Train_loss 0.1721\n"
          ],
          "name": "stdout"
        },
        {
          "output_type": "stream",
          "text": [
            "EPOCH:  93%|█████████▎| 4568/4887 [07:43<00:40,  7.89it/s]"
          ],
          "name": "stderr"
        },
        {
          "output_type": "stream",
          "text": [
            "Step 29000/4887 | Train_loss 0.2126\n"
          ],
          "name": "stdout"
        },
        {
          "output_type": "stream",
          "text": [
            "EPOCH: 100%|██████████| 4887/4887 [08:19<00:00,  9.78it/s]"
          ],
          "name": "stderr"
        },
        {
          "output_type": "stream",
          "text": [
            "Epoch 5/10 | Train_loss 0.1483 | Val_loss 0.1478\n"
          ],
          "name": "stdout"
        },
        {
          "output_type": "stream",
          "text": [
            "\n",
            "EPOCH:  14%|█▍        | 681/4887 [01:09<09:22,  7.47it/s]"
          ],
          "name": "stderr"
        },
        {
          "output_type": "stream",
          "text": [
            "Step 30000/4887 | Train_loss 0.1291\n"
          ],
          "name": "stdout"
        },
        {
          "output_type": "stream",
          "text": [
            "EPOCH:  34%|███▍      | 1679/4887 [02:49<06:12,  8.60it/s]"
          ],
          "name": "stderr"
        },
        {
          "output_type": "stream",
          "text": [
            "Step 31000/4887 | Train_loss 0.2054\n"
          ],
          "name": "stdout"
        },
        {
          "output_type": "stream",
          "text": [
            "EPOCH:  55%|█████▍    | 2680/4887 [04:28<03:22, 10.90it/s]"
          ],
          "name": "stderr"
        },
        {
          "output_type": "stream",
          "text": [
            "Step 32000/4887 | Train_loss 0.1196\n"
          ],
          "name": "stdout"
        },
        {
          "output_type": "stream",
          "text": [
            "EPOCH:  75%|███████▌  | 3680/4887 [06:09<02:00,  9.98it/s]"
          ],
          "name": "stderr"
        },
        {
          "output_type": "stream",
          "text": [
            "Step 33000/4887 | Train_loss 0.1082\n"
          ],
          "name": "stdout"
        },
        {
          "output_type": "stream",
          "text": [
            "EPOCH:  96%|█████████▌| 4681/4887 [07:53<00:22,  9.15it/s]"
          ],
          "name": "stderr"
        },
        {
          "output_type": "stream",
          "text": [
            "Step 34000/4887 | Train_loss 0.1375\n"
          ],
          "name": "stdout"
        },
        {
          "output_type": "stream",
          "text": [
            "EPOCH: 100%|██████████| 4887/4887 [08:18<00:00,  9.81it/s]"
          ],
          "name": "stderr"
        },
        {
          "output_type": "stream",
          "text": [
            "Epoch 6/10 | Train_loss 0.1481 | Val_loss 0.1394\n"
          ],
          "name": "stdout"
        },
        {
          "output_type": "stream",
          "text": [
            "\n",
            "EPOCH:  16%|█▌        | 793/4887 [01:19<06:31, 10.45it/s]"
          ],
          "name": "stderr"
        },
        {
          "output_type": "stream",
          "text": [
            "Step 35000/4887 | Train_loss 0.1736\n"
          ],
          "name": "stdout"
        },
        {
          "output_type": "stream",
          "text": [
            "EPOCH:  37%|███▋      | 1793/4887 [03:00<04:39, 11.08it/s]"
          ],
          "name": "stderr"
        },
        {
          "output_type": "stream",
          "text": [
            "Step 36000/4887 | Train_loss 0.1546\n"
          ],
          "name": "stdout"
        },
        {
          "output_type": "stream",
          "text": [
            "EPOCH:  57%|█████▋    | 2792/4887 [04:43<03:06, 11.24it/s]"
          ],
          "name": "stderr"
        },
        {
          "output_type": "stream",
          "text": [
            "Step 37000/4887 | Train_loss 0.0839\n"
          ],
          "name": "stdout"
        },
        {
          "output_type": "stream",
          "text": [
            "EPOCH:  78%|███████▊  | 3792/4887 [06:24<01:57,  9.35it/s]"
          ],
          "name": "stderr"
        },
        {
          "output_type": "stream",
          "text": [
            "Step 38000/4887 | Train_loss 0.1222\n"
          ],
          "name": "stdout"
        },
        {
          "output_type": "stream",
          "text": [
            "EPOCH:  98%|█████████▊| 4792/4887 [08:07<00:08, 10.96it/s]"
          ],
          "name": "stderr"
        },
        {
          "output_type": "stream",
          "text": [
            "Step 39000/4887 | Train_loss 0.1999\n"
          ],
          "name": "stdout"
        },
        {
          "output_type": "stream",
          "text": [
            "EPOCH: 100%|██████████| 4887/4887 [08:20<00:00,  9.77it/s]"
          ],
          "name": "stderr"
        },
        {
          "output_type": "stream",
          "text": [
            "Epoch 7/10 | Train_loss 0.1474 | Val_loss 0.1420\n"
          ],
          "name": "stdout"
        },
        {
          "output_type": "stream",
          "text": [
            "\n",
            "EPOCH:  19%|█▊        | 907/4887 [01:32<06:35, 10.07it/s]"
          ],
          "name": "stderr"
        },
        {
          "output_type": "stream",
          "text": [
            "Step 40000/4887 | Train_loss 0.1321\n"
          ],
          "name": "stdout"
        },
        {
          "output_type": "stream",
          "text": [
            "EPOCH:  39%|███▉      | 1906/4887 [03:13<04:41, 10.59it/s]"
          ],
          "name": "stderr"
        },
        {
          "output_type": "stream",
          "text": [
            "Step 41000/4887 | Train_loss 0.0848\n"
          ],
          "name": "stdout"
        },
        {
          "output_type": "stream",
          "text": [
            "EPOCH:  59%|█████▉    | 2907/4887 [04:55<03:13, 10.24it/s]"
          ],
          "name": "stderr"
        },
        {
          "output_type": "stream",
          "text": [
            "Step 42000/4887 | Train_loss 0.0788\n"
          ],
          "name": "stdout"
        },
        {
          "output_type": "stream",
          "text": [
            "EPOCH:  80%|███████▉  | 3905/4887 [06:36<01:40,  9.72it/s]"
          ],
          "name": "stderr"
        },
        {
          "output_type": "stream",
          "text": [
            "Step 43000/4887 | Train_loss 0.1844\n"
          ],
          "name": "stdout"
        },
        {
          "output_type": "stream",
          "text": [
            "EPOCH: 100%|██████████| 4887/4887 [08:18<00:00,  9.81it/s]"
          ],
          "name": "stderr"
        },
        {
          "output_type": "stream",
          "text": [
            "Epoch 8/10 | Train_loss 0.1472 | Val_loss 0.1385\n"
          ],
          "name": "stdout"
        },
        {
          "output_type": "stream",
          "text": [
            "\n",
            "EPOCH:   0%|          | 19/4887 [00:02<11:13,  7.23it/s]"
          ],
          "name": "stderr"
        },
        {
          "output_type": "stream",
          "text": [
            "Step 44000/4887 | Train_loss 0.1548\n"
          ],
          "name": "stdout"
        },
        {
          "output_type": "stream",
          "text": [
            "EPOCH:  21%|██        | 1019/4887 [01:46<05:53, 10.94it/s]"
          ],
          "name": "stderr"
        },
        {
          "output_type": "stream",
          "text": [
            "Step 45000/4887 | Train_loss 0.0301\n"
          ],
          "name": "stdout"
        },
        {
          "output_type": "stream",
          "text": [
            "EPOCH:  41%|████▏     | 2019/4887 [03:27<05:40,  8.42it/s]"
          ],
          "name": "stderr"
        },
        {
          "output_type": "stream",
          "text": [
            "Step 46000/4887 | Train_loss 0.2728\n"
          ],
          "name": "stdout"
        },
        {
          "output_type": "stream",
          "text": [
            "EPOCH:  62%|██████▏   | 3018/4887 [05:09<02:36, 11.96it/s]"
          ],
          "name": "stderr"
        },
        {
          "output_type": "stream",
          "text": [
            "Step 47000/4887 | Train_loss 0.0855\n"
          ],
          "name": "stdout"
        },
        {
          "output_type": "stream",
          "text": [
            "EPOCH:  82%|████████▏ | 4019/4887 [06:50<01:28,  9.76it/s]"
          ],
          "name": "stderr"
        },
        {
          "output_type": "stream",
          "text": [
            "Step 48000/4887 | Train_loss 0.1897\n"
          ],
          "name": "stdout"
        },
        {
          "output_type": "stream",
          "text": [
            "EPOCH: 100%|██████████| 10/10 [1:23:22<00:00, 499.66s/it]"
          ],
          "name": "stderr"
        },
        {
          "output_type": "stream",
          "text": [
            "Epoch 9/10 | Train_loss 0.1478 | Val_loss 0.1443\n"
          ],
          "name": "stdout"
        }
      ]
    },
    {
      "cell_type": "code",
      "metadata": {
        "id": "-WIDvKYxWsDW",
        "colab_type": "code",
        "colab": {}
      },
      "source": [
        ""
      ],
      "execution_count": null,
      "outputs": []
    }
  ]
}