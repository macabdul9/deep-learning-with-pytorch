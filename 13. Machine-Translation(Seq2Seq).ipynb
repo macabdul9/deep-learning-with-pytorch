{
 "cells": [
  {
   "cell_type": "code",
   "execution_count": 1,
   "metadata": {},
   "outputs": [],
   "source": [
    "# model\n",
    "import torch\n",
    "import torch.nn as nn\n",
    "\n",
    "# data \n",
    "import torchtext\n",
    "from torchtext.datasets import Multi30k\n",
    "from torchtext.data import Field, BucketIterator\n",
    "\n",
    "#training \n",
    "import tqdm "
   ]
  },
  {
   "cell_type": "code",
   "execution_count": 2,
   "metadata": {},
   "outputs": [],
   "source": [
    "### Random seed for deterministic results\n",
    "SEED = 42\n",
    "torch.manual_seed(SEED)\n",
    "torch.cuda.manual_seed(SEED)\n",
    "torch.backends.cudnn.deterministic = True"
   ]
  },
  {
   "cell_type": "code",
   "execution_count": 8,
   "metadata": {},
   "outputs": [],
   "source": [
    "device = torch.device(\"cuda\" if torch.cuda.is_available() else \"cpu\")"
   ]
  },
  {
   "cell_type": "code",
   "execution_count": 9,
   "metadata": {},
   "outputs": [
    {
     "output_type": "execute_result",
     "data": {
      "text/plain": "device(type='cuda')"
     },
     "metadata": {},
     "execution_count": 9
    }
   ],
   "source": [
    "device"
   ]
  },
  {
   "cell_type": "markdown",
   "metadata": {},
   "source": [
    "### Data "
   ]
  },
  {
   "cell_type": "code",
   "execution_count": 10,
   "metadata": {},
   "outputs": [],
   "source": [
    "BATCH_SIZE = 128\n",
    "max_len = 48"
   ]
  },
  {
   "cell_type": "code",
   "execution_count": 11,
   "metadata": {},
   "outputs": [],
   "source": [
    "# SRC Field\n",
    "SRC = Field(\n",
    "    tokenize=\"spacy\",\n",
    "    tokenizer_language=\"de\",\n",
    "    batch_first=True,\n",
    "    lower=True\n",
    ")"
   ]
  },
  {
   "cell_type": "code",
   "execution_count": 12,
   "metadata": {},
   "outputs": [],
   "source": [
    "# TRG Field\n",
    "TRG = Field(\n",
    "    tokenize=\"spacy\",\n",
    "    tokenizer_language=\"en\",\n",
    "    batch_first=True,\n",
    "    lower=True\n",
    ")"
   ]
  },
  {
   "cell_type": "code",
   "execution_count": 13,
   "metadata": {},
   "outputs": [],
   "source": [
    "## download the dataset\n",
    "train, valid, test = Multi30k.splits(exts=(\".de\", \".en\"), fields=(SRC, TRG))"
   ]
  },
  {
   "cell_type": "code",
   "execution_count": 14,
   "metadata": {},
   "outputs": [],
   "source": [
    "# Bulding the vocab\n",
    "SRC.build_vocab(train, min_freq=2)\n",
    "TRG.build_vocab(train, min_freq=2)"
   ]
  },
  {
   "cell_type": "code",
   "execution_count": 15,
   "metadata": {},
   "outputs": [],
   "source": [
    "# Data loader\n",
    "train_loader, val_loader, test_loader = BucketIterator.splits(\n",
    "    datasets=(train, valid, test),\n",
    "    batch_size=BATCH_SIZE,\n",
    "    device=device\n",
    ")"
   ]
  },
  {
   "cell_type": "code",
   "execution_count": 16,
   "metadata": {
    "tags": []
   },
   "outputs": [
    {
     "output_type": "stream",
     "name": "stdout",
     "text": "torch.Size([128, 30])\ntorch.Size([128, 32])\n"
    }
   ],
   "source": [
    "for i, batch in enumerate(train_loader):\n",
    "    print(batch.src.size())\n",
    "    print(batch.trg.size())\n",
    "    break"
   ]
  },
  {
   "cell_type": "code",
   "execution_count": 17,
   "metadata": {
    "tags": []
   },
   "outputs": [
    {
     "output_type": "stream",
     "name": "stdout",
     "text": "English vocab 5891\nGerman vocab 7853\n"
    }
   ],
   "source": [
    "## Vocan Insepction\n",
    "print(f'English vocab {len(TRG.vocab)}\\nGerman vocab {len(SRC.vocab)}')"
   ]
  },
  {
   "cell_type": "markdown",
   "metadata": {},
   "source": [
    "### Seq2Seq Model"
   ]
  },
  {
   "cell_type": "markdown",
   "metadata": {},
   "source": [
    "#### Encoder"
   ]
  },
  {
   "cell_type": "code",
   "execution_count": 18,
   "metadata": {},
   "outputs": [],
   "source": [
    "class Encoder(nn.Module):\n",
    "    \n",
    "    def __init__(self, hidden_dim, embedding_dim, vocab_size, num_layers=2, dropout=0.25):\n",
    "        super(Encoder, self).__init__()\n",
    "        \n",
    "        self.hidden_dim = hidden_dim\n",
    "        self.num_layers = num_layers\n",
    "        \n",
    "        self.embedding = nn.Embedding(num_embeddings=vocab_size, embedding_dim=embedding_dim)\n",
    "        self.seq = nn.LSTM(\n",
    "            input_size=embedding_dim, \n",
    "            hidden_size=hidden_dim, \n",
    "            num_layers=num_layers, \n",
    "            batch_first=True, \n",
    "            dropout=dropout\n",
    "        )\n",
    "        self.dropout = nn.Dropout(p=dropout)\n",
    "    \n",
    "    def forward(self, src):\n",
    "        \n",
    "        embedded = self.embedding(src)\n",
    "        \n",
    "        outputs, (hidden, cell) = self.seq(embedded)\n",
    "        \n",
    "        return hidden, cell        "
   ]
  },
  {
   "cell_type": "markdown",
   "metadata": {},
   "source": [
    "#### Decoder"
   ]
  },
  {
   "cell_type": "code",
   "execution_count": 19,
   "metadata": {},
   "outputs": [],
   "source": [
    "class Decoder(nn.Module):\n",
    "    \n",
    "    def __init__(self, vocab_size, embedding_dim, hidden_dim, num_layers=2, dropout=0.25):\n",
    "        super(Decoder, self).__init__()\n",
    "        \n",
    "        self.hidden_dim = hidden_dim\n",
    "        self.num_layers = num_layers\n",
    "        self.output_dim = vocab_size\n",
    "        \n",
    "        self.embedding  = nn.Embedding(num_embeddings=vocab_size, embedding_dim=embedding_dim)\n",
    "        self.seq = nn.LSTM(\n",
    "            input_size=embedding_dim, \n",
    "            hidden_size=hidden_dim, \n",
    "            num_layers=num_layers, \n",
    "            batch_first=True, \n",
    "            dropout=dropout\n",
    "        )\n",
    "        self.dropout = nn.Dropout(p=dropout)\n",
    "        self.fc = nn.Linear(in_features=hidden_dim, out_features=vocab_size)\n",
    "    \n",
    "    def forward(self, x, hidden, cell):\n",
    "        \n",
    "        x = x.unsqueeze(1)\n",
    "        \n",
    "        embedded = self.dropout(self.embedding(x))\n",
    "        \n",
    "        output, (hidden, cell) = self.seq(embedded, (hidden, cell))\n",
    "        \n",
    "        prediction = self.fc(output.squeeze(0))\n",
    "        \n",
    "        return prediction, hidden, cell    "
   ]
  },
  {
   "cell_type": "code",
   "execution_count": 20,
   "metadata": {},
   "outputs": [],
   "source": [
    "## Hidden_dim dim and num_layers of encoder and decoder must be sam "
   ]
  },
  {
   "cell_type": "code",
   "execution_count": 21,
   "metadata": {},
   "outputs": [],
   "source": [
    "class Seq2Seq(nn.Module):\n",
    "    \n",
    "    def __init__(self, encoder, decoder):\n",
    "        super(Seq2Seq, self).__init__()\n",
    "        self.encoder  = encoder\n",
    "        self.decoder = decoder\n",
    "        \n",
    "    \n",
    "    def forward(self, src, trg):\n",
    "\n",
    "        \n",
    "        batch_size = src.size(0)\n",
    "        trg_len = trg.size(1)\n",
    "        \n",
    "        trg_vocab_size = self.decoder.output_dim\n",
    "        \n",
    "        hidden, cell = encoder(src)\n",
    "\n",
    "        outputs = torch.zeros((batch_size, trg_len, self.decoder.output_dim), device=device)\n",
    "\n",
    "        input = trg[:, 0]\n",
    "\n",
    "        for t in range(1, trg_len):\n",
    "            prediction, hidden, cell = self.decoder(input, hidden, cell)\n",
    "\n",
    "            outputs[:, t] = prediction.squeeze()\n",
    "            input = trg[:, t]\n",
    "        \n",
    "        return outputs \n",
    "             "
   ]
  },
  {
   "cell_type": "markdown",
   "metadata": {},
   "source": [
    "### Training"
   ]
  },
  {
   "cell_type": "code",
   "execution_count": 32,
   "metadata": {},
   "outputs": [],
   "source": [
    "encoder = Encoder(hidden_dim=64, embedding_dim=100, vocab_size=len(SRC.vocab)).to(device)\n",
    "decoder = Decoder(vocab_size=len(TRG.vocab), embedding_dim=100, hidden_dim=64).to(device)\n",
    "model = Seq2Seq(encoder, decoder).to(device)"
   ]
  },
  {
   "cell_type": "code",
   "execution_count": 33,
   "metadata": {},
   "outputs": [],
   "source": [
    "# model(batch.src, batch.trg).shape"
   ]
  },
  {
   "cell_type": "code",
   "execution_count": 34,
   "metadata": {},
   "outputs": [],
   "source": [
    "lr = 1e-3\n",
    "epochs = 10\n",
    "TRG_PAD_IDX = TRG.vocab.stoi[TRG.pad_token]\n"
   ]
  },
  {
   "cell_type": "code",
   "execution_count": 35,
   "metadata": {},
   "outputs": [],
   "source": [
    "###\n",
    "optimizer = torch.optim.Adam(params=model.parameters(), lr=lr)\n",
    "criterion = nn.CrossEntropyLoss(ignore_index=TRG_PAD_IDX).to(device)"
   ]
  },
  {
   "cell_type": "code",
   "execution_count": 36,
   "metadata": {},
   "outputs": [],
   "source": [
    "def eval(model, data, criterion):\n",
    "    losses = []\n",
    "    with torch.no_grad():\n",
    "        for batch in data:\n",
    "            outputs = model(batch.src, batch.trg)\n",
    "            loss = criterion(outputs.view(outputs.shape[0]*outputs.shape[1], outputs.shape[2]), batch.trg.view(-1))\n",
    "            losses.append(loss.item())\n",
    "    return sum(losses)/len(losses)\n",
    "            "
   ]
  },
  {
   "cell_type": "code",
   "execution_count": 37,
   "metadata": {
    "tags": []
   },
   "outputs": [
    {
     "output_type": "stream",
     "name": "stdout",
     "text": "Epoch 0/10 | Step 227/227 | Train_loss 6.15 | Train_ppl 471.05\nEpoch 1/10 | Step 454/227 | Train_loss 5.62 | Train_ppl 274.53\nEpoch 2/10 | Step 681/227 | Train_loss 5.30 | Train_ppl 201.33\nEpoch 3/10 | Step 908/227 | Train_loss 5.03 | Train_ppl 153.12\nEpoch 4/10 | Step 1135/227 | Train_loss 4.83 | Train_ppl 125.82\nEpoch 5/10 | Step 1362/227 | Train_loss 4.70 | Train_ppl 109.98\nEpoch 6/10 | Step 1589/227 | Train_loss 4.60 | Train_ppl 99.35\nEpoch 7/10 | Step 1816/227 | Train_loss 4.50 | Train_ppl 90.34\nEpoch 8/10 | Step 2043/227 | Train_loss 4.42 | Train_ppl 82.77\nEpoch 9/10 | Step 2270/227 | Train_loss 4.34 | Train_ppl 76.90\n"
    }
   ],
   "source": [
    "steps = 0\n",
    "\n",
    "for epoch in range(epochs):\n",
    "    \n",
    "    train_loss = []\n",
    "    \n",
    "    for batch in train_loader:\n",
    "        src = batch.src\n",
    "        trg = batch.trg\n",
    "        \n",
    "        outputs = model(src, trg)\n",
    "        \n",
    "        loss = criterion(outputs.view(outputs.shape[0]*outputs.shape[1], outputs.shape[2]), trg.view(-1))\n",
    "\n",
    "        optimizer.zero_grad()\n",
    "        loss.backward()\n",
    "        optimizer.step()\n",
    "        \n",
    "        train_loss.append(loss.item())\n",
    "\n",
    "        steps += 1\n",
    "\n",
    "    \n",
    "    avg_loss = sum(train_loss)/len(train_loss)\n",
    "    avg_ppl = torch.exp(torch.tensor([avg_loss])).item()\n",
    "\n",
    "    # val_loss = eval(model, val_loader, criterion)\n",
    "    # val_ppl = torch.exp(torch.tensor([val_loss])).item()\n",
    "    \n",
    "    print(f'Epoch {epoch}/{epochs} | Step {steps}/{len(train_loader)} | Train_loss {avg_loss:.2f} | Train_ppl {avg_ppl:.2f}')\n",
    "\n"
   ]
  },
  {
   "cell_type": "code",
   "execution_count": 38,
   "metadata": {},
   "outputs": [
    {
     "output_type": "execute_result",
     "data": {
      "text/plain": "4.311398983001709"
     },
     "metadata": {},
     "execution_count": 38
    }
   ],
   "source": [
    "eval(model, val_loader, criterion)"
   ]
  },
  {
   "cell_type": "code",
   "execution_count": null,
   "metadata": {},
   "outputs": [],
   "source": []
  }
 ],
 "metadata": {
  "kernelspec": {
   "display_name": "Python 3.7.6 64-bit ('base': conda)",
   "language": "python",
   "name": "python37664bitbaseconda1b4d65181bfe435290e55078ed6e0090"
  },
  "language_info": {
   "codemirror_mode": {
    "name": "ipython",
    "version": 3
   },
   "file_extension": ".py",
   "mimetype": "text/x-python",
   "name": "python",
   "nbconvert_exporter": "python",
   "pygments_lexer": "ipython3",
   "version": "3.7.6-final"
  }
 },
 "nbformat": 4,
 "nbformat_minor": 4
}