{
 "cells": [
  {
   "cell_type": "code",
   "execution_count": 101,
   "metadata": {},
   "outputs": [],
   "source": [
    "import torch\n",
    "import torch.nn as nn\n",
    "import torchvision\n",
    "import pytorch_lightning as pl\n",
    "from tqdm import tqdm\n",
    "import matplotlib.pyplot as plt"
   ]
  },
  {
   "cell_type": "markdown",
   "metadata": {},
   "source": [
    "#### Autoencoder with PyTorch-Lightning"
   ]
  },
  {
   "cell_type": "code",
   "execution_count": 97,
   "metadata": {},
   "outputs": [],
   "source": [
    "class Autoencoder(pl.LightningModule):\n",
    "    \n",
    "    def __init__(self):\n",
    "        super(Autoencoder, self).__init__()\n",
    "        # contracting path\n",
    "        self.down_nn_1 = self.nn_layer(in_features=784, out_features=512)\n",
    "        self.down_nn_2 = self.nn_layer(in_features=512, out_features=256)\n",
    "        self.down_nn_3 = self.nn_layer(in_features=256, out_features=128)\n",
    "        self.down_nn_4 = self.nn_layer(in_features=128, out_features=64)\n",
    "        self.down_nn_5 = self.nn_layer(in_features=64, out_features=32)\n",
    "        # expansive path\n",
    "        self.up_nn_1 = self.nn_layer(in_features=32, out_features=64)\n",
    "        self.up_nn_2 = self.nn_layer(in_features=64, out_features=128)\n",
    "        self.up_nn_3 = self.nn_layer(in_features=128, out_features=256)\n",
    "        self.up_nn_4 = self.nn_layer(in_features=256, out_features=512)\n",
    "        self.output = self.nn_layer(in_features=512, out_features=784)\n",
    "        self.relu = torch.nn.ReLU()\n",
    "    \n",
    "    def forward(self, x):\n",
    "        # x.size() -> [batch_size, width, height] convert this to [batch_size, width*height]\n",
    "        x1 = self.relu(self.down_nn_1(x))\n",
    "        x2 = self.relu(self.down_nn_2(x1))\n",
    "        x3 = self.relu(self.down_nn_3(x2))\n",
    "        x4 = self.relu(self.down_nn_4(x3))\n",
    "        x5 = self.relu(self.down_nn_5(x4))\n",
    "        x_4 = self.relu(self.up_nn_1(x5))\n",
    "        x_3 = self.relu(self.up_nn_2(x_4))\n",
    "        x_2 = self.relu(self.up_nn_3(x_3))\n",
    "        x_1 = self.relu(self.up_nn_4(x_2))\n",
    "        out = self.relu(self.output(x_1))\n",
    "        return out\n",
    "        \n",
    "    def nn_layer(self, in_features, out_features):\n",
    "        layer = nn.Linear(in_features=in_features, out_features=out_features)\n",
    "        return layer\n",
    "    \n",
    "    def configure_optimizers(self):\n",
    "        return torch.optim.Adam(self.parameters(), lr=1e-3)\n",
    "    \n",
    "    def prepare_data(self, train=True):\n",
    "        data = torchvision.datasets.MNIST(\n",
    "            root=\"./data/\",\n",
    "            train=train,\n",
    "            transform=torchvision.transforms.ToTensor(),\n",
    "            download=True\n",
    "        )\n",
    "        return data\n",
    "    \n",
    "    def train_dataloader(self):\n",
    "        data = self.prepare_data(train=True)\n",
    "        loader = torch.utils.data.DataLoader(dataset=data, batch_size=64, shuffle=True)\n",
    "        return loader\n",
    "    \n",
    "    def training_step(self, batch, batch_idx):\n",
    "        x, y = batch\n",
    "#         print(x.size())\n",
    "        x = x.view(-1, x.size(2)*x.size(3))\n",
    "#         print(x.size())\n",
    "        x_new = self(x)\n",
    "#         x = x.long()\n",
    "#         print(x_new.dtype)\n",
    "        loss = torch.nn.functional.mse_loss(x_new, x)\n",
    "        tensorboard_logs = {'train_loss': loss}\n",
    "        return {'loss': loss, 'log': tensorboard_logs}"
   ]
  },
  {
   "cell_type": "code",
   "execution_count": 98,
   "metadata": {},
   "outputs": [],
   "source": [
    "model = Autoencoder()"
   ]
  },
  {
   "cell_type": "code",
   "execution_count": 99,
   "metadata": {},
   "outputs": [
    {
     "name": "stderr",
     "output_type": "stream",
     "text": [
      "GPU available: True, used: True\n",
      "No environment variable for node rank defined. Set as 0.\n",
      "CUDA_VISIBLE_DEVICES: [0]\n"
     ]
    }
   ],
   "source": [
    "trainer = pl.Trainer(gpus=[0], max_epochs=50, show_progress_bar=True)"
   ]
  },
  {
   "cell_type": "code",
   "execution_count": 100,
   "metadata": {},
   "outputs": [
    {
     "name": "stderr",
     "output_type": "stream",
     "text": [
      "\n",
      "   | Name      | Type   | Params\n",
      "---------------------------------\n",
      "0  | down_nn_1 | Linear | 401 K \n",
      "1  | down_nn_2 | Linear | 131 K \n",
      "2  | down_nn_3 | Linear | 32 K  \n",
      "3  | down_nn_4 | Linear | 8 K   \n",
      "4  | down_nn_5 | Linear | 2 K   \n",
      "5  | up_nn_1   | Linear | 2 K   \n",
      "6  | up_nn_2   | Linear | 8 K   \n",
      "7  | up_nn_3   | Linear | 33 K  \n",
      "8  | up_nn_4   | Linear | 131 K \n",
      "9  | output    | Linear | 402 K \n",
      "10 | relu      | ReLU   | 0     \n"
     ]
    },
    {
     "name": "stdout",
     "output_type": "stream",
     "text": [
      "Epoch 1:   2%|▏         | 19/938 [00:00<00:08, 105.44it/s, loss=0.093, v_num=0]"
     ]
    },
    {
     "name": "stderr",
     "output_type": "stream",
     "text": [
      "/home/macab/miniconda3/lib/python3.7/site-packages/pytorch_lightning/utilities/distributed.py:23: UserWarning: The dataloader, train dataloader, does not have many workers which may be a bottleneck. Consider increasing the value of the `num_workers` argument` in the `DataLoader` init to improve performance.\n",
      "  warnings.warn(*args, **kwargs)\n"
     ]
    },
    {
     "name": "stdout",
     "output_type": "stream",
     "text": [
      "Epoch 2:   2%|▏         | 18/938 [00:00<00:09, 95.93it/s, loss=0.036, v_num=0]  "
     ]
    },
    {
     "name": "stderr",
     "output_type": "stream",
     "text": [
      "/home/macab/miniconda3/lib/python3.7/site-packages/pytorch_lightning/utilities/distributed.py:23: UserWarning: Did not find hyperparameters at model hparams. Saving checkpoint without hyperparameters.\n",
      "  warnings.warn(*args, **kwargs)\n"
     ]
    },
    {
     "name": "stdout",
     "output_type": "stream",
     "text": [
      "Epoch 50: 100%|██████████| 938/938 [00:11<00:00, 81.86it/s, loss=0.012, v_num=0] \n"
     ]
    },
    {
     "data": {
      "text/plain": [
       "1"
      ]
     },
     "execution_count": 100,
     "metadata": {},
     "output_type": "execute_result"
    }
   ],
   "source": [
    "trainer.fit(model)"
   ]
  },
  {
   "cell_type": "code",
   "execution_count": 106,
   "metadata": {},
   "outputs": [],
   "source": [
    "data = torchvision.datasets.MNIST(root=\"./data/\", download=True, train=False, transform=torchvision.transforms.ToTensor())\n",
    "loader = torch.utils.data.DataLoader(dataset=data, shuffle=True, batch_size=64)"
   ]
  },
  {
   "cell_type": "code",
   "execution_count": 107,
   "metadata": {},
   "outputs": [],
   "source": [
    "x, y = next(iter(loader))"
   ]
  },
  {
   "cell_type": "code",
   "execution_count": 118,
   "metadata": {},
   "outputs": [
    {
     "data": {
      "text/plain": [
       "<matplotlib.image.AxesImage at 0x7f7ad4105990>"
      ]
     },
     "execution_count": 118,
     "metadata": {},
     "output_type": "execute_result"
    },
    {
     "data": {
      "image/png": "[encoded data removed]",
      "text/plain": [
       "<Figure size 432x288 with 1 Axes>"
      ]
     },
     "metadata": {
      "needs_background": "light"
     },
     "output_type": "display_data"
    }
   ],
   "source": [
    "plt.imshow(x[1].squeeze(), cmap=\"gray\")"
   ]
  },
  {
   "cell_type": "code",
   "execution_count": 121,
   "metadata": {},
   "outputs": [],
   "source": [
    "inp = x[1].view(-1, x[0].size(1)*x[0].size(2)).cuda()"
   ]
  },
  {
   "cell_type": "code",
   "execution_count": 122,
   "metadata": {},
   "outputs": [
    {
     "data": {
      "text/plain": [
       "torch.Size([1, 784])"
      ]
     },
     "execution_count": 122,
     "metadata": {},
     "output_type": "execute_result"
    }
   ],
   "source": [
    "inp.shape"
   ]
  },
  {
   "cell_type": "code",
   "execution_count": 123,
   "metadata": {},
   "outputs": [],
   "source": [
    "out = model(inp)"
   ]
  },
  {
   "cell_type": "code",
   "execution_count": 124,
   "metadata": {},
   "outputs": [],
   "source": [
    "out = out.cpu()"
   ]
  },
  {
   "cell_type": "code",
   "execution_count": 125,
   "metadata": {},
   "outputs": [
    {
     "data": {
      "text/plain": [
       "<matplotlib.image.AxesImage at 0x7f7ad416f510>"
      ]
     },
     "execution_count": 125,
     "metadata": {},
     "output_type": "execute_result"
    },
    {
     "data": {
      "image/png": "[encoded data removed]",
      "text/plain": [
       "<Figure size 432x288 with 1 Axes>"
      ]
     },
     "metadata": {
      "needs_background": "light"
     },
     "output_type": "display_data"
    }
   ],
   "source": [
    "plt.imshow(out.detach().squeeze().view(28, 28), cmap=\"gray\")"
   ]
  },
  {
   "cell_type": "code",
   "execution_count": null,
   "metadata": {},
   "outputs": [
    {
     "name": "stdout",
     "output_type": "stream",
     "text": [
      "TensorBoard 1.13.1 at http://macab:6006 (Press CTRL+C to quit)\n",
      "I0624 06:57:36.461004 140664121583360 _internal.py:113] ::ffff:127.0.0.1 - - [24/Jun/2020 06:57:36] \"\u001b[37mGET / HTTP/1.1\u001b[0m\" 200 -\n",
      "I0624 06:57:37.276897 140664121583360 _internal.py:113] ::ffff:127.0.0.1 - - [24/Jun/2020 06:57:37] \"\u001b[37mGET /tf-interactive-inference-dashboard/editedexample.png HTTP/1.1\u001b[0m\" 200 -\n",
      "I0624 06:57:37.277415 140664113190656 _internal.py:113] ::ffff:127.0.0.1 - - [24/Jun/2020 06:57:37] \"\u001b[37mGET /tf-interactive-inference-dashboard/distance.png HTTP/1.1\u001b[0m\" 200 -\n",
      "I0624 06:57:37.278150 140664104797952 _internal.py:113] ::ffff:127.0.0.1 - - [24/Jun/2020 06:57:37] \"\u001b[37mGET /tf-interactive-inference-dashboard/explorecounterfactuals.png HTTP/1.1\u001b[0m\" 200 -\n",
      "I0624 06:57:37.285941 140664104797952 _internal.py:113] ::ffff:127.0.0.1 - - [24/Jun/2020 06:57:37] \"\u001b[37mGET /tf-interactive-inference-dashboard/pdplots.png HTTP/1.1\u001b[0m\" 200 -\n",
      "I0624 06:57:37.344792 140664113190656 _internal.py:113] ::ffff:127.0.0.1 - - [24/Jun/2020 06:57:37] \"\u001b[37mGET /data/environment HTTP/1.1\u001b[0m\" 200 -\n",
      "I0624 06:57:37.345888 140664121583360 _internal.py:113] ::ffff:127.0.0.1 - - [24/Jun/2020 06:57:37] \"\u001b[37mGET /data/runs HTTP/1.1\u001b[0m\" 200 -\n",
      "I0624 06:57:37.347606 140664088012544 _internal.py:113] ::ffff:127.0.0.1 - - [24/Jun/2020 06:57:37] \"\u001b[37mGET /data/experiments HTTP/1.1\u001b[0m\" 200 -\n",
      "I0624 06:57:37.347986 140664104797952 _internal.py:113] ::ffff:127.0.0.1 - - [24/Jun/2020 06:57:37] \"\u001b[37mGET /data/plugins_listing HTTP/1.1\u001b[0m\" 200 -\n",
      "I0624 06:57:37.481878 140664104797952 _internal.py:113] ::ffff:127.0.0.1 - - [24/Jun/2020 06:57:37] \"\u001b[37mGET /data/plugin/scalars/tags HTTP/1.1\u001b[0m\" 200 -\n",
      "I0624 06:57:37.587955 140664104797952 _internal.py:113] ::ffff:127.0.0.1 - - [24/Jun/2020 06:57:37] \"\u001b[37mGET /font-roboto/RxZJdnzeo3R5zSexge8UUZBw1xU1rKptJj_0jans920.woff2 HTTP/1.1\u001b[0m\" 200 -\n",
      "I0624 06:57:37.588336 140664088012544 _internal.py:113] ::ffff:127.0.0.1 - - [24/Jun/2020 06:57:37] \"\u001b[37mGET /font-roboto/oMMgfZMQthOryQo9n22dcuvvDin1pK8aKteLpeZ5c0A.woff2 HTTP/1.1\u001b[0m\" 200 -\n",
      "I0624 06:57:37.867317 140664113190656 _internal.py:113] ::ffff:127.0.0.1 - - [24/Jun/2020 06:57:37] \"\u001b[37mGET /data/experiments HTTP/1.1\u001b[0m\" 200 -\n",
      "I0624 06:57:37.867667 140664121583360 _internal.py:113] ::ffff:127.0.0.1 - - [24/Jun/2020 06:57:37] \"\u001b[37mGET /data/runs HTTP/1.1\u001b[0m\" 200 -\n",
      "I0624 06:57:37.869261 140664104797952 _internal.py:113] ::ffff:127.0.0.1 - - [24/Jun/2020 06:57:37] \"\u001b[37mGET /data/environment HTTP/1.1\u001b[0m\" 200 -\n",
      "I0624 06:57:37.870586 140664088012544 _internal.py:113] ::ffff:127.0.0.1 - - [24/Jun/2020 06:57:37] \"\u001b[37mGET /data/plugins_listing HTTP/1.1\u001b[0m\" 200 -\n",
      "I0624 06:57:38.172345 140664088012544 _internal.py:113] ::ffff:127.0.0.1 - - [24/Jun/2020 06:57:38] \"\u001b[37mGET /data/plugin/scalars/tags HTTP/1.1\u001b[0m\" 200 -\n",
      "I0624 06:57:38.234168 140664088012544 _internal.py:113] ::ffff:127.0.0.1 - - [24/Jun/2020 06:57:38] \"\u001b[37mGET / HTTP/1.1\u001b[0m\" 200 -\n",
      "I0624 06:57:39.532765 140664088012544 _internal.py:113] ::ffff:127.0.0.1 - - [24/Jun/2020 06:57:39] \"\u001b[37mGET /data/plugin/scalars/scalars?tag=epoch&run=version_0&experiment= HTTP/1.1\u001b[0m\" 200 -\n",
      "I0624 06:57:39.533379 140664104797952 _internal.py:113] ::ffff:127.0.0.1 - - [24/Jun/2020 06:57:39] \"\u001b[37mGET /data/plugin/scalars/scalars?tag=train_loss&run=version_0&experiment= HTTP/1.1\u001b[0m\" 200 -\n",
      "I0624 06:57:41.383130 140664088012544 _internal.py:113] ::ffff:127.0.0.1 - - [24/Jun/2020 06:57:41] \"\u001b[37mGET /font-roboto/d-6IYplOFocCacKzxwXSOJBw1xU1rKptJj_0jans920.woff2 HTTP/1.1\u001b[0m\" 200 -\n"
     ]
    }
   ],
   "source": [
    "!tensorboard --logdir=lightning_logs"
   ]
  },
  {
   "cell_type": "code",
   "execution_count": null,
   "metadata": {},
   "outputs": [],
   "source": []
  }
 ],
 "metadata": {
  "kernelspec": {
   "display_name": "Python 3.7.6 64-bit ('base': conda)",
   "language": "python",
   "name": "python37664bitbaseconda1b4d65181bfe435290e55078ed6e0090"
  },
  "language_info": {
   "codemirror_mode": {
    "name": "ipython",
    "version": 3
   },
   "file_extension": ".py",
   "mimetype": "text/x-python",
   "name": "python",
   "nbconvert_exporter": "python",
   "pygments_lexer": "ipython3",
   "version": "3.7.6"
  }
 },
 "nbformat": 4,
 "nbformat_minor": 4
}
